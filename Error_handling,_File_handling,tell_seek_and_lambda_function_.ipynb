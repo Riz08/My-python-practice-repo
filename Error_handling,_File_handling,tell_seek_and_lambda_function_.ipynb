{
  "nbformat": 4,
  "nbformat_minor": 0,
  "metadata": {
    "colab": {
      "name": "Error handling, File handling,tell seek and lambda function .ipynb",
      "provenance": [],
      "authorship_tag": "ABX9TyPKyGLQB3m0+qA+dg5ceueM",
      "include_colab_link": true
    },
    "kernelspec": {
      "name": "python3",
      "display_name": "Python 3"
    },
    "language_info": {
      "name": "python"
    }
  },
  "cells": [
    {
      "cell_type": "markdown",
      "metadata": {
        "id": "view-in-github",
        "colab_type": "text"
      },
      "source": [
        "<a href=\"https://colab.research.google.com/github/Riz08/My-python-practice-repo/blob/main/Error_handling%2C_File_handling%2Ctell_seek_and_lambda_function_.ipynb\" target=\"_parent\"><img src=\"https://colab.research.google.com/assets/colab-badge.svg\" alt=\"Open In Colab\"/></a>"
      ]
    },
    {
      "cell_type": "code",
      "execution_count": 2,
      "metadata": {
        "colab": {
          "base_uri": "https://localhost:8080/"
        },
        "id": "TrbgIj9FlFZ_",
        "outputId": "6151ee47-056e-408e-cc95-1a2ab2a4435c"
      },
      "outputs": [
        {
          "output_type": "stream",
          "name": "stdout",
          "text": [
            "enter a number value between 1-100 13\n",
            "enter a number value between 100-200 0\n",
            "Number can not be divided by zero division by zero\n"
          ]
        }
      ],
      "source": [
        "###type of errors and error handling\n",
        "import math\n",
        "\n",
        "try:\n",
        "    a= int(input(\"enter a number value between 1-100 \"))\n",
        "    b= int(input(\"enter a number value between 100-200 \"))\n",
        "    \n",
        "    print (a/b)\n",
        "    \n",
        "except ZeroDivisionError as z:\n",
        "    print(\"Number can not be divided by zero\",z)\n",
        "\n",
        "\n",
        "except ValueError as v:\n",
        "    print(\"The input is invalid\",v)\n",
        "\n",
        "\n",
        "except Exception as e:\n",
        "    print(\"Some other error!!!\",e)"
      ]
    },
    {
      "cell_type": "code",
      "source": [
        "#how to raise an error\n",
        "\n",
        "\n",
        "try:\n",
        "    a= int(input(\"enter a number value between 1-100\"))\n",
        "    if a<0 or a>100:\n",
        "        raise IndexError(\"number not between 0 and 100\")\n",
        "except ValueError as v:\n",
        "    print(\"There is a value error present\",v)\n",
        "    \n",
        "    "
      ],
      "metadata": {
        "colab": {
          "base_uri": "https://localhost:8080/"
        },
        "id": "Jx0YdYIrlLaQ",
        "outputId": "3ca45561-ab85-47fd-df24-6a0b01424b99"
      },
      "execution_count": 3,
      "outputs": [
        {
          "output_type": "stream",
          "name": "stdout",
          "text": [
            "enter a number value between 1-100sdf\n",
            "There is a value error present invalid literal for int() with base 10: 'sdf'\n"
          ]
        }
      ]
    },
    {
      "cell_type": "code",
      "source": [
        ""
      ],
      "metadata": {
        "id": "qlAuc3cWla-u"
      },
      "execution_count": 4,
      "outputs": []
    },
    {
      "cell_type": "code",
      "source": [
        "#how to open a text file\n",
        "\n",
        "#file handing\n",
        "\n",
        "#process of file\n",
        "#1.open(filename,mode of file)\n",
        "#2.read or write a file\n",
        "#3.close a file(if file is not closed the changes will not be saved)\n",
        "\n",
        "#<r> It opens a file in read-only mode while the file offset stays at the root. \n",
        "#<w>It allows write-level access to a file. If the file already exists, then it’ll get overwritten. It’ll create a new file if the same doesn’t exist. \n",
        "#<a>It opens the file in append mode. The offset goes to the end of the file. If the file doesn’texist, then it gets created. \n",
        "#<a+> It opens a file in (append + read) modes. Same behavior as for appen\n",
        "\n",
        "\n",
        "try:\n",
        "    x=open(\"f2.txt\",\"w\")\n",
        "    print(\"Open_Sucessfully\")\n",
        "    res=x.write(\"welcome to Crypto market \")  #write\n",
        "    print(res)\n",
        "    x.close()\n",
        "except:\n",
        "    print(\"error in opening\") \n",
        "\n",
        "\n",
        "\n",
        "\n",
        "try:\n",
        "    b=open(\"f2.txt\",\"r\")\n",
        "    re_ad=b.read()    #READ\n",
        "    print(re_ad)\n",
        "    b.close()\n",
        "except:\n",
        "    print(\"error in opening\")\n",
        "    \n",
        "    \n",
        "\n"
      ],
      "metadata": {
        "colab": {
          "base_uri": "https://localhost:8080/"
        },
        "id": "Gx3jFSIMln7t",
        "outputId": "9d3cb7a8-306e-4d3c-be61-73db886e59d3"
      },
      "execution_count": 11,
      "outputs": [
        {
          "output_type": "stream",
          "name": "stdout",
          "text": [
            "Open_Sucessfully\n",
            "25\n",
            "welcome to Crypto market \n"
          ]
        }
      ]
    },
    {
      "cell_type": "code",
      "source": [
        "try:\n",
        "    d = open(\"f2.txt\",\"a\")\n",
        "    print(\"done\")\n",
        "    for i in range(6):\n",
        "    res = d.write(\"this line number %d \\n\" %(i+1))\n",
        "    d.close()\n",
        "except:\n",
        "    print(\"error\")"
      ],
      "metadata": {
        "colab": {
          "base_uri": "https://localhost:8080/",
          "height": 135
        },
        "id": "UJ5Wfh2jl46A",
        "outputId": "2a40883a-0162-4bb1-9855-93536d6c7cc8"
      },
      "execution_count": 16,
      "outputs": [
        {
          "output_type": "error",
          "ename": "IndentationError",
          "evalue": "ignored",
          "traceback": [
            "\u001b[0;36m  File \u001b[0;32m\"<ipython-input-16-80d49bd39f9f>\"\u001b[0;36m, line \u001b[0;32m5\u001b[0m\n\u001b[0;31m    res = d.write(\"this line number %d \\n\" %(i+1))\u001b[0m\n\u001b[0m      ^\u001b[0m\n\u001b[0;31mIndentationError\u001b[0m\u001b[0;31m:\u001b[0m expected an indented block\n"
          ]
        }
      ]
    },
    {
      "cell_type": "code",
      "source": [
        "##use of tell function to descibe file handler position or cursur position\n",
        "\n",
        "\n",
        "a=open(\"f3.txt\",'w')\n",
        "print(a.tell())\n",
        "data= 54231754\n",
        "a.write(str(data))\n",
        "print(data)\n",
        "print(a.tell())\n",
        "a.close()"
      ],
      "metadata": {
        "colab": {
          "base_uri": "https://localhost:8080/"
        },
        "id": "SPJVvGxhmSIV",
        "outputId": "36cb0393-8806-4f8c-8cde-9572004718e4"
      },
      "execution_count": 17,
      "outputs": [
        {
          "output_type": "stream",
          "name": "stdout",
          "text": [
            "0\n",
            "54231754\n",
            "8\n"
          ]
        }
      ]
    },
    {
      "cell_type": "code",
      "source": [
        "##useof seek \n",
        "#0 is starting position\n",
        "#1 is current position\n",
        "#2 end of file\n",
        "\n",
        "c=open(\"f3.txt\",\"rb\")  #rb is read mode and binary mode\n",
        "\n",
        "c.seek(0,1)\n",
        "print(c.tell())\n",
        "print(c.readlines())\n",
        "print(c.tell())\n",
        "\n",
        "c.close()"
      ],
      "metadata": {
        "colab": {
          "base_uri": "https://localhost:8080/"
        },
        "id": "tsqTSn6amhgf",
        "outputId": "60ecd675-5d3b-4d1a-d017-be0b111570dd"
      },
      "execution_count": 19,
      "outputs": [
        {
          "output_type": "stream",
          "name": "stdout",
          "text": [
            "0\n",
            "[b'54231754']\n",
            "8\n"
          ]
        }
      ]
    },
    {
      "cell_type": "code",
      "source": [
        "#lambda function is used only for single expression\n",
        "\n",
        "\n",
        "x= lambda a,b:a**b\n",
        "\n",
        "print (x(7,2))"
      ],
      "metadata": {
        "colab": {
          "base_uri": "https://localhost:8080/"
        },
        "id": "WomVx8MYnnLy",
        "outputId": "e4b02926-3ef9-4a10-f064-aa3c65c85423"
      },
      "execution_count": 21,
      "outputs": [
        {
          "output_type": "stream",
          "name": "stdout",
          "text": [
            "49\n"
          ]
        }
      ]
    },
    {
      "cell_type": "code",
      "source": [
        "##filter function is used for iterables\n",
        "\n",
        "\n",
        "y= [1,3,45,34,2,657,767,11]\n",
        "\n",
        "z= filter(lambda x:x<25,y)\n",
        "\n",
        "print(list(z))"
      ],
      "metadata": {
        "colab": {
          "base_uri": "https://localhost:8080/"
        },
        "id": "CynpLyRmoGEn",
        "outputId": "38655660-8500-4920-89a3-5881c3af5607"
      },
      "execution_count": 22,
      "outputs": [
        {
          "output_type": "stream",
          "name": "stdout",
          "text": [
            "[1, 3, 2, 11]\n"
          ]
        }
      ]
    },
    {
      "cell_type": "code",
      "source": [
        "#BREAK CONTINUE PASS\n",
        "#break - it stop exection\n",
        "#continue - skips the execeution\n",
        "#pass - does nothing\n",
        "candy = int(input(\"enter the candies needed\"))\n",
        "x = 1\n",
        "stock = 8\n",
        "while x<= candy:\n",
        "    if x > stock :\n",
        "        print(\"out of stock\")\n",
        "        break\n",
        "    elif x == candy:\n",
        "        print(f\"here is your {x} candy\")\n",
        "    x += 1\n",
        "print(\"thanks\")\n"
      ],
      "metadata": {
        "colab": {
          "base_uri": "https://localhost:8080/"
        },
        "id": "z6U1SRcDoOL2",
        "outputId": "a422c6ec-a1f9-43bb-8fa7-cf86ef054fce"
      },
      "execution_count": 25,
      "outputs": [
        {
          "output_type": "stream",
          "name": "stdout",
          "text": [
            "enter the candies needed9\n",
            "out of stock\n",
            "thanks\n"
          ]
        }
      ]
    },
    {
      "cell_type": "code",
      "source": [
        "for i in range( 1 , 6):\n",
        "    if ( i == 4):\n",
        "        continue\n",
        "    print(i)\n",
        "\n",
        "    \n",
        "a = \"datascience\"\n",
        "for i in a:\n",
        "    if(i == \"a\" or i == \"e\"):\n",
        "        continue\n",
        "    print(i)"
      ],
      "metadata": {
        "colab": {
          "base_uri": "https://localhost:8080/"
        },
        "id": "WsarNBeboYmY",
        "outputId": "09c33017-24be-48e5-8485-95821943c16b"
      },
      "execution_count": 26,
      "outputs": [
        {
          "output_type": "stream",
          "name": "stdout",
          "text": [
            "1\n",
            "2\n",
            "3\n",
            "5\n",
            "d\n",
            "t\n",
            "s\n",
            "c\n",
            "i\n",
            "n\n",
            "c\n"
          ]
        }
      ]
    },
    {
      "cell_type": "code",
      "source": [
        ""
      ],
      "metadata": {
        "id": "IYn_cUGUojbS"
      },
      "execution_count": null,
      "outputs": []
    }
  ]
}