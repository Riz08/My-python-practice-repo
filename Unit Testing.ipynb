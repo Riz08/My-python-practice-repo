{
  "nbformat": 4,
  "nbformat_minor": 0,
  "metadata": {
    "colab": {
      "name": "Untitled2.ipynb",
      "provenance": [],
      "authorship_tag": "ABX9TyN7OoqVyTX4nJIZoyvqTc0V",
      "include_colab_link": true
    },
    "kernelspec": {
      "name": "python3",
      "display_name": "Python 3"
    },
    "language_info": {
      "name": "python"
    }
  },
  "cells": [
    {
      "cell_type": "markdown",
      "metadata": {
        "id": "view-in-github",
        "colab_type": "text"
      },
      "source": [
        "<a href=\"https://colab.research.google.com/github/Riz08/My-python-practice-repo/blob/main/Unit%20Testing.ipynb\" target=\"_parent\"><img src=\"https://colab.research.google.com/assets/colab-badge.svg\" alt=\"Open In Colab\"/></a>"
      ]
    },
    {
      "cell_type": "code",
      "execution_count": null,
      "metadata": {
        "id": "2yUyjAlbhztc"
      },
      "outputs": [],
      "source": [
        "import math\n",
        "\n",
        "def circle(rad):\n",
        "    if type(rad)not in [int,float]:\n",
        "        raise TypeError(\"Invalid input\")\n",
        "    if rad<0:\n",
        "        raise ValueError(\"Negative values are not possible\")\n",
        "    return math.pi*rad*rad\n",
        "\n",
        "\n",
        "\n",
        "##Unit testing\n",
        "\n",
        "import unittest\n",
        "import area\n",
        "import math\n",
        "class Testarea(unittest.TestCase):\n",
        "    def test_area_0(self):\n",
        "        self.assertEqual(area.circle(0),0) #asert checks the condition\n",
        "        print(\"testcase1\")\n",
        "        \n",
        "    def test_area_1(self):\n",
        "        self.assertEqual(area.circle(1),math.pi)    \n",
        "        print(\"testcase2\")\n",
        "    def test_Area_types(self):  #check if errors raise\n",
        "        self.assertRaises(TypeError,area.circle,\"Python\")\n",
        "        self.assertRaises(TypeError,area.circle,\"True\")\n",
        "        self.assertRaises(TypeError,area.circle,\"3+4j\")\n",
        "    def test_area_value(self):\n",
        "        self.asstertRaises(ValueError,area.circle,-8)\n",
        "        \n",
        "\n",
        "unittest.main()"
      ]
    },
    {
      "cell_type": "code",
      "source": [
        "def add(x,y):\n",
        "    return x+y\n",
        "def sub(x,y):\n",
        "    return x-y\n",
        "def multi(x,y):\n",
        "    return x*y\n",
        "def divi(x,y):\n",
        "    if type(x) not in [int,float]:\n",
        "        raise TypeError\n",
        "    if type(y) not in [int,float]:\n",
        "        raise TypeError\n",
        "    if y==0:\n",
        "        raise ZeroDivisionError\n",
        "        \n",
        "    return x//y\n",
        "\n",
        "#unit testing\n",
        "\n",
        "import unittest\n",
        "import Calculation\n",
        "import math\n",
        "\n",
        "class Testadd(unittest.TestCase):\n",
        "    def test_add(self):\n",
        "        self.assertEqual(Calculation.add(50,50),100)\n",
        "    def test_add(self):\n",
        "        self.assertRaises(TypeError,calculation.divi,\"hello\",9)   \n",
        "\n",
        "unittest.main()  "
      ],
      "metadata": {
        "id": "UkuRO-69h37x"
      },
      "execution_count": null,
      "outputs": []
    },
    {
      "cell_type": "code",
      "source": [
        "def Isascending(a):\n",
        "    n=len(a)\n",
        "    for i in range(n-1):\n",
        "        if a[i]<a[i+1]:\n",
        "            pass\n",
        "        else:\n",
        "            return False\n",
        "    return True\n",
        "\n",
        "\n",
        "def Isdescending(a):\n",
        "    n=len(a)\n",
        "    for i in range(n-1):\n",
        "        if a[i]>a[i+1]:\n",
        "            pass\n",
        "        else:\n",
        "            return False\n",
        "    return True\n",
        "\n",
        "\n",
        "def Issorted(a):\n",
        "    return Isascending(a) or Isdescending(a)\n",
        "\n",
        "\n",
        "def Isunique(arr):\n",
        "    return len(arr)==len(set(arr))\n",
        "\n",
        "print(Isunique([99,55,44,33,11]))\n",
        "\n",
        "\n",
        "#unit testing\n",
        "\n",
        "import unittest\n",
        "import f1\n",
        "class TestSort(unittest.TestCase):\n",
        "    def test_isascending(self):\n",
        "        self.assertEqual(f1.Isascending([1,2,3,4]),True)\n",
        "        self.assertTrue(f1.Isascending([1,2,3,4]))\n",
        "        self.assertFalse(f1.Isascending([1, 2, 4, 3]))\n",
        "    def test_isdescending(self):\n",
        "        self.assertEqual(f1.Isdescending([4,3,2,1]),True)\n",
        "        self.assertTrue(f1.Isdescending([4,3,2,1]))\n",
        "        self.assertFalse(f1.Isdescending([1, 2, 4,7]))\n",
        "    def test_issorted(self):\n",
        "        self.assertEqual(f1.Issorted([4,3,2,1]),True)\n",
        "        self.assertEqual(f1.Issorted([1,2,3,4]),True)\n",
        "        self.assertFalse(f1.Issorted([1, 11, 4,7]))\n",
        "    def test_isunique(self):\n",
        "        self.assertTrue(f1.Isunique([1, 11, 4,7]))\n",
        "        self.assertFalse(f1.Isunique([1, 4, 4,7]))\n",
        "unittest.main()\n",
        "\n"
      ],
      "metadata": {
        "id": "qS6FfIjbh68i"
      },
      "execution_count": null,
      "outputs": []
    },
    {
      "cell_type": "code",
      "source": [
        ""
      ],
      "metadata": {
        "id": "Xm3ghjTbiCdB"
      },
      "execution_count": null,
      "outputs": []
    }
  ]
}