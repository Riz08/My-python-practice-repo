{
  "nbformat": 4,
  "nbformat_minor": 0,
  "metadata": {
    "colab": {
      "name": "numpy.ipynb",
      "provenance": [],
      "authorship_tag": "ABX9TyPsVUsK/BK837z8PmZ5ycJc",
      "include_colab_link": true
    },
    "kernelspec": {
      "name": "python3",
      "display_name": "Python 3"
    },
    "language_info": {
      "name": "python"
    }
  },
  "cells": [
    {
      "cell_type": "markdown",
      "metadata": {
        "id": "view-in-github",
        "colab_type": "text"
      },
      "source": [
        "<a href=\"https://colab.research.google.com/github/Riz08/My-python-practice-repo/blob/main/numpy.ipynb\" target=\"_parent\"><img src=\"https://colab.research.google.com/assets/colab-badge.svg\" alt=\"Open In Colab\"/></a>"
      ]
    },
    {
      "cell_type": "code",
      "execution_count": 6,
      "metadata": {
        "colab": {
          "base_uri": "https://localhost:8080/"
        },
        "id": "f02K4JmFhn55",
        "outputId": "53367038-b809-455b-bd9d-50fb8e213487"
      },
      "outputs": [
        {
          "output_type": "stream",
          "name": "stdout",
          "text": [
            "<class 'list'>\n",
            "[1 2 3 4]\n",
            "<class 'numpy.ndarray'>\n",
            "[5 6 7 8]\n",
            "<class 'numpy.ndarray'>\n"
          ]
        }
      ],
      "source": [
        "#array creation\n",
        "\n",
        "list1=[1,2,3,4]\n",
        "list2=[5,6,7,8]\n",
        "\n",
        "print(type(list1))\n",
        "\n",
        "import numpy as np\n",
        "\n",
        "a= np.array(list1)\n",
        "print(a)\n",
        "print(type(a))\n",
        "\n",
        "b= np.array(list2)\n",
        "print(b)\n",
        "print(type(b))\n"
      ]
    },
    {
      "cell_type": "code",
      "source": [
        "\n",
        "#array makes all data same type\n",
        "#here in a we have string float and int. It makes all str\n",
        "#here in b we have  float and int. It makes all values float\n",
        "#1 dimensional\n",
        "a=np.array([8,3.25,\"Riza\",5,9,3.14])\n",
        "print(type(a))\n",
        "print(a)\n",
        "print(a.dtype)\n",
        "\n",
        "#2 dimensional\n",
        "b=np.array([[1,2,3],[4,5,6]])\n",
        "print(type(b))\n",
        "print(b)\n",
        "print(b.dtype)\n"
      ],
      "metadata": {
        "colab": {
          "base_uri": "https://localhost:8080/"
        },
        "id": "7FTFy3gInPjD",
        "outputId": "7ca03f24-de0a-4692-bd06-b0abbfb5ac9d"
      },
      "execution_count": 27,
      "outputs": [
        {
          "output_type": "stream",
          "name": "stdout",
          "text": [
            "<class 'numpy.ndarray'>\n",
            "['8' '3.25' 'Riza' '5' '9' '3.14']\n",
            "<U32\n",
            "<class 'numpy.ndarray'>\n",
            "[[1 2 3]\n",
            " [4 5 6]]\n",
            "int64\n"
          ]
        }
      ]
    },
    {
      "cell_type": "code",
      "source": [
        "#size of the array\n",
        "print(b.size)\n",
        "#shape of array\n",
        "print(b.shape)\n",
        "#itemsize of array\n",
        "print(a.itemsize)\n",
        "#indexing\n",
        "print(b[1][1:])\n",
        "print(a[0: :2])\n",
        "#dimention check\n",
        "print(b.ndim)\n",
        "\n"
      ],
      "metadata": {
        "colab": {
          "base_uri": "https://localhost:8080/"
        },
        "id": "8ysab70MsZUd",
        "outputId": "e4ce13c3-8cda-4754-cc54-fae57e27d673"
      },
      "execution_count": 33,
      "outputs": [
        {
          "output_type": "stream",
          "name": "stdout",
          "text": [
            "6\n",
            "(2, 3)\n",
            "128\n",
            "[5 6]\n",
            "['8' 'Riza' '9']\n",
            "2\n"
          ]
        }
      ]
    },
    {
      "cell_type": "code",
      "source": [
        "#to gey desired dimension\n",
        "\n",
        "a=np.array([4,7,10,13,12,14,15], ndmin=6)\n",
        "print(a)"
      ],
      "metadata": {
        "colab": {
          "base_uri": "https://localhost:8080/"
        },
        "id": "b84gT-KItcnu",
        "outputId": "a7d7af43-e10b-49b5-a47e-19b460f540ff"
      },
      "execution_count": 43,
      "outputs": [
        {
          "output_type": "stream",
          "name": "stdout",
          "text": [
            "[[[[[[ 4  7 10 13 12 14 15]]]]]]\n"
          ]
        }
      ]
    },
    {
      "cell_type": "code",
      "source": [
        "#automatic creation of array\n",
        "#arange\n",
        "#numpy.arange([start, ],stop,[step, )]dtype=None, *, like=None)\n",
        "\n",
        "\n",
        "a=np.arange(9,35,2, dtype=float)\n",
        "print(a)\n",
        "\n",
        "#how to change dimension using reshape\n",
        "b=np.arange(9).reshape(3,3)\n",
        "print(b)\n"
      ],
      "metadata": {
        "colab": {
          "base_uri": "https://localhost:8080/"
        },
        "id": "9eN4deGOxm62",
        "outputId": "aa531589-7904-4c91-cca5-450fcc7b9021"
      },
      "execution_count": 59,
      "outputs": [
        {
          "output_type": "stream",
          "name": "stdout",
          "text": [
            "[ 9. 11. 13. 15. 17. 19. 21. 23. 25. 27. 29. 31. 33.]\n",
            "[[0 1 2]\n",
            " [3 4 5]\n",
            " [6 7 8]]\n"
          ]
        }
      ]
    },
    {
      "cell_type": "code",
      "source": [
        "#np.linspace is used to automatically create equally spaced intervals\n",
        "#np.linspace(start,end,space number, endpoint=False, retstep=True)\n",
        "a=np.linspace(1,5,num=10,endpoint=False, retstep=True) #endpoint will take last value out of calculation #retstep is gap value between numbers\n",
        "print(a)\n",
        "\n",
        "\n",
        "\n",
        "\n",
        "\n",
        "\n",
        "\n",
        "\n",
        "\n",
        "\n",
        "\n",
        "\n",
        "\n",
        "\n",
        "\n",
        "\n",
        "\n",
        "\n",
        "\n",
        "\n",
        "\n",
        "\n",
        "\n"
      ],
      "metadata": {
        "colab": {
          "base_uri": "https://localhost:8080/"
        },
        "id": "Z9tEt_NMzSiz",
        "outputId": "0c543e97-1ce9-4268-8aa4-262cd0af2847"
      },
      "execution_count": 72,
      "outputs": [
        {
          "output_type": "stream",
          "name": "stdout",
          "text": [
            "(array([1. , 1.4, 1.8, 2.2, 2.6, 3. , 3.4, 3.8, 4.2, 4.6]), 0.4)\n"
          ]
        }
      ]
    },
    {
      "cell_type": "code",
      "source": [
        ""
      ],
      "metadata": {
        "id": "Rnn7DPQ76qlh"
      },
      "execution_count": null,
      "outputs": []
    }
  ]
}