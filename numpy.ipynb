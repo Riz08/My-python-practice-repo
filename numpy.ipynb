{
  "nbformat": 4,
  "nbformat_minor": 0,
  "metadata": {
    "colab": {
      "name": "numpy.ipynb",
      "provenance": [],
      "authorship_tag": "ABX9TyPOr1vay8zGmbMSvRKlX62I",
      "include_colab_link": true
    },
    "kernelspec": {
      "name": "python3",
      "display_name": "Python 3"
    },
    "language_info": {
      "name": "python"
    }
  },
  "cells": [
    {
      "cell_type": "markdown",
      "metadata": {
        "id": "view-in-github",
        "colab_type": "text"
      },
      "source": [
        "<a href=\"https://colab.research.google.com/github/Riz08/My-python-practice-repo/blob/main/numpy.ipynb\" target=\"_parent\"><img src=\"https://colab.research.google.com/assets/colab-badge.svg\" alt=\"Open In Colab\"/></a>"
      ]
    },
    {
      "cell_type": "code",
      "execution_count": null,
      "metadata": {
        "colab": {
          "base_uri": "https://localhost:8080/"
        },
        "id": "f02K4JmFhn55",
        "outputId": "53367038-b809-455b-bd9d-50fb8e213487"
      },
      "outputs": [
        {
          "output_type": "stream",
          "name": "stdout",
          "text": [
            "<class 'list'>\n",
            "[1 2 3 4]\n",
            "<class 'numpy.ndarray'>\n",
            "[5 6 7 8]\n",
            "<class 'numpy.ndarray'>\n"
          ]
        }
      ],
      "source": [
        "#array creation\n",
        "\n",
        "list1=[1,2,3,4]\n",
        "list2=[5,6,7,8]\n",
        "\n",
        "print(type(list1))\n",
        "\n",
        "import numpy as np\n",
        "\n",
        "a= np.array(list1)\n",
        "print(a)\n",
        "print(type(a))\n",
        "\n",
        "b= np.array(list2)\n",
        "print(b)\n",
        "print(type(b))\n"
      ]
    },
    {
      "cell_type": "code",
      "source": [
        "\n",
        "#array makes all data same type\n",
        "#here in a we have string float and int. It makes all str\n",
        "#here in b we have  float and int. It makes all values float\n",
        "#1 dimensional\n",
        "a=np.array([8,3.25,\"Riza\",5,9,3.14])\n",
        "print(type(a))\n",
        "print(a)\n",
        "print(a.dtype)\n",
        "\n",
        "#2 dimensional\n",
        "b=np.array([[1,2,3],[4,5,6]])\n",
        "print(type(b))\n",
        "print(b)\n",
        "print(b.dtype)\n"
      ],
      "metadata": {
        "colab": {
          "base_uri": "https://localhost:8080/"
        },
        "id": "7FTFy3gInPjD",
        "outputId": "7ca03f24-de0a-4692-bd06-b0abbfb5ac9d"
      },
      "execution_count": null,
      "outputs": [
        {
          "output_type": "stream",
          "name": "stdout",
          "text": [
            "<class 'numpy.ndarray'>\n",
            "['8' '3.25' 'Riza' '5' '9' '3.14']\n",
            "<U32\n",
            "<class 'numpy.ndarray'>\n",
            "[[1 2 3]\n",
            " [4 5 6]]\n",
            "int64\n"
          ]
        }
      ]
    },
    {
      "cell_type": "code",
      "source": [
        "#size of the array\n",
        "print(b.size)\n",
        "#shape of array\n",
        "print(b.shape)\n",
        "#itemsize of array\n",
        "print(a.itemsize)\n",
        "#indexing\n",
        "print(b[1][1:])\n",
        "print(a[0: :2])\n",
        "#dimention check\n",
        "print(b.ndim)\n",
        "\n"
      ],
      "metadata": {
        "colab": {
          "base_uri": "https://localhost:8080/"
        },
        "id": "8ysab70MsZUd",
        "outputId": "e4ce13c3-8cda-4754-cc54-fae57e27d673"
      },
      "execution_count": null,
      "outputs": [
        {
          "output_type": "stream",
          "name": "stdout",
          "text": [
            "6\n",
            "(2, 3)\n",
            "128\n",
            "[5 6]\n",
            "['8' 'Riza' '9']\n",
            "2\n"
          ]
        }
      ]
    },
    {
      "cell_type": "code",
      "source": [
        "#to gey desired dimension\n",
        "\n",
        "a=np.array([4,7,10,13,12,14,15], ndmin=6)\n",
        "print(a)"
      ],
      "metadata": {
        "colab": {
          "base_uri": "https://localhost:8080/"
        },
        "id": "b84gT-KItcnu",
        "outputId": "a7d7af43-e10b-49b5-a47e-19b460f540ff"
      },
      "execution_count": null,
      "outputs": [
        {
          "output_type": "stream",
          "name": "stdout",
          "text": [
            "[[[[[[ 4  7 10 13 12 14 15]]]]]]\n"
          ]
        }
      ]
    },
    {
      "cell_type": "code",
      "source": [
        "#automatic creation of array\n",
        "#arange\n",
        "#numpy.arange([start, ],stop,[step, )]dtype=None, *, like=None)\n",
        "\n",
        "\n",
        "a=np.arange(9,35,2, dtype=float)\n",
        "print(a)\n",
        "\n",
        "#how to change dimension using reshape\n",
        "b=np.arange(9).reshape(3,3)\n",
        "print(b)\n"
      ],
      "metadata": {
        "colab": {
          "base_uri": "https://localhost:8080/"
        },
        "id": "9eN4deGOxm62",
        "outputId": "aa531589-7904-4c91-cca5-450fcc7b9021"
      },
      "execution_count": null,
      "outputs": [
        {
          "output_type": "stream",
          "name": "stdout",
          "text": [
            "[ 9. 11. 13. 15. 17. 19. 21. 23. 25. 27. 29. 31. 33.]\n",
            "[[0 1 2]\n",
            " [3 4 5]\n",
            " [6 7 8]]\n"
          ]
        }
      ]
    },
    {
      "cell_type": "code",
      "source": [
        "#np.linspace is used to automatically create equally spaced intervals\n",
        "#np.linspace(start,end,space number, endpoint=False, retstep=True)\n",
        "a=np.linspace(1,5,num=10,endpoint=False, retstep=True) #endpoint will take last value out of calculation #retstep true is equal is gap value between numbers\n",
        "print(a)\n"
      ],
      "metadata": {
        "colab": {
          "base_uri": "https://localhost:8080/"
        },
        "id": "Z9tEt_NMzSiz",
        "outputId": "0c543e97-1ce9-4268-8aa4-262cd0af2847"
      },
      "execution_count": null,
      "outputs": [
        {
          "output_type": "stream",
          "name": "stdout",
          "text": [
            "(array([1. , 1.4, 1.8, 2.2, 2.6, 3. , 3.4, 3.8, 4.2, 4.6]), 0.4)\n"
          ]
        }
      ]
    },
    {
      "cell_type": "code",
      "source": [
        "#np.eye(N, M=None, k=0, dtype=float, order='C', *, like=None)\n",
        "#order C means row wise and F means column wise\n",
        "\"\"\"N : int Number of rows in the output.\n",
        "M : int, optional Number of columns in the output. If None, defaults to N.\n",
        "k : int, optionalIndex of the diagonal: 0 (the default) refers to the main diagonal,\n",
        "a positive value refers to an upper diagonal, and a negative value\n",
        "to a lower diagonal.\n",
        "dtype : data-type, optional\n",
        "  Data-type of the returned array.\n",
        "order : {'C', 'F'}, optional\n",
        "    Whether the output should be stored in row-major (C-style) or\n",
        "column-major (Fortran-style) order in memory.\"\"\"\n",
        "\n",
        "a=np.eye(3,3) #identity matriz is a diagonal shape\n",
        "print(a)\n",
        "\n",
        "a=np.eye(3,3,k=1)  #k=1 value changes the position of the diagonal to the right by 1 step\n",
        "print(a)\n",
        "\n",
        "a=np.eye(3,3,k=-1)   #k=1 value changes the position of the diagonal to the left by 1 step\n",
        "print(a)\n"
      ],
      "metadata": {
        "colab": {
          "base_uri": "https://localhost:8080/"
        },
        "id": "Rnn7DPQ76qlh",
        "outputId": "e34e9e00-4b6e-405c-c412-1cb22eb7456a"
      },
      "execution_count": null,
      "outputs": [
        {
          "output_type": "stream",
          "name": "stdout",
          "text": [
            "[[1. 0. 0.]\n",
            " [0. 1. 0.]\n",
            " [0. 0. 1.]]\n",
            "[[0. 1. 0.]\n",
            " [0. 0. 1.]\n",
            " [0. 0. 0.]]\n",
            "[[0. 0. 0.]\n",
            " [1. 0. 0.]\n",
            " [0. 1. 0.]]\n"
          ]
        }
      ]
    },
    {
      "cell_type": "code",
      "source": [
        "#np.zeros if under 18 ages are not allowed to drint we can put all lages below 18 as zeros array\n",
        "#np.ones if over 18 ages are allowed to drint we can put all ages over 18 as ones array\n",
        "\n",
        "\n",
        "a= np.zeros((3,2))\n",
        "print(a)\n",
        "\n",
        "a= np.ones((5))\n",
        "print(a)\n"
      ],
      "metadata": {
        "colab": {
          "base_uri": "https://localhost:8080/"
        },
        "id": "F_-8CNACBDKI",
        "outputId": "d6fa78bb-1600-4eec-dec3-cdf24a750baa"
      },
      "execution_count": null,
      "outputs": [
        {
          "output_type": "stream",
          "name": "stdout",
          "text": [
            "[[0. 0.]\n",
            " [0. 0.]\n",
            " [0. 0.]]\n",
            "[1. 1. 1. 1. 1.]\n"
          ]
        },
        {
          "output_type": "execute_result",
          "data": {
            "text/plain": [
              "<function numpy.ones>"
            ]
          },
          "metadata": {},
          "execution_count": 88
        }
      ]
    },
    {
      "cell_type": "code",
      "source": [
        "#np.full is used to return a new shape of array with predefined value\n",
        "b=[\"Riza\",\"Fahima\"]\n",
        "\n",
        "a=np.full((3,3),[1,b[0],b[1]], order=\"F\") #F should fill in coloumn the values\n",
        "print(a)\n",
        "\n",
        "a=np.full((3,2),np.inf)\n",
        "print(a)\n",
        "\n",
        "\n",
        "\n",
        "\n",
        "\n",
        "\n"
      ],
      "metadata": {
        "colab": {
          "base_uri": "https://localhost:8080/"
        },
        "id": "RDb8zT5YEMm5",
        "outputId": "a6ae4653-83eb-4795-cd8e-9e6c15acb018"
      },
      "execution_count": null,
      "outputs": [
        {
          "output_type": "stream",
          "name": "stdout",
          "text": [
            "[['1' 'Riza' 'Fahima']\n",
            " ['1' 'Riza' 'Fahima']\n",
            " ['1' 'Riza' 'Fahima']]\n",
            "[[inf inf]\n",
            " [inf inf]\n",
            " [inf inf]]\n"
          ]
        }
      ]
    },
    {
      "cell_type": "code",
      "source": [
        "#transpose changes the row to column and coloumn to row\n",
        "\n",
        "a=np.arange(10).reshape(2,5)\n",
        "b=np.transpose(a) #both ways are same to transpose\n",
        "c=b.T\n",
        "d=b.reshape(2,5,1) #3dimensional array #make sure the reshape multiplication is equals to number of elements (2*5*1=10=number of elements)\n",
        "\n",
        "print(a)\n",
        "print(b)\n",
        "print(c)\n",
        "print(d)"
      ],
      "metadata": {
        "colab": {
          "base_uri": "https://localhost:8080/"
        },
        "id": "UHXt0pMYGkm3",
        "outputId": "8b679cf9-d999-48f2-8616-8d7c4308151b"
      },
      "execution_count": null,
      "outputs": [
        {
          "output_type": "stream",
          "name": "stdout",
          "text": [
            "[[0 1 2 3 4]\n",
            " [5 6 7 8 9]]\n",
            "[[0 5]\n",
            " [1 6]\n",
            " [2 7]\n",
            " [3 8]\n",
            " [4 9]]\n",
            "[[0 1 2 3 4]\n",
            " [5 6 7 8 9]]\n",
            "[[[0]\n",
            "  [5]\n",
            "  [1]\n",
            "  [6]\n",
            "  [2]]\n",
            "\n",
            " [[7]\n",
            "  [3]\n",
            "  [8]\n",
            "  [4]\n",
            "  [9]]]\n"
          ]
        }
      ]
    },
    {
      "cell_type": "code",
      "source": [
        "#flatten makes 2 dimensional or 3 dimensional data in single dimensional\n",
        "\n",
        "a=np.arange(4).reshape(2,2)\n",
        "print(a)\n",
        "b=a.flatten()  #no use of np\n",
        "print(b)\n",
        "\n",
        "b[0]=12\n",
        "print(b) #it only changes the value of b but not for a\n",
        "print(a)\n"
      ],
      "metadata": {
        "colab": {
          "base_uri": "https://localhost:8080/"
        },
        "id": "AA7dRmQZSEMv",
        "outputId": "7c2334fb-37f2-4622-c467-c7fb31cced28"
      },
      "execution_count": null,
      "outputs": [
        {
          "output_type": "stream",
          "name": "stdout",
          "text": [
            "[[0 1]\n",
            " [2 3]]\n",
            "[0 1 2 3]\n",
            "[12  1  2  3]\n",
            "[[0 1]\n",
            " [2 3]]\n"
          ]
        }
      ]
    },
    {
      "cell_type": "code",
      "source": [
        "#ravel same as flatten with one small difference\n",
        "\n",
        "a=np.arange(4).reshape(2,2)\n",
        "print(a)\n",
        "b=a.ravel()  #no use of np\n",
        "print(b)\n",
        "\n",
        "b[0]=12\n",
        "print(b) #it changes the value of b and a both with changes made in b indexing\n",
        "print(a)"
      ],
      "metadata": {
        "colab": {
          "base_uri": "https://localhost:8080/"
        },
        "id": "KEqMpJ6uV9Bg",
        "outputId": "7a48e11e-ef63-4529-897d-fe4bfd58a08b"
      },
      "execution_count": null,
      "outputs": [
        {
          "output_type": "stream",
          "name": "stdout",
          "text": [
            "[[0 1]\n",
            " [2 3]]\n",
            "[0 1 2 3]\n",
            "[12  1  2  3]\n",
            "[[12  1]\n",
            " [ 2  3]]\n"
          ]
        }
      ]
    },
    {
      "cell_type": "code",
      "source": [
        "#concatenate joins arrays\n",
        "\n",
        "a=np.arange(4).reshape(2,2)\n",
        "b=np.arange(5,9).reshape(2,2)\n",
        "c=np.concatenate((a,b),axis=None)\n",
        "d=np.concatenate((a,b),axis=1)\n",
        "\n",
        "print(a)\n",
        "print(b)\n",
        "print(c)\n",
        "print(d)\n",
        "\n"
      ],
      "metadata": {
        "colab": {
          "base_uri": "https://localhost:8080/"
        },
        "id": "WK57EIXCXW7e",
        "outputId": "c4095574-5c29-4ce1-ea9a-6ba3dce5d990"
      },
      "execution_count": null,
      "outputs": [
        {
          "output_type": "stream",
          "name": "stdout",
          "text": [
            "[[0 1]\n",
            " [2 3]]\n",
            "[[5 6]\n",
            " [7 8]]\n",
            "[0 1 2 3 5 6 7 8]\n",
            "[[0 1 5 6]\n",
            " [2 3 7 8]]\n"
          ]
        }
      ]
    },
    {
      "cell_type": "code",
      "source": [
        "#vstack shows arrays in vertical order and hstack shows horizontally\n",
        "\n",
        "a=np.arange(4).reshape(2,2)\n",
        "b=np.arange(5,9).reshape(2,2)\n",
        "c=np.vstack((a,b))\n",
        "d=np.hstack((a,b))\n",
        "print(a)\n",
        "print(b)\n",
        "print(c)\n",
        "print(d)"
      ],
      "metadata": {
        "colab": {
          "base_uri": "https://localhost:8080/"
        },
        "id": "2zIteBBDcV-t",
        "outputId": "34f6582b-def9-4b1e-ce46-4112dba6fbb6"
      },
      "execution_count": null,
      "outputs": [
        {
          "output_type": "stream",
          "name": "stdout",
          "text": [
            "[[0 1]\n",
            " [2 3]]\n",
            "[[5 6]\n",
            " [7 8]]\n",
            "[[0 1]\n",
            " [2 3]\n",
            " [5 6]\n",
            " [7 8]]\n",
            "[[0 1 5 6]\n",
            " [2 3 7 8]]\n"
          ]
        }
      ]
    },
    {
      "cell_type": "code",
      "source": [
        "#np.split splits arrays\n",
        "\n",
        "a=np.arange(9)\n",
        "b=np.split(a,3)\n",
        "print(a)\n",
        "print(b)"
      ],
      "metadata": {
        "colab": {
          "base_uri": "https://localhost:8080/"
        },
        "id": "OHebUlQsecHb",
        "outputId": "29a9aed5-fff5-48cb-beee-e2f445880bcf"
      },
      "execution_count": null,
      "outputs": [
        {
          "output_type": "stream",
          "name": "stdout",
          "text": [
            "[0 1 2 3 4 5 6 7 8]\n",
            "[array([0, 1, 2]), array([3, 4, 5]), array([6, 7, 8])]\n"
          ]
        }
      ]
    },
    {
      "cell_type": "code",
      "source": [
        "#np.insert enables us to insert data axis wise\n",
        "#Np.delete enables us to delete element axis wise\n",
        "#np.insert(arr, obj, values, axis=None)\n",
        "#Axis =0 means row wise insert and axis=1 means coloumn wise insert,axis=None will flatten the matrix\n",
        "#obj is which posiiton to input\n",
        "\n",
        "\n",
        "import numpy as np \n",
        "a=np.arange(4).reshape(2,2)\n",
        "b=np.insert(a,1,(12,13),axis=0)\n",
        "c=np.insert(a,1,(12,13),axis=1)\n",
        "d=np.insert(a,1,(12,13),axis=None)\n",
        "e=np.delete(c,1,axis=1)\n",
        "\n",
        "print(b)\n",
        "print(c)\n",
        "print(d)\n",
        "print(e)"
      ],
      "metadata": {
        "id": "EtWbbj3OgSH0",
        "outputId": "cbf70870-dad0-406a-960a-663091be7c4a",
        "colab": {
          "base_uri": "https://localhost:8080/"
        }
      },
      "execution_count": 1,
      "outputs": [
        {
          "output_type": "stream",
          "name": "stdout",
          "text": [
            "[[ 0  1]\n",
            " [12 13]\n",
            " [ 2  3]]\n",
            "[[ 0 12  1]\n",
            " [ 2 13  3]]\n",
            "[ 0 12 13  1  2  3]\n",
            "[[0 1]\n",
            " [2 3]]\n"
          ]
        }
      ]
    },
    {
      "cell_type": "code",
      "source": [
        ""
      ],
      "metadata": {
        "id": "vCUaRiVJ2WuG"
      },
      "execution_count": null,
      "outputs": []
    }
  ]
}