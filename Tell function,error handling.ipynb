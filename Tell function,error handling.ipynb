{
 "cells": [
  {
   "cell_type": "code",
   "execution_count": 4,
   "metadata": {},
   "outputs": [
    {
     "name": "stdout",
     "output_type": "stream",
     "text": [
      "enter a number value between 1-1000\n",
      "enter a number value between 100-2000\n",
      "Number can not be divided by zero division by zero\n"
     ]
    }
   ],
   "source": [
    "###type of errors and error handling\n",
    "import math\n",
    "\n",
    "try:\n",
    "    a= int(input(\"enter a number value between 1-100\"))\n",
    "    b= int(input(\"enter a number value between 100-200\"))\n",
    "    \n",
    "    print (a/b)\n",
    "    \n",
    "except ZeroDivisionError as z:\n",
    "    print(\"Number can not be divided by zero\",z)\n",
    "\n",
    "\n",
    "except ValueError as v:\n",
    "    print(\"The input is invalid\",v)\n",
    "\n",
    "\n",
    "except Exception as e:\n",
    "    print(\"Some other error!!!\",e)\n",
    "\n",
    "\n",
    "\n"
   ]
  },
  {
   "cell_type": "code",
   "execution_count": 5,
   "metadata": {},
   "outputs": [
    {
     "name": "stdout",
     "output_type": "stream",
     "text": [
      "enter a number value between 1-100112\n"
     ]
    },
    {
     "ename": "IndexError",
     "evalue": "number not between 0 and 100",
     "output_type": "error",
     "traceback": [
      "\u001b[1;31m---------------------------------------------------------------------------\u001b[0m",
      "\u001b[1;31mIndexError\u001b[0m                                Traceback (most recent call last)",
      "\u001b[1;32m<ipython-input-5-76335561a204>\u001b[0m in \u001b[0;36m<module>\u001b[1;34m\u001b[0m\n\u001b[0;32m      5\u001b[0m     \u001b[0ma\u001b[0m\u001b[1;33m=\u001b[0m \u001b[0mint\u001b[0m\u001b[1;33m(\u001b[0m\u001b[0minput\u001b[0m\u001b[1;33m(\u001b[0m\u001b[1;34m\"enter a number value between 1-100\"\u001b[0m\u001b[1;33m)\u001b[0m\u001b[1;33m)\u001b[0m\u001b[1;33m\u001b[0m\u001b[1;33m\u001b[0m\u001b[0m\n\u001b[0;32m      6\u001b[0m     \u001b[1;32mif\u001b[0m \u001b[0ma\u001b[0m\u001b[1;33m<\u001b[0m\u001b[1;36m0\u001b[0m \u001b[1;32mor\u001b[0m \u001b[0ma\u001b[0m\u001b[1;33m>\u001b[0m\u001b[1;36m100\u001b[0m\u001b[1;33m:\u001b[0m\u001b[1;33m\u001b[0m\u001b[1;33m\u001b[0m\u001b[0m\n\u001b[1;32m----> 7\u001b[1;33m         \u001b[1;32mraise\u001b[0m \u001b[0mIndexError\u001b[0m\u001b[1;33m(\u001b[0m\u001b[1;34m\"number not between 0 and 100\"\u001b[0m\u001b[1;33m)\u001b[0m\u001b[1;33m\u001b[0m\u001b[1;33m\u001b[0m\u001b[0m\n\u001b[0m\u001b[0;32m      8\u001b[0m \u001b[1;32mexcept\u001b[0m \u001b[0mValueError\u001b[0m \u001b[1;32mas\u001b[0m \u001b[0mv\u001b[0m\u001b[1;33m:\u001b[0m\u001b[1;33m\u001b[0m\u001b[1;33m\u001b[0m\u001b[0m\n\u001b[0;32m      9\u001b[0m     \u001b[0mprint\u001b[0m\u001b[1;33m(\u001b[0m\u001b[1;34m\"There is a value error present\"\u001b[0m\u001b[1;33m,\u001b[0m\u001b[0mv\u001b[0m\u001b[1;33m)\u001b[0m\u001b[1;33m\u001b[0m\u001b[1;33m\u001b[0m\u001b[0m\n",
      "\u001b[1;31mIndexError\u001b[0m: number not between 0 and 100"
     ]
    }
   ],
   "source": [
    "#how to raise an error\n",
    "\n",
    "\n",
    "try:\n",
    "    a= int(input(\"enter a number value between 1-100\"))\n",
    "    if a<0 or a>100:\n",
    "        raise IndexError(\"number not between 0 and 100\")\n",
    "except ValueError as v:\n",
    "    print(\"There is a value error present\",v)\n",
    "    "
   ]
  },
  {
   "cell_type": "code",
   "execution_count": 1,
   "metadata": {},
   "outputs": [
    {
     "ename": "IndentationError",
     "evalue": "expected an indented block (<ipython-input-1-14ed340d6264>, line 44)",
     "output_type": "error",
     "traceback": [
      "\u001b[1;36m  File \u001b[1;32m\"<ipython-input-1-14ed340d6264>\"\u001b[1;36m, line \u001b[1;32m44\u001b[0m\n\u001b[1;33m    res = d.write(\"this line number %d \\n\" %(i+1))\u001b[0m\n\u001b[1;37m    ^\u001b[0m\n\u001b[1;31mIndentationError\u001b[0m\u001b[1;31m:\u001b[0m expected an indented block\n"
     ]
    }
   ],
   "source": [
    "#how to open a text file\n",
    "\n",
    "#file handing\n",
    "\n",
    "#process of file\n",
    "#1.open(filename,mode of file)\n",
    "#2.read or write a file\n",
    "#3.close a file(if file is not closed the changes will not be saved)\n",
    "\n",
    "#<r> It opens a file in read-only mode while the file offset stays at the root. \n",
    "#<w>It allows write-level access to a file. If the file already exists, then it’ll get overwritten. It’ll create a new file if the same doesn’t exist. \n",
    "#<a>It opens the file in append mode. The offset goes to the end of the file. If the file doesn’texist, then it gets created. \n",
    "#<a+> It opens a file in (append + read) modes. Same behavior as for appen\n",
    "\n",
    "\n",
    "try:\n",
    "    x=open(\"f2.txt\",\"w\")\n",
    "    print(\"Open_Sucessfully\")\n",
    "    res=x.write(\"welcome to Crypto market \\nGet fucked!!\")  #write\n",
    "    print(res)\n",
    "    x.close()\n",
    "except:\n",
    "    print(\"error in opening\")\n",
    "\n",
    "\n",
    "\n",
    "\n",
    "try:\n",
    "    b=open(\"f2.txt\",\"r\")\n",
    "    re_ad=b.read()    #READ\n",
    "    print(re_ad)\n",
    "    b.close()\n",
    "except:\n",
    "    print(\"error in opening\")\n",
    "    \n",
    "    \n",
    "#append we do not have append as pre defined method. Need to use write command for append\n",
    "#learn how to add new text\n",
    "\n",
    "try:\n",
    "    d = open(\"f2.txt\",\"a\")\n",
    "    print(\"done\")\n",
    "    for i in range(6):\n",
    "    res = d.write(\"this line number %d \\n\" %(i+1))\n",
    "    d.close()\n",
    "except:\n",
    "    print(\"error\")\n",
    "\n"
   ]
  },
  {
   "cell_type": "code",
   "execution_count": 85,
   "metadata": {},
   "outputs": [
    {
     "name": "stdout",
     "output_type": "stream",
     "text": [
      "0\n",
      "54231754\n",
      "8\n"
     ]
    }
   ],
   "source": [
    "##use of tell function to descibe file handler position or cursur position\n",
    "\n",
    "\n",
    "a=open(\"f3.txt\",'w')\n",
    "print(a.tell())\n",
    "data= 54231754\n",
    "a.write(str(data))\n",
    "print(data)\n",
    "print(a.tell())\n",
    "a.close()\n",
    "\n",
    "\n",
    "\n",
    "\n"
   ]
  },
  {
   "cell_type": "code",
   "execution_count": 34,
   "metadata": {},
   "outputs": [
    {
     "name": "stdout",
     "output_type": "stream",
     "text": [
      "0\n",
      "[b'54231754']\n",
      "8\n"
     ]
    }
   ],
   "source": [
    "##useof seek \n",
    "#o is starting position\n",
    "#1 is current position\n",
    "#2 end of file\n",
    "\n",
    "c=open(\"f3.txt\",\"rb\")  #rb is read mode and binary mode\n",
    "\n",
    "c.seek(0,1)\n",
    "print(c.tell())\n",
    "print(c.readlines())\n",
    "print(c.tell())\n",
    "\n",
    "c.close()\n",
    "\n"
   ]
  },
  {
   "cell_type": "code",
   "execution_count": 91,
   "metadata": {},
   "outputs": [
    {
     "name": "stdout",
     "output_type": "stream",
     "text": [
      "49\n",
      "[1, 3, 2, 11]\n"
     ]
    }
   ],
   "source": [
    "#lambda function is used only for single expression\n",
    "\n",
    "\n",
    "x= lambda a,b:a**b\n",
    "\n",
    "print (x(7,2))\n",
    "\n",
    "\n",
    "##filter function is used for iterables\n",
    "\n",
    "\n",
    "y= [1,3,45,34,2,657,767,11]\n",
    "\n",
    "z= filter(lambda x:x<25,y)\n",
    "\n",
    "print(list(z))\n",
    "\n",
    "\n",
    "\n"
   ]
  },
  {
   "cell_type": "code",
   "execution_count": 41,
   "metadata": {},
   "outputs": [
    {
     "name": "stdout",
     "output_type": "stream",
     "text": [
      "enter the candies needed9\n",
      "out of stock\n",
      "thanks\n",
      "1\n",
      "2\n",
      "3\n",
      "4\n",
      "5\n",
      "6\n",
      "7\n",
      "8\n",
      "9\n",
      "10\n",
      "11\n",
      "12\n",
      "13\n",
      "14\n",
      "15\n",
      "17\n",
      "18\n",
      "19\n",
      "20\n",
      "d\n",
      "t\n",
      "s\n",
      "c\n",
      "i\n",
      "n\n",
      "c\n"
     ]
    }
   ],
   "source": [
    "\n",
    "\n",
    "#BREAK CONTINUE PASS\n",
    "#break - it stop exection\n",
    "#continue - skips the execeution\n",
    "#pass - does nothing\n",
    "candy = int(input(\"enter the candies needed\"))\n",
    "x = 1\n",
    "stock = 8\n",
    "while x<= candy:\n",
    "    if x > stock :\n",
    "        print(\"out of stock\")\n",
    "        break\n",
    "    elif x == candy:\n",
    "        print(f\"here is your {x} candy\")\n",
    "    x += 1\n",
    "print(\"thanks\")\n",
    "\n",
    "for i in range( 1 , 21):\n",
    "    if ( i == 16):\n",
    "        continue\n",
    "    print(i)\n",
    "\n",
    "    \n",
    "a = \"datascience\"\n",
    "for i in a:\n",
    "    if(i == \"a\" or i == \"e\"):\n",
    "        continue\n",
    "    print(i)\n"
   ]
  },
  {
   "cell_type": "code",
   "execution_count": 11,
   "metadata": {},
   "outputs": [
    {
     "name": "stdout",
     "output_type": "stream",
     "text": [
      "<!DOCTYPE html>\n",
      "\n",
      "<html lang=\"en\">\n",
      "<head>\n",
      "<meta charset=\"utf-8\"/>\n",
      "<meta content=\"IE=edge\" http-equiv=\"X-UA-Compatible\"/>\n",
      "<meta content=\"width=device-width, initial-scale=1.0\" name=\"viewport\"/>\n",
      "<title>Document</title>\n",
      "</head>\n",
      "<body>\n",
      "<img alt=\"Image not found\" height=\"250\" id=\"top\" src=\"pic1.jpg\" width=\"500\"/>\n",
      "<h1>KidsJoy Token</h1>\n",
      "<h2>What is KidsJoy Token</h2>\n",
      "<p>KidsJoy token is a token build on Binance platform with the idea of involving kids to play brain development games and win token as a prize and being able to redeem them to buy prizes</p>\n",
      "<h2>How can you buy KidsJoy Token ?</h2>\n",
      "<p>You can buy the token on Trust walllet. First you need to create an acccount in \n",
      "<a href=\"https://trustwallet.com/\" target=\"_blank\">Trust wallet</a> to be able to purchase KidsJoy token.\n",
      "</p>\n",
      "<h2>How can you earn KidsJoy Token</h2>\n",
      "<p>You can play the brain games and win more tokens. To play the brain games go to \n",
      "    <a href=\"braingames.html\" target=\"_blank\">BrainGames</a>\n",
      "</p>\n",
      "<h2>Where can you sell KidsJoy Token ?</h2>\n",
      "<p>You can sell the token using Trust wallet</p>\n",
      "<h2>Where and how can you buy toys using KidsJoy Token ?</h2>\n",
      "<p>Please go to the link below and buy toys using the tokens.</p>\n",
      "<br/>\n",
      "<br/>\n",
      "<strong>\n",
      "<h5>Please fill up this form if you want to order a product</h5>\n",
      "</strong>\n",
      "<form>\n",
      "<label for=\"firstname\">First Name</label><br/>\n",
      "<input id=\"firstname\" name=\"firstname\" type=\"text\"/>\n",
      "<br/>\n",
      "<label for=\"lastname\">Last Name</label><br/>\n",
      "<input id=\"lastname\" name=\"lastname\" type=\"text\"/>\n",
      "<br/>\n",
      "<label for=\"emailid\">Email address</label><br/>\n",
      "<input id=\"emailid\" name=\"emailid\" type=\"email\" value=\"abc@gmail.com\"/>\n",
      "<br/>\n",
      "<p>What do you want to buy ?</p><br/>\n",
      "<input id=\"toys\" name=\"toys\" type=\"radio\" value=\"toys\"/>\n",
      "<label for=\"toys\">Toys</label><br/>\n",
      "<input id=\"dolls\" name=\"dolls\" type=\"radio\" value=\"dolls\"/>\n",
      "<label for=\"dolls\">dolls</label><br/>\n",
      "<label for=\"q2\">What is the code number of the product</label><br/>\n",
      "<input id=\"q2\" name=\"q2\" type=\"number\"/>\n",
      "<p>What is your address ?</p><br/>\n",
      "<textarea cols=\"30\" id=\"address\" name=\"description\" placeholder=\"Write your address in details\" rows=\"10\">\n",
      "</textarea>\n",
      "<br/>\n",
      "<br/>\n",
      "<br/>\n",
      "<input type=\"submit\" value=\"submit\"/>\n",
      "<br/>\n",
      "</form>\n",
      "<a href=\"#top\">Back to the top</a>\n",
      "</body>\n",
      "</html>\n"
     ]
    }
   ],
   "source": [
    "from bs4 import BeautifulSoup\n",
    "\n",
    "\n",
    "with open(\"KidsJoy.html\", \"r\") as f: ##If internal html needs to be same directory pyhton file and html file\n",
    "  myfunc= BeautifulSoup(f,\"html.parser\")\n",
    "\n",
    "print (myfunc)\n",
    "\n",
    "\n",
    "\n",
    "\n",
    "\n",
    "\n",
    "\n",
    "\n",
    "\n",
    "\n",
    "\n",
    "\n",
    "\n",
    "\n",
    "\n",
    "\n",
    "\n",
    "\n"
   ]
  },
  {
   "cell_type": "code",
   "execution_count": null,
   "metadata": {},
   "outputs": [],
   "source": []
  },
  {
   "cell_type": "code",
   "execution_count": null,
   "metadata": {},
   "outputs": [],
   "source": []
  }
 ],
 "metadata": {
  "kernelspec": {
   "display_name": "Python 3",
   "language": "python",
   "name": "python3"
  },
  "language_info": {
   "codemirror_mode": {
    "name": "ipython",
    "version": 3
   },
   "file_extension": ".py",
   "mimetype": "text/x-python",
   "name": "python",
   "nbconvert_exporter": "python",
   "pygments_lexer": "ipython3",
   "version": "3.8.5"
  }
 },
 "nbformat": 4,
 "nbformat_minor": 4
}
