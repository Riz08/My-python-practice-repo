{
  "nbformat": 4,
  "nbformat_minor": 0,
  "metadata": {
    "colab": {
      "name": "Raw material output NMK.ipynb",
      "provenance": [],
      "collapsed_sections": [],
      "authorship_tag": "ABX9TyMez59KTsAgOj9Sb3o3W9v3",
      "include_colab_link": true
    },
    "kernelspec": {
      "name": "python3",
      "display_name": "Python 3"
    },
    "language_info": {
      "name": "python"
    }
  },
  "cells": [
    {
      "cell_type": "markdown",
      "metadata": {
        "id": "view-in-github",
        "colab_type": "text"
      },
      "source": [
        "<a href=\"https://colab.research.google.com/github/Riz08/My-python-practice-repo/blob/main/Raw_material_output_NMK.ipynb\" target=\"_parent\"><img src=\"https://colab.research.google.com/assets/colab-badge.svg\" alt=\"Open In Colab\"/></a>"
      ]
    },
    {
      "cell_type": "code",
      "execution_count": 28,
      "metadata": {
        "colab": {
          "base_uri": "https://localhost:8080/"
        },
        "id": "nPl21ZiFjYcR",
        "outputId": "3b818b35-29b0-444d-b6c2-5f4ad84af9a0"
      },
      "outputs": [
        {
          "output_type": "stream",
          "name": "stdout",
          "text": [
            "How much birds were slaughtered on Monday?23213\n",
            "How much birds were slaughtered on Tuesday?434\n",
            "How much birds were slaughtered on Wednesday?3123\n",
            "How much birds were slaughtered on Thursday?1244\n",
            "How much birds were slaughtered on Friday?124214\n",
            "Total_weekly_kills 152228\n",
            "Enter the slaughter rejected percentage.972\n",
            "MON_birds_amount_after_rejection 22987.36964\n",
            "TUE_birds_amount_after_rejection 429.78152\n",
            "WED_birds_amount_after_rejection 3092.64444\n",
            "THU_birds_amount_after_rejection 1231.90832\n",
            "FRI_birds_amount_after_rejection 123006.63992\n",
            "WEEKLY_birds_amount_after_rejection 150748.34384\n"
          ]
        }
      ],
      "source": [
        "#meat flow weekly wise\n",
        "##ask for input as integer from user\n",
        "#code so that it asks for values again if not integers\n",
        "\n",
        "MON_kills_amount= int(input(\"How much birds were slaughtered on Monday?\"))\n",
        "TUE_kills_amount= int(input(\"How much birds were slaughtered on Tuesday?\"))\n",
        "WED_kills_amount= int(input(\"How much birds were slaughtered on Wednesday?\"))\n",
        "THU_kills_amount= int(input(\"How much birds were slaughtered on Thursday?\"))\n",
        "FRI_kills_amount= int(input(\"How much birds were slaughtered on Friday?\"))\n",
        "\n",
        "Total_weekly_kills= MON_kills_amount+TUE_kills_amount+WED_kills_amount+THU_kills_amount+FRI_kills_amount\n",
        "print(\"Total_weekly_kills\",Total_weekly_kills)\n",
        "\n",
        "##Slaughter rejects amount in percentage weekly\n",
        "\n",
        "slaughter_reject_percentage= float(input(\"Enter the slaughter rejected percentage\"))\n",
        "\n",
        "MON_birds_amount_after_rejection= (MON_kills_amount-((slaughter_reject_percentage/100)*MON_kills_amount))\n",
        "TUE_birds_amount_after_rejection= (TUE_kills_amount-((slaughter_reject_percentage/100)*TUE_kills_amount))\n",
        "WED_birds_amount_after_rejection= (WED_kills_amount-((slaughter_reject_percentage/100)*WED_kills_amount))\n",
        "THU_birds_amount_after_rejection= (THU_kills_amount-((slaughter_reject_percentage/100)*THU_kills_amount))\n",
        "FRI_birds_amount_after_rejection= (FRI_kills_amount-((slaughter_reject_percentage/100)*FRI_kills_amount))\n",
        "\n",
        "WEEKLY_birds_amount_after_rejection= MON_birds_amount_after_rejection+TUE_birds_amount_after_rejection+WED_birds_amount_after_rejection+THU_birds_amount_after_rejection+FRI_birds_amount_after_rejection\n",
        "\n",
        "print(\"MON_birds_amount_after_rejection\",MON_birds_amount_after_rejection)\n",
        "print(\"TUE_birds_amount_after_rejection\",TUE_birds_amount_after_rejection)\n",
        "print(\"WED_birds_amount_after_rejection\",WED_birds_amount_after_rejection)\n",
        "print(\"THU_birds_amount_after_rejection\",THU_birds_amount_after_rejection)\n",
        "print(\"FRI_birds_amount_after_rejection\",FRI_birds_amount_after_rejection)\n",
        "print(\"WEEKLY_birds_amount_after_rejection\",WEEKLY_birds_amount_after_rejection)\n",
        "\n"
      ]
    },
    {
      "cell_type": "code",
      "source": [
        "12343"
      ],
      "metadata": {
        "id": "44BO56AfkGd8"
      },
      "execution_count": 23,
      "outputs": []
    },
    {
      "cell_type": "code",
      "source": [
        ""
      ],
      "metadata": {
        "id": "4ne2rU9-mbAW"
      },
      "execution_count": null,
      "outputs": []
    }
  ]
}