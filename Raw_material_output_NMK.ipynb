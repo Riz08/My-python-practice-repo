{
  "nbformat": 4,
  "nbformat_minor": 0,
  "metadata": {
    "colab": {
      "name": "Raw material output NMK.ipynb",
      "provenance": [],
      "authorship_tag": "ABX9TyN9jQccGAulUePuoFXBTv+F",
      "include_colab_link": true
    },
    "kernelspec": {
      "name": "python3",
      "display_name": "Python 3"
    },
    "language_info": {
      "name": "python"
    }
  },
  "cells": [
    {
      "cell_type": "markdown",
      "metadata": {
        "id": "view-in-github",
        "colab_type": "text"
      },
      "source": [
        "<a href=\"https://colab.research.google.com/github/Riz08/My-python-practice-repo/blob/main/Raw_material_output_NMK.ipynb\" target=\"_parent\"><img src=\"https://colab.research.google.com/assets/colab-badge.svg\" alt=\"Open In Colab\"/></a>"
      ]
    },
    {
      "cell_type": "code",
      "execution_count": null,
      "metadata": {
        "id": "nPl21ZiFjYcR"
      },
      "outputs": [],
      "source": [
        "#meat flow weekly wise\n",
        "\n",
        "MON_kills_amount= int(input(\"How much birds were slaughtered on Monday?\"))\n",
        "TUE_kills_amount= int(input(\"How much birds were slaughtered on Tuesday?\"))\n",
        "WED_kills_amount= int(input(\"How much birds were slaughtered on Wednesday?\"))\n",
        "THU_kills_amount= int(input(\"How much birds were slaughtered on Thursday?\"))\n",
        "FRI_kills_amount= int(input(\"How much birds were slaughtered on Friday?\"))\n",
        "\n",
        "Total_weekly_kills= MON_kills_amount+TUE_kills_amount+WED_kills_amount+THU_kills_amount+FRI_kills_amount\n",
        "print(Total_weekly_kills)\n",
        "\n"
      ]
    },
    {
      "cell_type": "code",
      "source": [
        "a=2\n",
        "b=3\n",
        "\n",
        "c=a+b\n",
        "print (c)"
      ],
      "metadata": {
        "colab": {
          "base_uri": "https://localhost:8080/"
        },
        "id": "44BO56AfkGd8",
        "outputId": "673ac8d6-7cb0-419a-c75e-f3203eedc27c"
      },
      "execution_count": 12,
      "outputs": [
        {
          "output_type": "stream",
          "name": "stdout",
          "text": [
            "5\n"
          ]
        }
      ]
    },
    {
      "cell_type": "code",
      "source": [
        ""
      ],
      "metadata": {
        "id": "4ne2rU9-mbAW"
      },
      "execution_count": null,
      "outputs": []
    }
  ]
}