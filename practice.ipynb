{
 "cells": [
  {
   "cell_type": "code",
   "execution_count": 2,
   "metadata": {},
   "outputs": [
    {
     "name": "stdout",
     "output_type": "stream",
     "text": [
      "QUANT crypto currency data alanysis\n"
     ]
    }
   ],
   "source": [
    "print ('QUANT crypto currency data alanysis')"
   ]
  },
  {
   "cell_type": "markdown",
   "metadata": {},
   "source": [
    "Markdown is used just tpo write notes for commands"
   ]
  },
  {
   "cell_type": "code",
   "execution_count": 7,
   "metadata": {},
   "outputs": [],
   "source": [
    "a= 12 ;\n",
    "b=2;\n",
    "c= a%b"
   ]
  },
  {
   "cell_type": "code",
   "execution_count": 11,
   "metadata": {},
   "outputs": [],
   "source": [
    "a=5"
   ]
  },
  {
   "cell_type": "code",
   "execution_count": 12,
   "metadata": {},
   "outputs": [],
   "source": [
    "a=a+a"
   ]
  },
  {
   "cell_type": "code",
   "execution_count": 1,
   "metadata": {},
   "outputs": [],
   "source": [
    "a= 12 ;\n",
    "b=2;\n",
    "c= a%b"
   ]
  },
  {
   "cell_type": "code",
   "execution_count": 2,
   "metadata": {},
   "outputs": [
    {
     "data": {
      "text/plain": [
       "0"
      ]
     },
     "execution_count": 2,
     "metadata": {},
     "output_type": "execute_result"
    }
   ],
   "source": [
    "c"
   ]
  },
  {
   "cell_type": "code",
   "execution_count": 3,
   "metadata": {},
   "outputs": [
    {
     "data": {
      "text/plain": [
       "int"
      ]
     },
     "execution_count": 3,
     "metadata": {},
     "output_type": "execute_result"
    }
   ],
   "source": [
    "type (a)"
   ]
  },
  {
   "cell_type": "code",
   "execution_count": 4,
   "metadata": {},
   "outputs": [],
   "source": [
    "a=5"
   ]
  },
  {
   "cell_type": "code",
   "execution_count": 5,
   "metadata": {},
   "outputs": [],
   "source": [
    "a=a+a"
   ]
  },
  {
   "cell_type": "code",
   "execution_count": 6,
   "metadata": {},
   "outputs": [
    {
     "data": {
      "text/plain": [
       "10"
      ]
     },
     "execution_count": 6,
     "metadata": {},
     "output_type": "execute_result"
    }
   ],
   "source": [
    "a"
   ]
  },
  {
   "cell_type": "code",
   "execution_count": 9,
   "metadata": {},
   "outputs": [],
   "source": [
    "mystring=\"Quant is the future\""
   ]
  },
  {
   "cell_type": "code",
   "execution_count": 11,
   "metadata": {},
   "outputs": [
    {
     "data": {
      "text/plain": [
       "'Quant is the future'"
      ]
     },
     "execution_count": 11,
     "metadata": {},
     "output_type": "execute_result"
    }
   ],
   "source": [
    "mystring"
   ]
  },
  {
   "cell_type": "code",
   "execution_count": 22,
   "metadata": {},
   "outputs": [
    {
     "data": {
      "text/plain": [
       "'erutuf eht si tnauQ'"
      ]
     },
     "execution_count": 22,
     "metadata": {},
     "output_type": "execute_result"
    }
   ],
   "source": [
    "mystring [::-1]"
   ]
  },
  {
   "cell_type": "code",
   "execution_count": 35,
   "metadata": {},
   "outputs": [],
   "source": [
    "a=\" Quant has very low supply.\" "
   ]
  },
  {
   "cell_type": "code",
   "execution_count": 36,
   "metadata": {},
   "outputs": [],
   "source": [
    "b= \"  80% of the supply has been bough by big investors at a very high price\""
   ]
  },
  {
   "cell_type": "code",
   "execution_count": 38,
   "metadata": {},
   "outputs": [
    {
     "name": "stdout",
     "output_type": "stream",
     "text": [
      " Quant has very low supply.  80% of the supply has been bough by big investors at a very high price\n"
     ]
    }
   ],
   "source": [
    "print (a + b)"
   ]
  },
  {
   "cell_type": "code",
   "execution_count": 39,
   "metadata": {},
   "outputs": [],
   "source": [
    "a=\" Quant has very low supply.\""
   ]
  },
  {
   "cell_type": "code",
   "execution_count": 40,
   "metadata": {},
   "outputs": [
    {
     "data": {
      "text/plain": [
       "' QUANT HAS VERY LOW SUPPLY.'"
      ]
     },
     "execution_count": 40,
     "metadata": {},
     "output_type": "execute_result"
    }
   ],
   "source": [
    "a.upper()"
   ]
  },
  {
   "cell_type": "code",
   "execution_count": 41,
   "metadata": {},
   "outputs": [
    {
     "data": {
      "text/plain": [
       "' quant has very low supply.'"
      ]
     },
     "execution_count": 41,
     "metadata": {},
     "output_type": "execute_result"
    }
   ],
   "source": [
    "a.lower()"
   ]
  },
  {
   "cell_type": "code",
   "execution_count": 42,
   "metadata": {},
   "outputs": [
    {
     "data": {
      "text/plain": [
       "['Quant', 'has', 'very', 'low', 'supply.']"
      ]
     },
     "execution_count": 42,
     "metadata": {},
     "output_type": "execute_result"
    }
   ],
   "source": [
    "a.split()"
   ]
  },
  {
   "cell_type": "code",
   "execution_count": 43,
   "metadata": {},
   "outputs": [
    {
     "data": {
      "text/plain": [
       "[' Qu', 'nt h', 's very low supply.']"
      ]
     },
     "execution_count": 43,
     "metadata": {},
     "output_type": "execute_result"
    }
   ],
   "source": [
    "a.split('a')"
   ]
  },
  {
   "cell_type": "code",
   "execution_count": 50,
   "metadata": {},
   "outputs": [
    {
     "name": "stdout",
     "output_type": "stream",
     "text": [
      "This has more potential than Ethereum bitcoin\n"
     ]
    }
   ],
   "source": [
    "print (\"This has more potential than {} {}\".format(\"Ethereum\", \"bitcoin\"))"
   ]
  },
  {
   "cell_type": "code",
   "execution_count": 51,
   "metadata": {},
   "outputs": [
    {
     "name": "stdout",
     "output_type": "stream",
     "text": [
      "This has more potential than Ethereum Ethereum\n"
     ]
    }
   ],
   "source": [
    "print (\"This has more potential than {0} {0}\".format(\"Ethereum\", \"bitcoin\"))"
   ]
  },
  {
   "cell_type": "code",
   "execution_count": 52,
   "metadata": {},
   "outputs": [
    {
     "name": "stdout",
     "output_type": "stream",
     "text": [
      "This has more potential than Ethereum bitcoin\n"
     ]
    }
   ],
   "source": [
    "print (\"This has more potential than {a} {b}\".format(a=\"Ethereum\",b= \"bitcoin\"))"
   ]
  },
  {
   "cell_type": "code",
   "execution_count": 58,
   "metadata": {},
   "outputs": [],
   "source": [
    "currentprice = 123.78695"
   ]
  },
  {
   "cell_type": "code",
   "execution_count": 59,
   "metadata": {},
   "outputs": [
    {
     "name": "stdout",
     "output_type": "stream",
     "text": [
      "the current price of Quant is 123.78695\n"
     ]
    }
   ],
   "source": [
    "print (\"the current price of Quant is {a}\".format(a=currentprice))"
   ]
  },
  {
   "cell_type": "code",
   "execution_count": 60,
   "metadata": {},
   "outputs": [],
   "source": [
    "#if no colon used this .format gives the value of the element"
   ]
  },
  {
   "cell_type": "code",
   "execution_count": 63,
   "metadata": {},
   "outputs": [
    {
     "name": "stdout",
     "output_type": "stream",
     "text": [
      "the current price of Quant is 123.7870\n"
     ]
    }
   ],
   "source": [
    "print (\"the current price of Quant is {a:5.4f}\".format(a=currentprice))"
   ]
  },
  {
   "cell_type": "code",
   "execution_count": 64,
   "metadata": {},
   "outputs": [
    {
     "name": "stdout",
     "output_type": "stream",
     "text": [
      "the current price of Quant is 123.78695\n"
     ]
    }
   ],
   "source": [
    "print (f\"the current price of Quant is {currentprice}\")"
   ]
  },
  {
   "cell_type": "code",
   "execution_count": 65,
   "metadata": {},
   "outputs": [],
   "source": [
    "my_coin_list =[\"ETH\",\"QUANT\",\"BTC\"]"
   ]
  },
  {
   "cell_type": "code",
   "execution_count": 66,
   "metadata": {},
   "outputs": [
    {
     "data": {
      "text/plain": [
       "'ETH'"
      ]
     },
     "execution_count": 66,
     "metadata": {},
     "output_type": "execute_result"
    }
   ],
   "source": [
    "my_coin_list[0]"
   ]
  },
  {
   "cell_type": "code",
   "execution_count": 67,
   "metadata": {},
   "outputs": [],
   "source": [
    "my_share_list = [\"TESLA\",\"NANODIMENTION\"]"
   ]
  },
  {
   "cell_type": "code",
   "execution_count": 70,
   "metadata": {},
   "outputs": [],
   "source": [
    "a=my_coin_list + my_share_list"
   ]
  },
  {
   "cell_type": "code",
   "execution_count": 71,
   "metadata": {},
   "outputs": [
    {
     "name": "stdout",
     "output_type": "stream",
     "text": [
      "['ETH', 'QUANT', 'BTC', 'TESLA', 'NANODIMENTION']\n"
     ]
    }
   ],
   "source": [
    "print (a)"
   ]
  },
  {
   "cell_type": "code",
   "execution_count": 72,
   "metadata": {},
   "outputs": [
    {
     "data": {
      "text/plain": [
       "['ETH', 'QUANT', 'BTC', 'TESLA', 'NANODIMENTION']"
      ]
     },
     "execution_count": 72,
     "metadata": {},
     "output_type": "execute_result"
    }
   ],
   "source": [
    "a"
   ]
  },
  {
   "cell_type": "code",
   "execution_count": 73,
   "metadata": {},
   "outputs": [
    {
     "data": {
      "text/plain": [
       "['ETH', 'QUANT', 'BTC', 'TESLA', 'NANODIMENTION']"
      ]
     },
     "execution_count": 73,
     "metadata": {},
     "output_type": "execute_result"
    }
   ],
   "source": [
    "a"
   ]
  },
  {
   "cell_type": "code",
   "execution_count": 74,
   "metadata": {},
   "outputs": [],
   "source": [
    "a[0]=\"Algorand\""
   ]
  },
  {
   "cell_type": "code",
   "execution_count": 75,
   "metadata": {},
   "outputs": [
    {
     "data": {
      "text/plain": [
       "['Algorand', 'QUANT', 'BTC', 'TESLA', 'NANODIMENTION']"
      ]
     },
     "execution_count": 75,
     "metadata": {},
     "output_type": "execute_result"
    }
   ],
   "source": [
    "a"
   ]
  },
  {
   "cell_type": "code",
   "execution_count": 80,
   "metadata": {},
   "outputs": [],
   "source": [
    "a.append(\"Ideanomics\")"
   ]
  },
  {
   "cell_type": "code",
   "execution_count": 81,
   "metadata": {},
   "outputs": [
    {
     "data": {
      "text/plain": [
       "['Algorand',\n",
       " 'QUANT',\n",
       " 'BTC',\n",
       " 'TESLA',\n",
       " 'NANODIMENTION',\n",
       " 'Ideanomics',\n",
       " 'Ideanomics']"
      ]
     },
     "execution_count": 81,
     "metadata": {},
     "output_type": "execute_result"
    }
   ],
   "source": [
    "a"
   ]
  },
  {
   "cell_type": "code",
   "execution_count": 83,
   "metadata": {},
   "outputs": [],
   "source": [
    "b=a.pop()"
   ]
  },
  {
   "cell_type": "code",
   "execution_count": 84,
   "metadata": {},
   "outputs": [
    {
     "data": {
      "text/plain": [
       "'Ideanomics'"
      ]
     },
     "execution_count": 84,
     "metadata": {},
     "output_type": "execute_result"
    }
   ],
   "source": [
    "b"
   ]
  },
  {
   "cell_type": "code",
   "execution_count": 85,
   "metadata": {},
   "outputs": [
    {
     "data": {
      "text/plain": [
       "['Algorand', 'QUANT', 'BTC', 'TESLA', 'NANODIMENTION']"
      ]
     },
     "execution_count": 85,
     "metadata": {},
     "output_type": "execute_result"
    }
   ],
   "source": [
    "a"
   ]
  },
  {
   "cell_type": "code",
   "execution_count": 86,
   "metadata": {},
   "outputs": [
    {
     "data": {
      "text/plain": [
       "'NANODIMENTION'"
      ]
     },
     "execution_count": 86,
     "metadata": {},
     "output_type": "execute_result"
    }
   ],
   "source": [
    "a.pop(-1)"
   ]
  },
  {
   "cell_type": "code",
   "execution_count": 87,
   "metadata": {},
   "outputs": [
    {
     "data": {
      "text/plain": [
       "['Algorand', 'QUANT', 'BTC', 'TESLA']"
      ]
     },
     "execution_count": 87,
     "metadata": {},
     "output_type": "execute_result"
    }
   ],
   "source": [
    "a"
   ]
  },
  {
   "cell_type": "code",
   "execution_count": 88,
   "metadata": {},
   "outputs": [],
   "source": [
    "a.sort()"
   ]
  },
  {
   "cell_type": "code",
   "execution_count": 89,
   "metadata": {},
   "outputs": [
    {
     "data": {
      "text/plain": [
       "['Algorand', 'BTC', 'QUANT', 'TESLA']"
      ]
     },
     "execution_count": 89,
     "metadata": {},
     "output_type": "execute_result"
    }
   ],
   "source": [
    "a"
   ]
  },
  {
   "cell_type": "code",
   "execution_count": 90,
   "metadata": {},
   "outputs": [],
   "source": [
    "new_list = [1,\"two\", 1.3456]"
   ]
  },
  {
   "cell_type": "code",
   "execution_count": 91,
   "metadata": {},
   "outputs": [],
   "source": [
    "b= [1,1,[1,2]]"
   ]
  },
  {
   "cell_type": "code",
   "execution_count": 100,
   "metadata": {},
   "outputs": [
    {
     "data": {
      "text/plain": [
       "[1, 2]"
      ]
     },
     "execution_count": 100,
     "metadata": {},
     "output_type": "execute_result"
    }
   ],
   "source": [
    "b[2]"
   ]
  },
  {
   "cell_type": "code",
   "execution_count": 101,
   "metadata": {},
   "outputs": [],
   "source": [
    "my_dict= {\"quant\":123,\"eth\":2700,\"btc\":37000}"
   ]
  },
  {
   "cell_type": "code",
   "execution_count": 103,
   "metadata": {},
   "outputs": [
    {
     "data": {
      "text/plain": [
       "123"
      ]
     },
     "execution_count": 103,
     "metadata": {},
     "output_type": "execute_result"
    }
   ],
   "source": [
    "my_dict[\"quant\"]"
   ]
  },
  {
   "cell_type": "code",
   "execution_count": 104,
   "metadata": {},
   "outputs": [],
   "source": [
    "my_dict={\"key\":[\"a\",\"b\",\"c\"]}"
   ]
  },
  {
   "cell_type": "code",
   "execution_count": 107,
   "metadata": {},
   "outputs": [
    {
     "data": {
      "text/plain": [
       "'C'"
      ]
     },
     "execution_count": 107,
     "metadata": {},
     "output_type": "execute_result"
    }
   ],
   "source": [
    "my_dict[\"key\"][-1].upper()"
   ]
  },
  {
   "cell_type": "code",
   "execution_count": 108,
   "metadata": {},
   "outputs": [
    {
     "data": {
      "text/plain": [
       "{'key': ['a', 'b', 'c']}"
      ]
     },
     "execution_count": 108,
     "metadata": {},
     "output_type": "execute_result"
    }
   ],
   "source": [
    "my_dict"
   ]
  },
  {
   "cell_type": "code",
   "execution_count": 111,
   "metadata": {},
   "outputs": [],
   "source": [
    "my_dict [\"key1\"]=\"d\""
   ]
  },
  {
   "cell_type": "code",
   "execution_count": 112,
   "metadata": {},
   "outputs": [
    {
     "data": {
      "text/plain": [
       "{'key': ['a', 'b', 'c'], 'key1': 'd'}"
      ]
     },
     "execution_count": 112,
     "metadata": {},
     "output_type": "execute_result"
    }
   ],
   "source": [
    "my_dict"
   ]
  },
  {
   "cell_type": "code",
   "execution_count": 113,
   "metadata": {},
   "outputs": [],
   "source": [
    "#how to add new items in dictionary"
   ]
  },
  {
   "cell_type": "code",
   "execution_count": 114,
   "metadata": {},
   "outputs": [],
   "source": [
    "my_dict[\"key\"]=\"new value\""
   ]
  },
  {
   "cell_type": "code",
   "execution_count": 115,
   "metadata": {},
   "outputs": [
    {
     "data": {
      "text/plain": [
       "{'key': 'new value', 'key1': 'd'}"
      ]
     },
     "execution_count": 115,
     "metadata": {},
     "output_type": "execute_result"
    }
   ],
   "source": [
    "my_dict"
   ]
  },
  {
   "cell_type": "code",
   "execution_count": 116,
   "metadata": {},
   "outputs": [],
   "source": [
    "#how to replace existing value of a item in dictionary"
   ]
  },
  {
   "cell_type": "code",
   "execution_count": 120,
   "metadata": {},
   "outputs": [
    {
     "data": {
      "text/plain": [
       "dict_keys(['key', 'key1'])"
      ]
     },
     "execution_count": 120,
     "metadata": {},
     "output_type": "execute_result"
    }
   ],
   "source": [
    "my_dict.keys()"
   ]
  },
  {
   "cell_type": "code",
   "execution_count": 121,
   "metadata": {},
   "outputs": [
    {
     "data": {
      "text/plain": [
       "dict_values(['new value', 'd'])"
      ]
     },
     "execution_count": 121,
     "metadata": {},
     "output_type": "execute_result"
    }
   ],
   "source": [
    "my_dict.values()"
   ]
  },
  {
   "cell_type": "code",
   "execution_count": 122,
   "metadata": {},
   "outputs": [
    {
     "data": {
      "text/plain": [
       "dict_items([('key', 'new value'), ('key1', 'd')])"
      ]
     },
     "execution_count": 122,
     "metadata": {},
     "output_type": "execute_result"
    }
   ],
   "source": [
    "my_dict.items()"
   ]
  },
  {
   "cell_type": "code",
   "execution_count": 123,
   "metadata": {},
   "outputs": [],
   "source": [
    "#tuples\n"
   ]
  },
  {
   "cell_type": "code",
   "execution_count": 124,
   "metadata": {},
   "outputs": [],
   "source": [
    "tupl=(1,2,3)"
   ]
  },
  {
   "cell_type": "code",
   "execution_count": 125,
   "metadata": {},
   "outputs": [
    {
     "data": {
      "text/plain": [
       "(1, 2, 3)"
      ]
     },
     "execution_count": 125,
     "metadata": {},
     "output_type": "execute_result"
    }
   ],
   "source": [
    "tupl"
   ]
  },
  {
   "cell_type": "code",
   "execution_count": 127,
   "metadata": {},
   "outputs": [],
   "source": [
    "tupl= (1,2,3,2,3,1,2,4)"
   ]
  },
  {
   "cell_type": "code",
   "execution_count": 128,
   "metadata": {},
   "outputs": [
    {
     "data": {
      "text/plain": [
       "2"
      ]
     },
     "execution_count": 128,
     "metadata": {},
     "output_type": "execute_result"
    }
   ],
   "source": [
    "tupl.count(1)"
   ]
  },
  {
   "cell_type": "code",
   "execution_count": 129,
   "metadata": {},
   "outputs": [],
   "source": [
    "#sets"
   ]
  },
  {
   "cell_type": "code",
   "execution_count": 142,
   "metadata": {},
   "outputs": [],
   "source": [
    "my_set= set()"
   ]
  },
  {
   "cell_type": "code",
   "execution_count": 144,
   "metadata": {},
   "outputs": [
    {
     "data": {
      "text/plain": [
       "set()"
      ]
     },
     "execution_count": 144,
     "metadata": {},
     "output_type": "execute_result"
    }
   ],
   "source": [
    "my_set"
   ]
  },
  {
   "cell_type": "code",
   "execution_count": 147,
   "metadata": {},
   "outputs": [],
   "source": [
    "my_set.add(1)"
   ]
  },
  {
   "cell_type": "code",
   "execution_count": 148,
   "metadata": {},
   "outputs": [
    {
     "data": {
      "text/plain": [
       "{1}"
      ]
     },
     "execution_count": 148,
     "metadata": {},
     "output_type": "execute_result"
    }
   ],
   "source": [
    "my_set\n"
   ]
  },
  {
   "cell_type": "code",
   "execution_count": 149,
   "metadata": {},
   "outputs": [],
   "source": [
    "my_set.add(2)"
   ]
  },
  {
   "cell_type": "code",
   "execution_count": 150,
   "metadata": {},
   "outputs": [
    {
     "data": {
      "text/plain": [
       "{1, 2}"
      ]
     },
     "execution_count": 150,
     "metadata": {},
     "output_type": "execute_result"
    }
   ],
   "source": [
    "my_set"
   ]
  },
  {
   "cell_type": "code",
   "execution_count": 153,
   "metadata": {},
   "outputs": [],
   "source": [
    "crypto= [\"Quant\",\"ETH\",\"BTC\",\"ETH\",\"BTC\"]"
   ]
  },
  {
   "cell_type": "code",
   "execution_count": 154,
   "metadata": {},
   "outputs": [
    {
     "data": {
      "text/plain": [
       "{'BTC', 'ETH', 'Quant'}"
      ]
     },
     "execution_count": 154,
     "metadata": {},
     "output_type": "execute_result"
    }
   ],
   "source": [
    "set(crypto)"
   ]
  },
  {
   "cell_type": "code",
   "execution_count": 158,
   "metadata": {},
   "outputs": [],
   "source": [
    "a= [\"M\",\"i\",\"s\",\"s\",\"i\",\"s\",\"s\",\"i\",\"p\",\"p\",\"i\"]"
   ]
  },
  {
   "cell_type": "code",
   "execution_count": 159,
   "metadata": {},
   "outputs": [
    {
     "data": {
      "text/plain": [
       "{'M', 'i', 'p', 's'}"
      ]
     },
     "execution_count": 159,
     "metadata": {},
     "output_type": "execute_result"
    }
   ],
   "source": [
    "set(a)"
   ]
  },
  {
   "cell_type": "code",
   "execution_count": 157,
   "metadata": {},
   "outputs": [
    {
     "data": {
      "text/plain": [
       "{'M', 'i', 'p', 's'}"
      ]
     },
     "execution_count": 157,
     "metadata": {},
     "output_type": "execute_result"
    }
   ],
   "source": [
    "set(\"Mississippi\")"
   ]
  },
  {
   "cell_type": "code",
   "execution_count": 160,
   "metadata": {},
   "outputs": [],
   "source": [
    "#booleans"
   ]
  },
  {
   "cell_type": "code",
   "execution_count": 161,
   "metadata": {},
   "outputs": [],
   "source": [
    "#to know the jupiter notebook directory where its located<\n"
   ]
  },
  {
   "cell_type": "code",
   "execution_count": 164,
   "metadata": {},
   "outputs": [
    {
     "data": {
      "text/plain": [
       "'C:\\\\Users\\\\rizab\\\\Riza python'"
      ]
     },
     "execution_count": 164,
     "metadata": {},
     "output_type": "execute_result"
    }
   ],
   "source": [
    "pwd"
   ]
  },
  {
   "cell_type": "code",
   "execution_count": 165,
   "metadata": {},
   "outputs": [],
   "source": [
    "#how to create a text file(only for jupiter notebook)"
   ]
  },
  {
   "cell_type": "code",
   "execution_count": 166,
   "metadata": {},
   "outputs": [
    {
     "name": "stdout",
     "output_type": "stream",
     "text": [
      "Writing myfile.txt\n"
     ]
    }
   ],
   "source": [
    "%%writefile myfile.txt\n",
    "Hi,This is Riza. I have started learning Python from the very beginning."
   ]
  },
  {
   "cell_type": "code",
   "execution_count": 169,
   "metadata": {},
   "outputs": [],
   "source": [
    "myfile= open(\"myfile.txt\")"
   ]
  },
  {
   "cell_type": "code",
   "execution_count": 170,
   "metadata": {},
   "outputs": [
    {
     "data": {
      "text/plain": [
       "'Hi,This is Riza. I have started learning Python from the very beginning.\\n'"
      ]
     },
     "execution_count": 170,
     "metadata": {},
     "output_type": "execute_result"
    }
   ],
   "source": [
    "myfile.read()"
   ]
  },
  {
   "cell_type": "code",
   "execution_count": 171,
   "metadata": {},
   "outputs": [
    {
     "data": {
      "text/plain": [
       "''"
      ]
     },
     "execution_count": 171,
     "metadata": {},
     "output_type": "execute_result"
    }
   ],
   "source": [
    "myfile.read()"
   ]
  },
  {
   "cell_type": "code",
   "execution_count": 172,
   "metadata": {},
   "outputs": [],
   "source": [
    "#it does not read again because the curser is at the end of reading. So to read the file again we need to do the following steps"
   ]
  },
  {
   "cell_type": "code",
   "execution_count": 173,
   "metadata": {},
   "outputs": [
    {
     "data": {
      "text/plain": [
       "0"
      ]
     },
     "execution_count": 173,
     "metadata": {},
     "output_type": "execute_result"
    }
   ],
   "source": [
    "myfile.seek(0)"
   ]
  },
  {
   "cell_type": "code",
   "execution_count": 174,
   "metadata": {},
   "outputs": [
    {
     "data": {
      "text/plain": [
       "'Hi,This is Riza. I have started learning Python from the very beginning.\\n'"
      ]
     },
     "execution_count": 174,
     "metadata": {},
     "output_type": "execute_result"
    }
   ],
   "source": [
    "myfile.read()"
   ]
  },
  {
   "cell_type": "code",
   "execution_count": 175,
   "metadata": {},
   "outputs": [
    {
     "data": {
      "text/plain": [
       "0"
      ]
     },
     "execution_count": 175,
     "metadata": {},
     "output_type": "execute_result"
    }
   ],
   "source": [
    "myfile.seek(0)"
   ]
  },
  {
   "cell_type": "code",
   "execution_count": 176,
   "metadata": {},
   "outputs": [
    {
     "data": {
      "text/plain": [
       "['Hi,This is Riza. I have started learning Python from the very beginning.\\n']"
      ]
     },
     "execution_count": 176,
     "metadata": {},
     "output_type": "execute_result"
    }
   ],
   "source": [
    "myfile.readlines()"
   ]
  },
  {
   "cell_type": "code",
   "execution_count": 178,
   "metadata": {},
   "outputs": [],
   "source": [
    "#Always need to close a file if opened"
   ]
  },
  {
   "cell_type": "code",
   "execution_count": null,
   "metadata": {},
   "outputs": [],
   "source": []
  },
  {
   "cell_type": "code",
   "execution_count": 185,
   "metadata": {},
   "outputs": [],
   "source": [
    "with open (\"myfile.txt\") as my_new_file:\n",
    "    contents= my_new_file.read()"
   ]
  },
  {
   "cell_type": "code",
   "execution_count": 186,
   "metadata": {},
   "outputs": [
    {
     "data": {
      "text/plain": [
       "'Hi,This is Riza. I have started learning Python from the very beginning.\\n'"
      ]
     },
     "execution_count": 186,
     "metadata": {},
     "output_type": "execute_result"
    }
   ],
   "source": [
    "contents"
   ]
  },
  {
   "cell_type": "code",
   "execution_count": 187,
   "metadata": {},
   "outputs": [],
   "source": [
    "#how to read a file withpout closing"
   ]
  },
  {
   "cell_type": "code",
   "execution_count": 188,
   "metadata": {},
   "outputs": [],
   "source": [
    "#how to edit and add text on file"
   ]
  },
  {
   "cell_type": "code",
   "execution_count": null,
   "metadata": {},
   "outputs": [],
   "source": []
  },
  {
   "cell_type": "code",
   "execution_count": 191,
   "metadata": {},
   "outputs": [],
   "source": [
    "with open (\"myfile.txt\")as my_new_file:\n",
    "    contents= my_new_file.read()"
   ]
  },
  {
   "cell_type": "code",
   "execution_count": 192,
   "metadata": {},
   "outputs": [
    {
     "data": {
      "text/plain": [
       "'Hi,This is Riza. I have started learning Python from the very beginning.\\n'"
      ]
     },
     "execution_count": 192,
     "metadata": {},
     "output_type": "execute_result"
    }
   ],
   "source": [
    "contents"
   ]
  },
  {
   "cell_type": "code",
   "execution_count": 194,
   "metadata": {},
   "outputs": [],
   "source": [
    "with open (\"myfile.txt\", mode=\"r\")as my_new_file:\n",
    "    contents= my_new_file.read()"
   ]
  },
  {
   "cell_type": "code",
   "execution_count": 195,
   "metadata": {},
   "outputs": [
    {
     "data": {
      "text/plain": [
       "'Hi,This is Riza. I have started learning Python from the very beginning.\\n'"
      ]
     },
     "execution_count": 195,
     "metadata": {},
     "output_type": "execute_result"
    }
   ],
   "source": [
    "contents"
   ]
  },
  {
   "cell_type": "code",
   "execution_count": 212,
   "metadata": {},
   "outputs": [
    {
     "name": "stdout",
     "output_type": "stream",
     "text": [
      "Overwriting family_name.txt\n"
     ]
    }
   ],
   "source": [
    "%%writefile family_name.txt\n",
    "Hi,This is Riza.\n",
    "My wife is Fahima\n",
    "My boy is Sarb\n"
   ]
  },
  {
   "cell_type": "code",
   "execution_count": 213,
   "metadata": {},
   "outputs": [
    {
     "name": "stdout",
     "output_type": "stream",
     "text": [
      "Hi,This is Riza.\n",
      "My wife is Fahima\n",
      "My boy is Sarb\n",
      "\n"
     ]
    }
   ],
   "source": [
    "with open (\"family_name.txt\",mode=\"r\") as f:\n",
    "    print (f.read())"
   ]
  },
  {
   "cell_type": "code",
   "execution_count": 214,
   "metadata": {},
   "outputs": [],
   "source": [
    "with open (\"family_name.txt\",mode=\"a\") as f:\n",
    "    f.write(\"My mother is Jesmin\")"
   ]
  },
  {
   "cell_type": "code",
   "execution_count": 215,
   "metadata": {},
   "outputs": [
    {
     "name": "stdout",
     "output_type": "stream",
     "text": [
      "Hi,This is Riza.\n",
      "My wife is Fahima\n",
      "My boy is Sarb\n",
      "My mother is Jesmin\n"
     ]
    }
   ],
   "source": [
    "with open (\"family_name.txt\",mode=\"r\") as f:\n",
    "    print (f.read())"
   ]
  },
  {
   "cell_type": "code",
   "execution_count": 216,
   "metadata": {},
   "outputs": [],
   "source": [
    "with open (\"family_name.txt\",mode=\"w\") as f:\n",
    "    f.write(\"My father is Taher\")"
   ]
  },
  {
   "cell_type": "code",
   "execution_count": 217,
   "metadata": {},
   "outputs": [
    {
     "name": "stdout",
     "output_type": "stream",
     "text": [
      "My father is Taher\n"
     ]
    }
   ],
   "source": [
    "with open (\"family_name.txt\",mode=\"r\") as f:\n",
    "    print (f.read())"
   ]
  },
  {
   "cell_type": "code",
   "execution_count": 218,
   "metadata": {},
   "outputs": [],
   "source": [
    "#solution of question"
   ]
  },
  {
   "cell_type": "code",
   "execution_count": 220,
   "metadata": {},
   "outputs": [
    {
     "name": "stdout",
     "output_type": "stream",
     "text": [
      "Writing test.txt\n"
     ]
    }
   ],
   "source": [
    "%%writefile test.txt\n",
    "Emptycell\n"
   ]
  },
  {
   "cell_type": "code",
   "execution_count": 221,
   "metadata": {},
   "outputs": [],
   "source": [
    "with open(\"test.txt\",mode=\"w\") as f:\n",
    "    f.write (\"Hello world\")"
   ]
  },
  {
   "cell_type": "code",
   "execution_count": 222,
   "metadata": {},
   "outputs": [
    {
     "name": "stdout",
     "output_type": "stream",
     "text": [
      "Hello world\n"
     ]
    }
   ],
   "source": [
    "with open(\"test.txt\",mode=\"r\") as f:\n",
    "    print (f.read ())"
   ]
  },
  {
   "cell_type": "code",
   "execution_count": 229,
   "metadata": {},
   "outputs": [
    {
     "name": "stdout",
     "output_type": "stream",
     "text": [
      "1\n",
      "2\n",
      "3\n",
      "4\n"
     ]
    }
   ],
   "source": [
    "#using list for loop\n",
    "\n",
    "my_list =[1,2,3,4]\n",
    "\n",
    "for num in my_list:\n",
    "    print (num)\n",
    "\n",
    "\n",
    "\n",
    "\n"
   ]
  },
  {
   "cell_type": "code",
   "execution_count": 232,
   "metadata": {},
   "outputs": [
    {
     "name": "stdout",
     "output_type": "stream",
     "text": [
      "The number is odd\n",
      "2\n",
      "The number is odd\n",
      "4\n"
     ]
    }
   ],
   "source": [
    "my_list =[1,2,3,4]\n",
    "\n",
    "for num in my_list:\n",
    "    if num %2 ==0:\n",
    "        print (num)\n",
    "    else:\n",
    "        print (\"The number is odd\")"
   ]
  },
  {
   "cell_type": "code",
   "execution_count": 235,
   "metadata": {},
   "outputs": [
    {
     "name": "stdout",
     "output_type": "stream",
     "text": [
      "1\n",
      "3\n",
      "6\n",
      "10\n"
     ]
    }
   ],
   "source": [
    "my_list =[1,2,3,4]\n",
    "list_sum =0\n",
    "\n",
    "for num in my_list:\n",
    "    list_sum= list_sum+ num\n",
    "    print (list_sum)"
   ]
  },
  {
   "cell_type": "code",
   "execution_count": 236,
   "metadata": {},
   "outputs": [
    {
     "name": "stdout",
     "output_type": "stream",
     "text": [
      "10\n"
     ]
    }
   ],
   "source": [
    "my_list =[1,2,3,4]\n",
    "list_sum =0\n",
    "\n",
    "for num in my_list:\n",
    "    list_sum= list_sum+ num\n",
    "print (list_sum)"
   ]
  },
  {
   "cell_type": "code",
   "execution_count": 237,
   "metadata": {},
   "outputs": [
    {
     "name": "stdout",
     "output_type": "stream",
     "text": [
      "C\n",
      "r\n",
      "y\n",
      "p\n",
      "t\n",
      "o\n",
      " \n",
      "F\n",
      "u\n",
      "t\n",
      "u\n",
      "r\n",
      "e\n"
     ]
    }
   ],
   "source": [
    "#for loop in strings\n",
    "\n",
    "my_string= \"Crypto Future\"\n",
    "\n",
    "for word in my_string:\n",
    "    print (word)\n"
   ]
  },
  {
   "cell_type": "code",
   "execution_count": 244,
   "metadata": {},
   "outputs": [
    {
     "name": "stdout",
     "output_type": "stream",
     "text": [
      "It is not an A\n",
      "It is not an A\n",
      "It is not an A\n",
      "It is not an A\n",
      "t\n",
      "It is not an A\n",
      "It is not an A\n",
      "It is not an A\n",
      "It is not an A\n",
      "t\n",
      "It is not an A\n",
      "It is not an A\n",
      "It is not an A\n"
     ]
    }
   ],
   "source": [
    "my_string= \"Crypto Future\"\n",
    "\n",
    "for word in my_string:\n",
    "    if word==\"t\":\n",
    "        print (word)\n",
    "    else:\n",
    "        print (\"It is not an A\")"
   ]
  },
  {
   "cell_type": "code",
   "execution_count": 247,
   "metadata": {},
   "outputs": [
    {
     "name": "stdout",
     "output_type": "stream",
     "text": [
      "1\n",
      "2\n",
      "3\n",
      "4\n",
      "5\n",
      "6\n"
     ]
    }
   ],
   "source": [
    "#for loop for tuples unpacking\n",
    "\n",
    "tup= (1,2,3,4,5,6)\n",
    "\n",
    "my_list= [(1,2),(3,4),(5,6)]\n",
    "\n",
    "for (a,b) in my_list:\n",
    "    print (a)\n",
    "    print(b)\n"
   ]
  },
  {
   "cell_type": "code",
   "execution_count": 251,
   "metadata": {},
   "outputs": [
    {
     "name": "stdout",
     "output_type": "stream",
     "text": [
      "A\n",
      "B\n",
      "C\n",
      "1\n",
      "2\n",
      "3\n"
     ]
    }
   ],
   "source": [
    "#for loop in dictionary\n",
    "\n",
    "\n",
    "dict_c= {\"A\":1,\"B\":2,\"C\":3}\n",
    "\n",
    "for a in dict_c:\n",
    "    print (a)\n",
    "\n",
    "# it only shows the key values. Need to use dicionary.items()\n",
    "# to get the set values and use unpacking process like tuples\n",
    "\n",
    "for a,b in dict_c.items():\n",
    "    print (b)\n",
    "\n"
   ]
  },
  {
   "cell_type": "code",
   "execution_count": 8,
   "metadata": {},
   "outputs": [
    {
     "name": "stdout",
     "output_type": "stream",
     "text": [
      "The value of x is 0\n",
      "The value of x is 1\n",
      "The value of x is 2\n",
      "The value of x is 3\n",
      "The value of x is 4\n",
      "X is not less than 5\n"
     ]
    }
   ],
   "source": [
    "##while loops in pyhton\n",
    "\n",
    "x=0\n",
    "\n",
    "while x  < 5:\n",
    "    print (f\"The value of x is {x}\")\n",
    "    x =x+1\n",
    "    \n",
    "else:\n",
    "    print (\"X is not less than 5\")"
   ]
  },
  {
   "cell_type": "code",
   "execution_count": 17,
   "metadata": {},
   "outputs": [
    {
     "name": "stdout",
     "output_type": "stream",
     "text": [
      "r\n",
      "i\n",
      "z\n",
      "b\n"
     ]
    }
   ],
   "source": [
    "# break\n",
    "#continiue\n",
    "#pass is used to make a code running keeping that option not finished\n",
    "\n",
    "email = (\"rizab\")\n",
    "\n",
    "for word in email:\n",
    "    if word==\"a\":\n",
    "        continue\n",
    "    print (word)\n"
   ]
  },
  {
   "cell_type": "code",
   "execution_count": 18,
   "metadata": {},
   "outputs": [
    {
     "name": "stdout",
     "output_type": "stream",
     "text": [
      "r\n",
      "i\n",
      "z\n"
     ]
    }
   ],
   "source": [
    "email = (\"rizab\")\n",
    "\n",
    "for word in email:\n",
    "    if word==\"a\":\n",
    "        break\n",
    "    print (word)"
   ]
  },
  {
   "cell_type": "code",
   "execution_count": 20,
   "metadata": {},
   "outputs": [
    {
     "name": "stdout",
     "output_type": "stream",
     "text": [
      "3\n",
      "6\n",
      "9\n"
     ]
    }
   ],
   "source": [
    "#range is used to generate information\n",
    "for num in range(3,10,3):\n",
    "    print (num)"
   ]
  },
  {
   "cell_type": "code",
   "execution_count": 21,
   "metadata": {},
   "outputs": [
    {
     "data": {
      "text/plain": [
       "[1, 6, 11, 16, 21, 26, 31, 36, 41, 46, 51, 56, 61, 66, 71, 76, 81, 86, 91, 96]"
      ]
     },
     "execution_count": 21,
     "metadata": {},
     "output_type": "execute_result"
    }
   ],
   "source": [
    "list(range(1,100,5))"
   ]
  },
  {
   "cell_type": "code",
   "execution_count": 23,
   "metadata": {},
   "outputs": [
    {
     "name": "stdout",
     "output_type": "stream",
     "text": [
      "<class 'enumerate'>\n",
      "[(0, 'Mon'), (1, 'Thu'), (2, 'Tue'), (3, 'Wed')]\n"
     ]
    }
   ],
   "source": [
    "#inumerate function\n",
    "\n",
    "days= { 'Mon', 'Tue', 'Wed','Thu'}\n",
    "enum_days = enumerate(days)\n",
    "print(type(enum_days))\n",
    "\n",
    "print(list(enum_days))\n",
    "\n",
    "\n"
   ]
  },
  {
   "cell_type": "code",
   "execution_count": 38,
   "metadata": {},
   "outputs": [
    {
     "name": "stdout",
     "output_type": "stream",
     "text": [
      "0 N\n",
      "1 a\n",
      "2 n\n",
      "3 o\n"
     ]
    }
   ],
   "source": [
    "index_count=0\n",
    "word = \"Nano\"\n",
    "\n",
    "for index,letter in enumerate(word):\n",
    "    print (index,letter)"
   ]
  },
  {
   "cell_type": "code",
   "execution_count": 39,
   "metadata": {},
   "outputs": [
    {
     "name": "stdout",
     "output_type": "stream",
     "text": [
      "(0, 'N')\n",
      "(1, 'a')\n",
      "(2, 'n')\n",
      "(3, 'o')\n"
     ]
    }
   ],
   "source": [
    "index_count=0\n",
    "word = \"Nano\"\n",
    "\n",
    "for letter in enumerate(word):\n",
    "    print (letter)"
   ]
  },
  {
   "cell_type": "code",
   "execution_count": 49,
   "metadata": {},
   "outputs": [
    {
     "name": "stdout",
     "output_type": "stream",
     "text": [
      "1 a\n",
      "2 b\n",
      "3 c\n"
     ]
    }
   ],
   "source": [
    "#Zip function\n",
    "# zip only gives same values of list numbers\n",
    "\n",
    "lst1= [1,2,3,4]\n",
    "lst2= [\"a\",\"b\",\"c\"]\n",
    "\n",
    "\n",
    "for num,item in zip(lst1,lst2):\n",
    "    print (num,item)\n"
   ]
  },
  {
   "cell_type": "code",
   "execution_count": 43,
   "metadata": {},
   "outputs": [
    {
     "data": {
      "text/plain": [
       "[(1, 'a'), (2, 'b'), (3, 'c')]"
      ]
     },
     "execution_count": 43,
     "metadata": {},
     "output_type": "execute_result"
    }
   ],
   "source": [
    "list(zip(lst1,lst2))"
   ]
  },
  {
   "cell_type": "code",
   "execution_count": 46,
   "metadata": {},
   "outputs": [
    {
     "data": {
      "text/plain": [
       "True"
      ]
     },
     "execution_count": 46,
     "metadata": {},
     "output_type": "execute_result"
    }
   ],
   "source": [
    "(1, 'a') in list(zip(lst1,lst2))"
   ]
  },
  {
   "cell_type": "code",
   "execution_count": 52,
   "metadata": {},
   "outputs": [
    {
     "data": {
      "text/plain": [
       "52342"
      ]
     },
     "execution_count": 52,
     "metadata": {},
     "output_type": "execute_result"
    }
   ],
   "source": [
    "#min max\n",
    "\n",
    "\n",
    "list_m= [1,1,2,4,13,324,235,235,532,352,52342,24]\n",
    "\n",
    "min(list_m)\n",
    "max(list_m)"
   ]
  },
  {
   "cell_type": "code",
   "execution_count": 60,
   "metadata": {},
   "outputs": [
    {
     "data": {
      "text/plain": [
       "[1, 2, 13, 352, 235, 4, 24, 1, 235, 52342, 324, 532]"
      ]
     },
     "execution_count": 60,
     "metadata": {},
     "output_type": "execute_result"
    }
   ],
   "source": [
    "#how to shuuffle a list\n",
    "# how to use pyhton library\n",
    "\n",
    "from random import shuffle\n",
    "\n",
    "list_m= [1,1,2,4,13,324,235,235,532,352,52342,24]\n",
    "\n",
    "shuffle (list_m)\n",
    "\n",
    "(list_m)"
   ]
  },
  {
   "cell_type": "code",
   "execution_count": 66,
   "metadata": {},
   "outputs": [
    {
     "data": {
      "text/plain": [
       "2"
      ]
     },
     "execution_count": 66,
     "metadata": {},
     "output_type": "execute_result"
    }
   ],
   "source": [
    "#import random number\n",
    "\n",
    "from random import randint\n",
    "\n",
    "randint (1,100)\n",
    "\n",
    "new_num\n"
   ]
  },
  {
   "cell_type": "code",
   "execution_count": 71,
   "metadata": {},
   "outputs": [
    {
     "name": "stdout",
     "output_type": "stream",
     "text": [
      "Enter a number here: 50\n"
     ]
    }
   ],
   "source": [
    "##How to ask user for input\n",
    "a= input (\"Enter a number here: \")"
   ]
  },
  {
   "cell_type": "code",
   "execution_count": 72,
   "metadata": {},
   "outputs": [
    {
     "data": {
      "text/plain": [
       "'50'"
      ]
     },
     "execution_count": 72,
     "metadata": {},
     "output_type": "execute_result"
    }
   ],
   "source": [
    "a"
   ]
  },
  {
   "cell_type": "code",
   "execution_count": 2,
   "metadata": {},
   "outputs": [
    {
     "data": {
      "text/plain": [
       "['rr', 'ii', 'zz', 'aa']"
      ]
     },
     "execution_count": 2,
     "metadata": {},
     "output_type": "execute_result"
    }
   ],
   "source": [
    "#create a list immedietly\n",
    "\n",
    "myname= \"riza\"\n",
    "\n",
    "mylist = []\n",
    "\n",
    "for letter in myname:\n",
    "    mylist.append(letter*2)\n",
    "    \n",
    "mylist\n"
   ]
  },
  {
   "cell_type": "code",
   "execution_count": 76,
   "metadata": {},
   "outputs": [
    {
     "data": {
      "text/plain": [
       "['j', 'k', 'n', 's', 'd', 'f', 'f', 'n', 'd', 's', 'f', 'l', 'k']"
      ]
     },
     "execution_count": 76,
     "metadata": {},
     "output_type": "execute_result"
    }
   ],
   "source": [
    "mylist = [x for x in \"jknsdffndsflk\"]\n",
    "mylist"
   ]
  },
  {
   "cell_type": "code",
   "execution_count": 78,
   "metadata": {},
   "outputs": [
    {
     "data": {
      "text/plain": [
       "[0, 1, 2, 3, 4, 5, 6, 7, 8, 9, 10]"
      ]
     },
     "execution_count": 78,
     "metadata": {},
     "output_type": "execute_result"
    }
   ],
   "source": [
    "mylist = [num for num in range (0,11)]\n",
    "mylist"
   ]
  },
  {
   "cell_type": "code",
   "execution_count": 79,
   "metadata": {},
   "outputs": [
    {
     "data": {
      "text/plain": [
       "[0, 1, 4, 9, 16, 25, 36, 49, 64, 81, 100]"
      ]
     },
     "execution_count": 79,
     "metadata": {},
     "output_type": "execute_result"
    }
   ],
   "source": [
    "mylist = [num**2 for num in range (0,11)]\n",
    "mylist"
   ]
  },
  {
   "cell_type": "code",
   "execution_count": 82,
   "metadata": {},
   "outputs": [
    {
     "data": {
      "text/plain": [
       "[0, 4, 16, 36, 64, 100]"
      ]
     },
     "execution_count": 82,
     "metadata": {},
     "output_type": "execute_result"
    }
   ],
   "source": [
    "mylist = [num**2 for num in range (0,11) if num%2==0]\n",
    "mylist"
   ]
  },
  {
   "cell_type": "code",
   "execution_count": 88,
   "metadata": {},
   "outputs": [
    {
     "data": {
      "text/plain": [
       "[32.0, 50.0, 89.6, 93.19999999999999]"
      ]
     },
     "execution_count": 88,
     "metadata": {},
     "output_type": "execute_result"
    }
   ],
   "source": [
    "celc = [0,10,32,34]\n",
    "\n",
    "Faren= [((x/5)*9)+32 for x in celc]\n",
    "\n",
    "Faren"
   ]
  },
  {
   "cell_type": "code",
   "execution_count": 4,
   "metadata": {},
   "outputs": [
    {
     "data": {
      "text/plain": [
       "[8, 12, 16, 16, 24, 32, 24, 36, 48]"
      ]
     },
     "execution_count": 4,
     "metadata": {},
     "output_type": "execute_result"
    }
   ],
   "source": [
    "#nester loop\n",
    "\n",
    "mylist =[]\n",
    "\n",
    "for x in [2,4,6]:\n",
    "    for y in [4,6,8]:\n",
    "        mylist.append(x*y)\n",
    "        \n",
    "mylist\n",
    "    \n",
    "    \n"
   ]
  },
  {
   "cell_type": "code",
   "execution_count": 10,
   "metadata": {},
   "outputs": [
    {
     "data": {
      "text/plain": [
       "[1, 2, 3, 4]"
      ]
     },
     "execution_count": 10,
     "metadata": {},
     "output_type": "execute_result"
    }
   ],
   "source": [
    "#how to find functions and help\n",
    "#press tab to see functions and add help to know details\n",
    "\n",
    "my_list= [1,2,3]\n",
    "my_list.append(4)\n",
    "\n",
    "my_list\n",
    "\n"
   ]
  },
  {
   "cell_type": "code",
   "execution_count": 6,
   "metadata": {},
   "outputs": [
    {
     "name": "stdout",
     "output_type": "stream",
     "text": [
      "Help on built-in function insert:\n",
      "\n",
      "insert(index, object, /) method of builtins.list instance\n",
      "    Insert object before index.\n",
      "\n"
     ]
    }
   ],
   "source": [
    "help(mylist.insert)\n"
   ]
  },
  {
   "cell_type": "code",
   "execution_count": 14,
   "metadata": {},
   "outputs": [],
   "source": [
    "##functions allow us to create block of codes to use again\n",
    "\n",
    "#python function format\n",
    "# return use instead of print makes the result a variable and for return we do not need to use () \n",
    "\n",
    "def name_of_function (x):\n",
    "    '''This is docstring that expalins the function'''\n",
    "    return (\"hello\"+x)"
   ]
  },
  {
   "cell_type": "code",
   "execution_count": 14,
   "metadata": {},
   "outputs": [
    {
     "name": "stdout",
     "output_type": "stream",
     "text": [
      "Hello riza\n"
     ]
    }
   ],
   "source": [
    "#for string need to make it string first\n",
    "\n",
    "def myfunc(name):\n",
    "    name= str (name)\n",
    "    print (\"Hello {}\". format(name))\n",
    "myfunc(\"riza\")"
   ]
  },
  {
   "cell_type": "code",
   "execution_count": 26,
   "metadata": {},
   "outputs": [
    {
     "name": "stdout",
     "output_type": "stream",
     "text": [
      "Bangladesh has high spread rate of 98%\n"
     ]
    }
   ],
   "source": [
    "def corona_cases(x):\n",
    "    print (f\"Bangladesh has high spread rate of {x}%\")\n",
    "corona_cases(98)"
   ]
  },
  {
   "cell_type": "code",
   "execution_count": 28,
   "metadata": {},
   "outputs": [
    {
     "name": "stdout",
     "output_type": "stream",
     "text": [
      "Bangladesh has high spread rate of Default%\n"
     ]
    }
   ],
   "source": [
    "def corona_cases(x=\"Default\"):\n",
    "    print (f\"Bangladesh has high spread rate of {x}%\")\n",
    "corona_cases()\n",
    "\n",
    "#default will make the fuction to run even x in empty\n"
   ]
  },
  {
   "cell_type": "code",
   "execution_count": 33,
   "metadata": {},
   "outputs": [
    {
     "data": {
      "text/plain": [
       "5"
      ]
     },
     "execution_count": 33,
     "metadata": {},
     "output_type": "execute_result"
    }
   ],
   "source": [
    "def add_numbers(x,y):\n",
    "    return x+y\n",
    "result= add_numbers(2,3)\n",
    "result\n",
    "\n",
    "#return can make a result as a new variable\n"
   ]
  },
  {
   "cell_type": "code",
   "execution_count": 35,
   "metadata": {},
   "outputs": [
    {
     "data": {
      "text/plain": [
       "False"
      ]
     },
     "execution_count": 35,
     "metadata": {},
     "output_type": "execute_result"
    }
   ],
   "source": [
    "#function with logic\n",
    "\n",
    "def find_odd_even(number):\n",
    "    result = number %2==0\n",
    "    return result\n",
    "\n",
    "find_odd_even(3)\n"
   ]
  },
  {
   "cell_type": "code",
   "execution_count": 45,
   "metadata": {},
   "outputs": [
    {
     "data": {
      "text/plain": [
       "True"
      ]
     },
     "execution_count": 45,
     "metadata": {},
     "output_type": "execute_result"
    }
   ],
   "source": [
    "#return true is any number is even in a list\n",
    "#dont use two return in same code sector\n",
    "\n",
    "def check_even_list (number):\n",
    "    for num in number:\n",
    "        if num %2==0:\n",
    "            return True\n",
    "        else:\n",
    "            pass\n",
    "    return (\"No even number\")\n",
    "        \n",
    "\n",
    "check_even_list ([1,2,3])\n"
   ]
  },
  {
   "cell_type": "code",
   "execution_count": 47,
   "metadata": {},
   "outputs": [
    {
     "data": {
      "text/plain": [
       "[2, 4]"
      ]
     },
     "execution_count": 47,
     "metadata": {},
     "output_type": "execute_result"
    }
   ],
   "source": [
    "#IF WANT TO RETURN A EVEN NUMBER LIST\n",
    "\n",
    "def check_even_list (numberlist):\n",
    "    \n",
    "    even_numbers =[]\n",
    "    \n",
    "    for x in numberlist:\n",
    "        if x %2==0:\n",
    "            even_numbers.append(x)\n",
    "        else:\n",
    "            pass\n",
    "    return even_numbers\n",
    "        \n",
    "\n",
    "check_even_list ([1,2,3,4,5])"
   ]
  },
  {
   "cell_type": "code",
   "execution_count": 3,
   "metadata": {},
   "outputs": [
    {
     "name": "stdout",
     "output_type": "stream",
     "text": [
      "QNT\n",
      "ETH\n",
      "BTC\n"
     ]
    }
   ],
   "source": [
    "#tuples unpacking usng functions\n",
    "\n",
    "\n",
    "crypto_value= [(\"QNT\",116),(\"ETH\",2600),(\"BTC\",3800)]\n",
    "\n",
    "for x,y in crypto_value:\n",
    "    print (x)\n"
   ]
  },
  {
   "cell_type": "code",
   "execution_count": 9,
   "metadata": {},
   "outputs": [
    {
     "data": {
      "text/plain": [
       "('Riza', 3500)"
      ]
     },
     "execution_count": 9,
     "metadata": {},
     "output_type": "execute_result"
    }
   ],
   "source": [
    "work_hours= [(\"Riza\",3500),(\"Sarb\",100), (\"Fahima\",1300)]\n",
    "\n",
    "def employe_check(work_hours):\n",
    "    \n",
    "    current_max =0\n",
    "    employee_of_month= \"\"\n",
    "    \n",
    "    \n",
    "    for x,y in work_hours:\n",
    "        if y> current_max:\n",
    "            current_max= y\n",
    "            employee_of_month= x\n",
    "        else:\n",
    "            pass\n",
    "    return (employee_of_month,current_max)\n",
    "\n",
    "\n",
    "\n",
    "employe_check(work_hours)\n",
    "\n",
    "\n",
    "\n",
    "\n"
   ]
  },
  {
   "cell_type": "code",
   "execution_count": 18,
   "metadata": {},
   "outputs": [
    {
     "data": {
      "text/plain": [
       "[3, 9, 2, 5, 6, 8, 1, 4, 7]"
      ]
     },
     "execution_count": 18,
     "metadata": {},
     "output_type": "execute_result"
    }
   ],
   "source": [
    "#Interection between python functions\n",
    "#guess the ball in cup game\n",
    "\n",
    "cup_number=[1,2,3,4,5,6,7,8,9]\n",
    "\n",
    "from random import shuffle\n",
    "\n",
    "result= shuffle (cup_number)\n",
    "\n",
    "cup_number\n"
   ]
  },
  {
   "cell_type": "code",
   "execution_count": 23,
   "metadata": {},
   "outputs": [
    {
     "data": {
      "text/plain": [
       "[1, 2, 7, 3, 8, 9, 4, 5, 6]"
      ]
     },
     "execution_count": 23,
     "metadata": {},
     "output_type": "execute_result"
    }
   ],
   "source": [
    "#shuffle my 9 cups\n",
    "mylist=[1,2,3,4,5,6,7,8,9]\n",
    "\n",
    "\n",
    "def shuffle_list(mylist):\n",
    "    shuffle(mylist)\n",
    "    return mylist\n",
    "\n",
    "result= shuffle_list(mylist)\n",
    "\n",
    "result\n"
   ]
  },
  {
   "cell_type": "code",
   "execution_count": 9,
   "metadata": {},
   "outputs": [
    {
     "data": {
      "text/plain": [
       "['', 'o', '']"
      ]
     },
     "execution_count": 9,
     "metadata": {},
     "output_type": "execute_result"
    }
   ],
   "source": [
    "\n",
    "#shuffle my ball in cup\n",
    "\n",
    "ball_place = [\"\",\"o\",\"\"]\n",
    "\n",
    "def x(ball_place):\n",
    "    shuffle (ball_place)\n",
    "    return (ball_place)\n",
    "x(ball_place)"
   ]
  },
  {
   "cell_type": "code",
   "execution_count": 32,
   "metadata": {},
   "outputs": [
    {
     "name": "stdout",
     "output_type": "stream",
     "text": [
      "Pick a number between 0,1 and 28\n",
      "Pick a number between 0,1 and 21\n"
     ]
    },
    {
     "data": {
      "text/plain": [
       "1"
      ]
     },
     "execution_count": 32,
     "metadata": {},
     "output_type": "execute_result"
    }
   ],
   "source": [
    "#need to create a function to guess the ball in a cup\n",
    "#input always returns as string\n",
    "\n",
    "\n",
    "def player_guess():\n",
    "    \n",
    "    guess= \"\"\n",
    "    while guess not in [\"0\",\"1\",\"2\"]:\n",
    "      guess = input (\"Pick a number between 0,1 and 2\")\n",
    "    return int(guess)    \n",
    "\n",
    "player_guess()\n"
   ]
  },
  {
   "cell_type": "code",
   "execution_count": 43,
   "metadata": {},
   "outputs": [],
   "source": [
    "##combine the shuffle ball and guess\n",
    "\n",
    "def player_guess(y,guess):\n",
    "    if y[guess]==\"o\":\n",
    "        print(\"CORRECTR!\")\n",
    "    else:\n",
    "        print (\"Wrong guess\")\n",
    "        print (y)\n",
    "\n"
   ]
  },
  {
   "cell_type": "code",
   "execution_count": 12,
   "metadata": {
    "scrolled": true
   },
   "outputs": [
    {
     "name": "stdout",
     "output_type": "stream",
     "text": [
      "Pick a number between 0,1 and 21\n"
     ]
    }
   ],
   "source": [
    "#shuffle my ball in cup\n",
    "#very important to understand\n",
    "\n",
    "ball_place = [\"\",\"o\",\"\"]\n",
    "\n",
    "from random import shuffle\n",
    "\n",
    "def x(ball_place):\n",
    "    shuffle (ball_place)\n",
    "    return (ball_place)\n",
    "x(ball_place)\n",
    "\n",
    "\n",
    "\n",
    "\n",
    "\n",
    "def player_guess():\n",
    "    \n",
    "    guess= \"\"\n",
    "    while guess not in [\"0\",\"1\",\"2\"]:\n",
    "      guess = input (\"Pick a number between 0,1 and 2\")\n",
    "    return int(guess)    \n",
    "\n",
    "player_guess()\n",
    "\n",
    "\n",
    "def check_guess(ball_place,guess):\n",
    "    if ball_place[guess]==\"o\":\n",
    "        print(\"CORRECTR!\")\n",
    "    else:\n",
    "        print (\"Wrong guess\")\n",
    "        print (ball_place)\n",
    "\n",
    "\n"
   ]
  },
  {
   "cell_type": "code",
   "execution_count": 13,
   "metadata": {},
   "outputs": [
    {
     "name": "stdout",
     "output_type": "stream",
     "text": [
      "Pick a number between 0,1 and 21\n",
      "Wrong guess\n",
      "['o', '', '']\n"
     ]
    }
   ],
   "source": [
    "#initial list\n",
    "ball_place = [\"\",\"o\",\"\"]\n",
    "#Shuffle list \n",
    "y= x(ball_place)\n",
    "#player guess\n",
    "guess=player_guess()\n",
    "#final output\n",
    "check_guess(ball_place,guess)\n",
    "               \n",
    "            "
   ]
  },
  {
   "cell_type": "code",
   "execution_count": 17,
   "metadata": {},
   "outputs": [],
   "source": [
    "##*args(arguments) and **kwargs(keywordarguments)\n",
    "\n",
    "def myfunc(a,b):\n",
    "    return sum((a,b))\n",
    "\n",
    "#what to do for more numbers???\n",
    "#if we use *args makes it a tuple for many numbers as much is needed\n",
    "\n",
    "def myfunc(*args):\n",
    "    return sum(*args)\n",
    "\n",
    "#**kwargs brings a dictionary\n",
    "\n",
    "\n",
    "def myfunc(**kwargs):\n",
    "    print (kwargs)\n"
   ]
  },
  {
   "cell_type": "code",
   "execution_count": 21,
   "metadata": {},
   "outputs": [],
   "source": [
    "def myfunc(*args,**kwargs):\n",
    "    print (args)\n",
    "    print (kwargs)\n",
    "    print (\"I would like {} {}\".format(args[0],kwargs[\"food\"]))\n",
    "##how to work args and kwargs together\n"
   ]
  },
  {
   "cell_type": "code",
   "execution_count": 22,
   "metadata": {},
   "outputs": [
    {
     "name": "stdout",
     "output_type": "stream",
     "text": [
      "(10, 12, 12, 14)\n",
      "{'food': 'eggs'}\n",
      "I would like 10 eggs\n"
     ]
    }
   ],
   "source": [
    "myfunc (10,12,12,14, food=\"eggs\")"
   ]
  },
  {
   "cell_type": "code",
   "execution_count": 15,
   "metadata": {},
   "outputs": [
    {
     "data": {
      "text/plain": [
       "[4, 9, 16, 25]"
      ]
     },
     "execution_count": 15,
     "metadata": {},
     "output_type": "execute_result"
    }
   ],
   "source": [
    "#lambda expression map and filter\n",
    "\n",
    "\n",
    "def sqr(*args):\n",
    "    sqr_num= []\n",
    "    \n",
    "    for y in args:\n",
    "        sqr_num.append(y**2)\n",
    "    return sqr_num\n",
    "        \n",
    "    \n",
    "sqr(2,3,4,5)\n"
   ]
  },
  {
   "cell_type": "code",
   "execution_count": 17,
   "metadata": {},
   "outputs": [
    {
     "name": "stdout",
     "output_type": "stream",
     "text": [
      "1\n",
      "4\n",
      "9\n",
      "16\n",
      "25\n"
     ]
    }
   ],
   "source": [
    "#use of map is useful for list which has [] parenthesis\n",
    "\n",
    "def square(num):\n",
    "    return num**2\n",
    "\n",
    "\n",
    "my_list=[1,2,3,4,5]\n",
    "\n",
    "for item in map (square,my_list):\n",
    "    print (item)\n",
    "    "
   ]
  },
  {
   "cell_type": "code",
   "execution_count": 21,
   "metadata": {},
   "outputs": [
    {
     "data": {
      "text/plain": [
       "[1, 4, 9, 16, 25]"
      ]
     },
     "execution_count": 21,
     "metadata": {},
     "output_type": "execute_result"
    }
   ],
   "source": [
    "def square(num):\n",
    "    return num**2\n",
    "\n",
    "\n",
    "my_list=[1,2,3,4,5]\n",
    "\n",
    "list(map(square,my_list))"
   ]
  },
  {
   "cell_type": "code",
   "execution_count": 22,
   "metadata": {},
   "outputs": [
    {
     "data": {
      "text/plain": [
       "['not even', 'even']"
      ]
     },
     "execution_count": 22,
     "metadata": {},
     "output_type": "execute_result"
    }
   ],
   "source": [
    "\n",
    "def myfunc(x):\n",
    "    if len(x)%2==0:\n",
    "        return\"even\"\n",
    "    else:\n",
    "        return \"not even\"\n",
    "    \n",
    "my_list=[\"apple\",\"ball\"]\n",
    "\n",
    "list(map(myfunc,my_list))\n",
    "\n"
   ]
  },
  {
   "cell_type": "code",
   "execution_count": 26,
   "metadata": {},
   "outputs": [
    {
     "name": "stdout",
     "output_type": "stream",
     "text": [
      "1\n",
      "2\n",
      "3\n",
      "4\n",
      "5\n",
      "6\n"
     ]
    }
   ],
   "source": [
    "#use of filter\n",
    "\n",
    "def myfunc(x):\n",
    "    if x%2==0:\n",
    "        return\"even\"\n",
    "    else:\n",
    "        return \"not even\"\n",
    "    \n",
    "my_list=[1,2,3,4,5,6]\n",
    "\n",
    "\n",
    "list(filter(myfunc,my_list))\n",
    "\n",
    "\n",
    "for item in filter(myfunc,my_list):\n",
    "    print (item)\n",
    "\n"
   ]
  },
  {
   "cell_type": "code",
   "execution_count": 31,
   "metadata": {},
   "outputs": [
    {
     "name": "stdout",
     "output_type": "stream",
     "text": [
      "15\n"
     ]
    }
   ],
   "source": [
    "#use of lambda expression\n",
    "\n",
    "\n",
    "x = lambda a : a + 10\n",
    "print(x(5))\n"
   ]
  },
  {
   "cell_type": "code",
   "execution_count": 32,
   "metadata": {},
   "outputs": [
    {
     "name": "stdout",
     "output_type": "stream",
     "text": [
      "33\n"
     ]
    }
   ],
   "source": [
    "def myfunc(n):\n",
    "  return lambda a : a * n\n",
    "\n",
    "mytripler = myfunc(3)\n",
    "\n",
    "print(mytripler(11))"
   ]
  },
  {
   "cell_type": "code",
   "execution_count": 33,
   "metadata": {},
   "outputs": [
    {
     "data": {
      "text/plain": [
       "range(0, 3)"
      ]
     },
     "execution_count": 33,
     "metadata": {},
     "output_type": "execute_result"
    }
   ],
   "source": [
    "range(3)"
   ]
  },
  {
   "cell_type": "code",
   "execution_count": 16,
   "metadata": {},
   "outputs": [
    {
     "name": "stdout",
     "output_type": "stream",
     "text": [
      "Enter a value: e\n",
      "Sorry its not a digit\n",
      "Enter a value: 2\n"
     ]
    },
    {
     "data": {
      "text/plain": [
       "2"
      ]
     },
     "execution_count": 16,
     "metadata": {},
     "output_type": "execute_result"
    }
   ],
   "source": [
    "#validating user input\n",
    "#while loop continiues until we get the result\n",
    "def user_choice():\n",
    "    x= \"\"\n",
    "    while x.isdigit()==False:\n",
    "        x= input (\"Enter a value: \")\n",
    "        if x.isdigit()==False:\n",
    "            print (\"Sorry its not a digit\") \n",
    "    return int(x)\n",
    "   \n",
    "        \n",
    "\n",
    "user_choice()\n",
    "\n",
    "\n"
   ]
  },
  {
   "cell_type": "code",
   "execution_count": 16,
   "metadata": {},
   "outputs": [
    {
     "name": "stdout",
     "output_type": "stream",
     "text": [
      "Enter the value: 11\n",
      "Not in Range\n",
      "Sorry pout of range\n"
     ]
    },
    {
     "data": {
      "text/plain": [
       "11"
      ]
     },
     "execution_count": 16,
     "metadata": {},
     "output_type": "execute_result"
    }
   ],
   "source": [
    "#we need to get user input which is number and between range 0 to 10\n",
    "\n",
    "# First define a function\n",
    "#Assume variable x for user input , acceptable range and within_range\n",
    "# first we need to ask the user for input again if its not a digit and not in range\n",
    "# Inform the user what was the issue with input\n",
    "#When the input is digit and in range than within_range in true\n",
    "\n",
    "\n",
    "def myfunc():\n",
    "    x= \"text\"\n",
    "    acceptable_range= range(0,10)\n",
    "    within_range=False\n",
    "    while x.isdigit()== False and within_range==False:\n",
    "        x= input (\"Enter the value: \")\n",
    "        if x.isdigit()==False:\n",
    "            print (\"Put the correct number\")\n",
    "        if within_range== False:\n",
    "            print (\"Not in Range\")\n",
    "            \n",
    "\n",
    "        if x.isdigit()== True:\n",
    "            if int(x) in acceptable_range:\n",
    "                within_range=True\n",
    "            else:\n",
    "                print (\"Sorry pout of range\")\n",
    "                within_range= False\n",
    "    return int(x)\n",
    "\n",
    "\n",
    "myfunc()"
   ]
  },
  {
   "cell_type": "code",
   "execution_count": 8,
   "metadata": {},
   "outputs": [
    {
     "name": "stdout",
     "output_type": "stream",
     "text": [
      "Here is the game list\n",
      "[0, 1, 2]\n",
      "Provide a value between 0 and 2: 1\n",
      "Type as string to place at position : DSD\n",
      "Do you want to keep playing: Y\n",
      "Here is the game list\n",
      "[0, 1, 2]\n",
      "Provide a value between 0 and 2: 0\n",
      "Type as string to place at position : SDF\n",
      "Do you want to keep playing: N\n"
     ]
    }
   ],
   "source": [
    "#simple user interection\n",
    "#1st display function to display the list\n",
    "#user input function with condition\n",
    "#replacement function\n",
    "#game on off function\n",
    "#Recall the game\n",
    "\n",
    "game_list=[0,1,2]\n",
    "def display(game_list):\n",
    "    print (\"Here is the game list\")\n",
    "    print (game_list)\n",
    "    \n",
    "display(game_list)\n",
    "\n",
    "\n",
    "def user_input():\n",
    "    x=\"\"\n",
    "    while x not in [\"0\",\"1\",\"2\"]:\n",
    "        x= input (\"Provide a value between 0 and 2: \")\n",
    "        if x not in [\"0\",\"1\",\"2\"]:\n",
    "            print (\"Value not in desired range\")\n",
    "        else:\n",
    "            pass\n",
    "    return int(x)\n",
    "\n",
    "user_input()    \n",
    "    \n",
    "\n",
    "def replacement_position(game_list,position):\n",
    "    a= input(\"Type as string to place at position : \")\n",
    "    game_list[position]=a\n",
    "    \n",
    "    return game_list\n",
    "\n",
    "\n",
    "replacement_position(game_list,1)   \n",
    "    \n",
    "\n",
    "\n",
    "def game_onchoice():\n",
    "    x=\"\"\n",
    "    while x not in [\"Y\",\"N\"]:\n",
    "        x= input (\"Do you want to keep playing: \")\n",
    "        if x not in [\"Y\",\"N\"]:\n",
    "            print (\"Please write Y or N\")\n",
    "    if x==\"Y\":\n",
    "        return True\n",
    "    else:\n",
    "        return False\n",
    "    \n",
    "\n",
    "game_onchoice()\n",
    "\n",
    "\n",
    "# Variable to keep game playing\n",
    "game_on = True\n",
    "\n",
    "# First Game List\n",
    "game_list = [0,1,2]\n",
    "\n",
    "\n",
    "\n",
    "while game_on== True:\n",
    "    \n",
    "   \n",
    "    display(game_list)\n",
    "    \n",
    "    # Have player choose position\n",
    "    user_input()\n",
    "    \n",
    "    # Rewrite that position and update game_list\n",
    "    game_list = replacement_position(game_list,position)\n",
    "\n",
    "     display(game_list)\n",
    "    \n",
    "    # Ask if you want to keep playing\n",
    "    game_on = game_onchoice()\n",
    "\n",
    "\n",
    "\n",
    "\n",
    "\n",
    "\n",
    "\n",
    "\n"
   ]
  },
  {
   "cell_type": "code",
   "execution_count": null,
   "metadata": {},
   "outputs": [],
   "source": []
  },
  {
   "cell_type": "code",
   "execution_count": null,
   "metadata": {},
   "outputs": [],
   "source": []
  }
 ],
 "metadata": {
  "kernelspec": {
   "display_name": "Python 3",
   "language": "python",
   "name": "python3"
  },
  "language_info": {
   "codemirror_mode": {
    "name": "ipython",
    "version": 3
   },
   "file_extension": ".py",
   "mimetype": "text/x-python",
   "name": "python",
   "nbconvert_exporter": "python",
   "pygments_lexer": "ipython3",
   "version": "3.8.5"
  }
 },
 "nbformat": 4,
 "nbformat_minor": 4
}




class Coronacases:
    
    
    def __init__(self,country,region,amount):
        self.country=country
        self.region=region
        self.amount=amount
        self.writting= country+" is in " +region+ " with amount of people "+ amount +" infected"
        #we can create new attribute if we use all in it functions and strings
        
        
    def fullname(self):
        return "{} {}".format(self.country,self.region)
        

country1= Coronacases("Finland","Nordic","5000")
                    #country,region,amount

print (country1.fullname()) #need to use () always
