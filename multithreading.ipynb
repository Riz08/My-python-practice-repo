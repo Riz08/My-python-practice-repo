{
  "nbformat": 4,
  "nbformat_minor": 0,
  "metadata": {
    "colab": {
      "name": "multithreading",
      "provenance": [],
      "authorship_tag": "ABX9TyONb2eXi6lDLzbLfrRpsozG",
      "include_colab_link": true
    },
    "kernelspec": {
      "name": "python3",
      "display_name": "Python 3"
    },
    "language_info": {
      "name": "python"
    }
  },
  "cells": [
    {
      "cell_type": "markdown",
      "metadata": {
        "id": "view-in-github",
        "colab_type": "text"
      },
      "source": [
        "<a href=\"https://colab.research.google.com/github/Riz08/My-python-practice-repo/blob/main/multithreading.ipynb\" target=\"_parent\"><img src=\"https://colab.research.google.com/assets/colab-badge.svg\" alt=\"Open In Colab\"/></a>"
      ]
    },
    {
      "cell_type": "code",
      "execution_count": 9,
      "metadata": {
        "colab": {
          "base_uri": "https://localhost:8080/"
        },
        "id": "0VMG8mgi_DlO",
        "outputId": "3727018a-5fc1-4ff4-b0ea-0ff81755ab93"
      },
      "outputs": [
        {
          "output_type": "stream",
          "name": "stdout",
          "text": [
            "The value of the rectange is :  50The value of the rectange is :  36\n",
            "\n",
            "Process ID:  61\n",
            "Thread ID :  139937112209280\n",
            "Number of Threads :  10\n",
            "Done\n"
          ]
        }
      ],
      "source": [
        "import threading\n",
        "\n",
        "def rectangle(x,y):\n",
        "  print (\"The value of the rectange is :  {}\".format (x*y))\n",
        "\n",
        "def square(a,b):\n",
        "  print (\"The value of the rectange is :  {}\".format (a*b))\n",
        "\n",
        "\n",
        "if __name__==\"__main__\":\n",
        "  object1= threading.Thread(target=rectangle, args= (5,10))\n",
        "  object2= threading.Thread(target=rectangle, args= (6,6))\n",
        "\n",
        "  object1.start()\n",
        "  object2.start()\n",
        "\n",
        "  object1.join()\n",
        "  object2.join()\n",
        "  print (\"Process ID: \", os.getpid())\n",
        "  print (\"Thread ID : \", threading.get_ident())\n",
        "  print (\"Number of Threads : \", threading.active_count())\n",
        "  print (\"Done\")\n",
        "\n",
        "\n",
        "##We use os.getpid() function to get ID of current process.\n",
        "##print(\"ID of process running main program: {}\".format(os.getpid()))\n",
        "##process needs more memory and takes high time to terminate\n",
        "#Thread is a sigment of process\n",
        "#process is isolated and threads share memory\n"
      ]
    },
    {
      "cell_type": "code",
      "source": [
        "import time\n",
        "import os\n",
        "\n",
        "def count_number():\n",
        "  for i in range (5):\n",
        "    print (\"Number\")\n",
        "    time.sleep(1)\n",
        "\n",
        "\n",
        "if __name__==\"__main__\":\n",
        "  start=time.time()\n",
        "\n",
        "  count_number()\n",
        "  end=time.time()\n",
        "\n",
        "  print (\"The time required is : \", end-start)\n",
        "\n",
        "# the program first goes to if name==main function and then comes to def function from that function"
      ],
      "metadata": {
        "id": "KyKyKwNMA1I8",
        "colab": {
          "base_uri": "https://localhost:8080/"
        },
        "outputId": "361c4ec8-625d-4e40-a03a-154cd8b9a380"
      },
      "execution_count": null,
      "outputs": [
        {
          "output_type": "stream",
          "name": "stdout",
          "text": [
            "Number\n",
            "Number\n",
            "Number\n",
            "Number\n",
            "Number\n",
            "The time required is :  5.006314992904663\n"
          ]
        }
      ]
    },
    {
      "cell_type": "code",
      "source": [
        "##multithreading is used to to make portions of the overall code to improve process\n",
        "\n",
        "\n",
        "##hoe to know process iD, Thread ID and number of threads\n",
        "\n",
        "import threading\n",
        "import os\n",
        "if __name__==\"__main__\":\n",
        "  print (\"Process ID: \", os.getpid())\n",
        "  print (\"Thread ID : \", threading.get_ident())\n",
        "  print (\"Number of Threads : \", threading.active_count())"
      ],
      "metadata": {
        "colab": {
          "base_uri": "https://localhost:8080/"
        },
        "id": "0sj7pTENWboF",
        "outputId": "f8a2aa3b-f029-40f0-c277-fb61d2906688"
      },
      "execution_count": 3,
      "outputs": [
        {
          "output_type": "stream",
          "name": "stdout",
          "text": [
            "Process ID:  61\n",
            "Thread ID :  139937112209280\n",
            "Number of Threads :  10\n"
          ]
        }
      ]
    },
    {
      "cell_type": "code",
      "source": [
        "import threading \n",
        "import time\n",
        "import os\n",
        "\n",
        "\n",
        "\n",
        "def count_number1():\n",
        "  for i in range (5):\n",
        "    print (\"Number\")\n",
        "    time.sleep(1)\n",
        "def count_number2():\n",
        "  for i in range (5):\n",
        "    print (\"Number\")\n",
        "    time.sleep(1)\n",
        "\n",
        "if __name__==\"__main__\":\n",
        "  obj1= threading.Thread(target=count_number1)  #creat object\n",
        "  obj2= threading.Thread(target=count_number2)  \n",
        "  start=time.time() #first start time\n",
        "  obj1.start()  #then run code\n",
        "  obj2.start()\n",
        "  obj1.join()#then finish code\n",
        "  obj2.join()\n",
        "\n",
        "  end=time.time()\n",
        "  print (\"The time required is : \", end-start) #then print final result\n",
        "\n"
      ],
      "metadata": {
        "colab": {
          "base_uri": "https://localhost:8080/"
        },
        "id": "zYUCjEXCYEL7",
        "outputId": "bfcf9604-e1a8-4595-c710-95161e779104"
      },
      "execution_count": 10,
      "outputs": [
        {
          "output_type": "stream",
          "name": "stdout",
          "text": [
            "NumberNumber\n",
            "\n",
            "Number\n",
            "Number\n",
            "Number\n",
            "Number\n",
            "Number\n",
            "Number\n",
            "Number\n",
            "Number\n",
            "The time required is :  5.0081353187561035\n",
            "Process ID:  61\n",
            "Thread ID :  139937112209280\n",
            "Number of Threads :  10\n"
          ]
        }
      ]
    },
    {
      "cell_type": "code",
      "source": [
        "#difference btween multithreading and multiprocessing\n",
        "import threading \n",
        "import time\n",
        "import os\n",
        "\n",
        "\n",
        "\n",
        "def count_number():\n",
        "  for i in range (5):\n",
        "    print (\"Even number\")\n",
        "    time.sleep(1.02)\n",
        "\n",
        "def count_number1():\n",
        "  for i in range (5):\n",
        "    print (\"Odd number\")\n",
        "    time.sleep(1)  \n",
        "\n",
        "\n",
        "if __name__==\"__main__\":\n",
        "  obj1= threading.Thread(target=count_number)  #creat object\n",
        "  obj2= threading.Thread(target=count_number1)  \n",
        "  start=time.time() #first start time\n",
        "  obj1.start()  #then run code\n",
        "  obj2.start()\n",
        "  obj1.join()#then finish code\n",
        "  obj2.join()\n",
        "\n",
        "  end=time.time()\n",
        "  print (\"The time required is : \", end-start) #then print final result\n",
        "\n",
        "\n",
        "\n",
        "\n"
      ],
      "metadata": {
        "id": "vhMGeYzvdWkY",
        "outputId": "deb86ab4-2cf0-414b-b176-76d69d74b2bf",
        "colab": {
          "base_uri": "https://localhost:8080/"
        }
      },
      "execution_count": null,
      "outputs": [
        {
          "output_type": "stream",
          "name": "stdout",
          "text": [
            "Even number\n",
            "Odd number\n",
            "Odd number\n",
            "Even number\n",
            "Odd number\n",
            "Even number\n",
            "Odd number\n",
            "Even number\n",
            "Odd number\n",
            "Even number\n",
            "The time required is :  5.106928110122681\n"
          ]
        }
      ]
    },
    {
      "cell_type": "code",
      "source": [
        "#difference btween multithreading and multiprocessing\n",
        "from multiprocessing import Process\n",
        "import time\n",
        "import os\n",
        "\n",
        "\n",
        "\n",
        "def count_number():\n",
        "  for i in range (5):\n",
        "    print (\"Even number\")\n",
        "    time.sleep(1.02)\n",
        "\n",
        "def count_number1():\n",
        "  for i in range (5):\n",
        "    print (\"Odd number\")\n",
        "    time.sleep(1)  \n",
        "\n",
        "\n",
        "if __name__==\"__main__\":\n",
        "  obj1= Process(target=count_number)  #creat object\n",
        "  obj2= Process(target=count_number1)  \n",
        "  start=time.time() #first start time\n",
        "  obj1.start()  #then run code\n",
        "  obj2.start()\n",
        "  obj1.join()#then finish code\n",
        "  obj2.join()\n",
        "\n",
        "  end=time.time()\n",
        "  print (\"The time required is : \", end-start) #then print final result"
      ],
      "metadata": {
        "id": "5a6646OMbTFH",
        "outputId": "3ee9c11d-1bb4-4b2a-dde7-0ccef4c40a31",
        "colab": {
          "base_uri": "https://localhost:8080/"
        }
      },
      "execution_count": null,
      "outputs": [
        {
          "output_type": "stream",
          "name": "stdout",
          "text": [
            "Even number\n",
            "Odd number\n",
            "Odd number\n",
            "Even number\n",
            "Odd number\n",
            "Even number\n",
            "Odd number\n",
            "Even number\n",
            "Odd number\n",
            "Even number\n",
            "The time required is :  5.138074159622192\n"
          ]
        }
      ]
    },
    {
      "cell_type": "code",
      "source": [
        "\n",
        "#make a multithreading sequence where\n",
        "\"\"\"1. First ask someone his age and print it\n",
        "2. State that he is living in Bangladesh\n",
        "3.Than ask where he is working for\"\"\"\n",
        "\n",
        "import threading\n",
        "import time\n",
        "import os\n",
        "\n",
        "\n",
        "\n",
        "def ask_age():\n",
        "    a=input(\"How old are you? \")\n",
        "    print (int(a))\n",
        "\n",
        "  \n",
        "\n",
        "def home_town():\n",
        "    print (\"He lives in Bangladesh\")\n",
        "\n",
        "\n",
        "def work_place():\n",
        "    b=input(\"Where do you work? \")\n",
        "    print(b)\n",
        "\n",
        "\n",
        "\n",
        "\n",
        "if __name__==\"__main__\":\n",
        "  obj1= threading.Thread(target=ask_age)\n",
        "  obj2= threading.Thread(target=home_town)\n",
        "  obj3= threading.Thread(target=work_place)\n",
        "  \n",
        " \n",
        "  obj1.start()\n",
        "  obj2.start()\n",
        "  obj3.start()\n",
        "  \n",
        "\n",
        " \n"
      ],
      "metadata": {
        "id": "piQnCtg4JvQ5",
        "outputId": "61239cc0-426b-43b1-89d4-2617b61cc96e",
        "colab": {
          "base_uri": "https://localhost:8080/"
        }
      },
      "execution_count": null,
      "outputs": [
        {
          "output_type": "stream",
          "name": "stdout",
          "text": [
            "He lives in Bangladesh\n"
          ]
        }
      ]
    },
    {
      "cell_type": "code",
      "source": [
        "#how to create a threat\n",
        "\n",
        "import threading\n",
        "\n",
        "def func():\n",
        "  print (\"How to create Thread function\")\n",
        "  return\n",
        "\n",
        "if __name__==\"__main__\":\n",
        "  for i in range(3):\n",
        "    t= threading. Thread(target=func)\n",
        "    t.start()\n",
        "    t.join()"
      ],
      "metadata": {
        "id": "Cb-zjMVGL8t4",
        "colab": {
          "base_uri": "https://localhost:8080/"
        },
        "outputId": "78d754fb-0985-450a-cc83-1fa96e5f468e"
      },
      "execution_count": null,
      "outputs": [
        {
          "output_type": "stream",
          "name": "stdout",
          "text": [
            "How to create Thread function\n",
            "How to create Thread function\n",
            "How to create Thread function\n"
          ]
        }
      ]
    },
    {
      "cell_type": "code",
      "source": [
        "#how to pass a parameter to a thread\n",
        "\n",
        "from threading import Thread\n",
        "\n",
        "def func(a): #here a in the parameter\n",
        "  print(\"We have put a parameter in this function named: %s\" %(a))\n",
        "  return\n",
        "\n",
        "\n",
        "if __name__==\"__main__\":\n",
        "  b=Thread(target=func, args=(\"a\", ))\n",
        "\n",
        "  b.start()\n",
        "  b.join()\n"
      ],
      "metadata": {
        "id": "rdqO4h59NKiE",
        "colab": {
          "base_uri": "https://localhost:8080/"
        },
        "outputId": "81baef10-e087-4ccf-bcaf-609d4295079f"
      },
      "execution_count": null,
      "outputs": [
        {
          "output_type": "stream",
          "name": "stdout",
          "text": [
            "We have put a parameter in this function named: a\n"
          ]
        }
      ]
    },
    {
      "cell_type": "code",
      "source": [
        "#how to identify different threads\n",
        "\n",
        "import threading\n",
        "import time\n",
        "\n",
        "def f1():\n",
        "  print(threading.currentThread().getName(),\"Starting\")\n",
        "  time.sleep(1)\n",
        "  print (threading.currentThread().getName(),\"Exiting\")\n",
        "def f2():\n",
        "  print(threading.currentThread().getName(),\"Starting\")\n",
        "  time.sleep(2)\n",
        "  print (threading.currentThread().getName(),\"Exiting\")\n",
        "def f3():\n",
        "  print(threading.currentThread().getName(),\"Starting\")\n",
        "  time.sleep(3)\n",
        "  print (threading.currentThread().getName(),\"Exiting\")\n",
        "\n",
        "\n",
        "t1=threading.Thread(target=f1)\n",
        "t2=threading.Thread(name=\"2nd Thread\",target=f2)\n",
        "t3=threading.Thread(name=\"3rd Thread\",target=f3)\n",
        "\n",
        "t1.start()\n",
        "t1.join()\n",
        "t2.start()\n",
        "t2.join()\n",
        "t3.start()\n",
        "t3.join()\n",
        "\n",
        "#if we start aall 3 objects together and join them later it will not follow the order and execute with is faster\n"
      ],
      "metadata": {
        "colab": {
          "base_uri": "https://localhost:8080/"
        },
        "id": "ZyVgDl00rYgt",
        "outputId": "abe1c888-ee34-4380-ae73-bfdb609c5c71"
      },
      "execution_count": null,
      "outputs": [
        {
          "output_type": "stream",
          "name": "stdout",
          "text": [
            "Thread-43 Starting\n",
            "Thread-43 Exiting\n",
            "2nd Thread Starting\n",
            "2nd Thread Exiting\n",
            "3rd Thread Starting\n",
            "3rd Thread Exiting\n"
          ]
        }
      ]
    },
    {
      "cell_type": "code",
      "source": [
        "##how to pass an parameter or argument to thread\n",
        "\n",
        "import threading\n",
        "\n",
        "class MyThread(threading.Thread): #threading.Thread is creating a thread\n",
        "\n",
        "  def __init__(self,number):\n",
        "    super(MyThread,self).__init__()   #super is used to call the class\n",
        "    self.number=number\n",
        "\n",
        "  def run(self):\n",
        "    print(self.number)\n",
        "\n",
        "thread_list=[]\n",
        "\n",
        "for i in range(4):\n",
        "  thread=MyThread(i)\n",
        "  thread_list.append(thread)\n",
        "  thread.start()\n",
        "\n",
        "\n"
      ],
      "metadata": {
        "colab": {
          "base_uri": "https://localhost:8080/"
        },
        "id": "nQvD_nVytE4k",
        "outputId": "acabdf79-3901-4a85-872d-3b38c567ce70"
      },
      "execution_count": null,
      "outputs": [
        {
          "output_type": "stream",
          "name": "stdout",
          "text": [
            "0\n",
            "1\n",
            "2\n",
            "3\n"
          ]
        }
      ]
    },
    {
      "cell_type": "code",
      "source": [
        "##naming a thread\n",
        "\n",
        "\n",
        "\n",
        "class Mythread(threading.Thread):\n",
        "  def __init__(self):\n",
        "    super(Mythread,self).__init__()\n",
        "\n",
        "  def run(self):\n",
        "    print (self.getName())\n",
        "\n",
        "thread=Mythread()\n",
        "thread.setName(\"New thread name\")\n",
        "thread.start()\n"
      ],
      "metadata": {
        "id": "pcQTpfD54jZ9",
        "outputId": "78da00bc-9ca1-45d9-aaba-cc1f64be6744",
        "colab": {
          "base_uri": "https://localhost:8080/"
        }
      },
      "execution_count": null,
      "outputs": [
        {
          "output_type": "stream",
          "name": "stdout",
          "text": [
            "New thread name\n"
          ]
        }
      ]
    },
    {
      "cell_type": "code",
      "source": [
        "#race condition ,lock and syncronization\n",
        "\n",
        "#race condition happens when multiple threads are accessing the same variable\n",
        "#If there are 10 tickets and I wnt to book 2 and someone is trying to book 3 tickets it causes race condition\n",
        "#in new python coding race automatically implemented \n",
        "#who is getting the ticket first will be the person taking the low time of completing the thread\n",
        "#when I am entering the thread to buy the ticket a lock is applied so no one can enter the thread until you release the lock\n",
        "\n",
        "\n",
        "\n",
        "\n",
        "\n",
        "\n",
        "\n",
        "\n",
        "\n",
        "\n",
        "\n",
        "\n",
        "\n",
        "\n"
      ],
      "metadata": {
        "id": "jvOqUt667CIP"
      },
      "execution_count": null,
      "outputs": []
    }
  ]
}