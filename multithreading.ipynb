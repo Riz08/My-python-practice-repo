{
  "nbformat": 4,
  "nbformat_minor": 0,
  "metadata": {
    "colab": {
      "name": "multithreading",
      "provenance": [],
      "authorship_tag": "ABX9TyPg5/32UDorwxY6z0NdsxwJ",
      "include_colab_link": true
    },
    "kernelspec": {
      "name": "python3",
      "display_name": "Python 3"
    },
    "language_info": {
      "name": "python"
    }
  },
  "cells": [
    {
      "cell_type": "markdown",
      "metadata": {
        "id": "view-in-github",
        "colab_type": "text"
      },
      "source": [
        "<a href=\"https://colab.research.google.com/github/Riz08/My-python-practice-repo/blob/main/multithreading.ipynb\" target=\"_parent\"><img src=\"https://colab.research.google.com/assets/colab-badge.svg\" alt=\"Open In Colab\"/></a>"
      ]
    },
    {
      "cell_type": "code",
      "execution_count": null,
      "metadata": {
        "colab": {
          "base_uri": "https://localhost:8080/"
        },
        "id": "0VMG8mgi_DlO",
        "outputId": "928eefea-0dbb-4f06-fe00-6a3c49b54837"
      },
      "outputs": [
        {
          "output_type": "stream",
          "name": "stdout",
          "text": [
            "The value of the rectange is :  50\n",
            "The value of the rectange is :  36\n",
            "Done\n"
          ]
        }
      ],
      "source": [
        "import threading\n",
        "\n",
        "def rectangle(x,y):\n",
        "  print (\"The value of the rectange is :  {}\".format (x*y))\n",
        "\n",
        "def square(a,b):\n",
        "  print (\"The value of the rectange is :  {}\".format (a*b))\n",
        "\n",
        "\n",
        "if __name__==\"__main__\":\n",
        "  object1= threading.Thread(target=rectangle, args= (5,10))\n",
        "  object2= threading.Thread(target=rectangle, args= (6,6))\n",
        "\n",
        "  object1.start()\n",
        "  object2.start()\n",
        "\n",
        "  object1.join()\n",
        "  object2.join()\n",
        "\n",
        "  print (\"Done\")\n",
        "\n",
        "\n",
        "##We use os.getpid() function to get ID of current process.\n",
        "##print(\"ID of process running main program: {}\".format(os.getpid()))\n",
        "##process needs more memory and takes high time to terminate\n",
        "#Thread is a sigment of process\n",
        "#process is isolated and threads share memory\n"
      ]
    },
    {
      "cell_type": "code",
      "source": [
        "import time\n",
        "import os\n",
        "\n",
        "def count_number():\n",
        "  for i in range (5):\n",
        "    print (\"Number\")\n",
        "    time.sleep(1)\n",
        "\n",
        "\n",
        "if __name__==\"__main__\":\n",
        "  start=time.time()\n",
        "\n",
        "  count_number()\n",
        "  end=time.time()\n",
        "\n",
        "  print (\"The time required is : \", end-start)\n",
        "\n",
        "# the program first goes to if name==main function and then comes to def function from that function"
      ],
      "metadata": {
        "id": "KyKyKwNMA1I8",
        "colab": {
          "base_uri": "https://localhost:8080/"
        },
        "outputId": "361c4ec8-625d-4e40-a03a-154cd8b9a380"
      },
      "execution_count": null,
      "outputs": [
        {
          "output_type": "stream",
          "name": "stdout",
          "text": [
            "Number\n",
            "Number\n",
            "Number\n",
            "Number\n",
            "Number\n",
            "The time required is :  5.006314992904663\n"
          ]
        }
      ]
    },
    {
      "cell_type": "code",
      "source": [
        "##multithreading is used to to make portions of the overall code to improve process\n",
        "\n",
        "\n",
        "##hoe to know process iD, Thread ID and number of threads\n",
        "\n",
        "import threading\n",
        "import os\n",
        "\n",
        "print (\"Process ID: \", os.getpid())\n",
        "print (\"Thread ID : \", threading.get_ident())\n",
        "print (\"Number of Threads : \", threading.active_count())"
      ],
      "metadata": {
        "colab": {
          "base_uri": "https://localhost:8080/"
        },
        "id": "0sj7pTENWboF",
        "outputId": "36798e3b-37f7-4246-d908-dbcbdaaf2659"
      },
      "execution_count": null,
      "outputs": [
        {
          "output_type": "stream",
          "name": "stdout",
          "text": [
            "Process ID:  57\n",
            "Thread ID :  140294000813952\n",
            "Number of Threads :  10\n"
          ]
        }
      ]
    },
    {
      "cell_type": "code",
      "source": [
        "import threading \n",
        "import time\n",
        "import os\n",
        "\n",
        "\n",
        "\n",
        "def count_number():\n",
        "  for i in range (5):\n",
        "    print (\"Number\")\n",
        "    time.sleep(1)\n",
        "\n",
        "\n",
        "if __name__==\"__main__\":\n",
        "  obj1= threading.Thread(target=count_number)  #creat object\n",
        "  obj2= threading.Thread(target=count_number)  \n",
        "  start=time.time() #first start time\n",
        "  obj1.start()  #then run code\n",
        "  obj2.start()\n",
        "  obj1.join()#then finish code\n",
        "  obj2.join()\n",
        "\n",
        "  end=time.time()\n",
        "  print (\"The time required is : \", end-start) #then print final result\n",
        "\n",
        "\n"
      ],
      "metadata": {
        "colab": {
          "base_uri": "https://localhost:8080/"
        },
        "id": "zYUCjEXCYEL7",
        "outputId": "68e3a302-90e7-45c6-c39f-4117bb3087a5"
      },
      "execution_count": null,
      "outputs": [
        {
          "output_type": "stream",
          "name": "stdout",
          "text": [
            "Number\n",
            "Number\n",
            "Number\n",
            "Number\n",
            "Number\n",
            "Number\n",
            "Number\n",
            "Number\n",
            "Number\n",
            "Number\n",
            "The time required is :  5.008427381515503\n"
          ]
        }
      ]
    },
    {
      "cell_type": "code",
      "source": [
        "#difference btween multithreading and multiprocessing\n",
        "import threading \n",
        "import time\n",
        "import os\n",
        "\n",
        "\n",
        "\n",
        "def count_number():\n",
        "  for i in range (5):\n",
        "    print (\"Even number\")\n",
        "    time.sleep(1.02)\n",
        "\n",
        "def count_number1():\n",
        "  for i in range (5):\n",
        "    print (\"Odd number\")\n",
        "    time.sleep(1)  \n",
        "\n",
        "\n",
        "if __name__==\"__main__\":\n",
        "  obj1= threading.Thread(target=count_number)  #creat object\n",
        "  obj2= threading.Thread(target=count_number1)  \n",
        "  start=time.time() #first start time\n",
        "  obj1.start()  #then run code\n",
        "  obj2.start()\n",
        "  obj1.join()#then finish code\n",
        "  obj2.join()\n",
        "\n",
        "  end=time.time()\n",
        "  print (\"The time required is : \", end-start) #then print final result\n",
        "\n",
        "\n",
        "\n",
        "\n"
      ],
      "metadata": {
        "id": "vhMGeYzvdWkY",
        "outputId": "deb86ab4-2cf0-414b-b176-76d69d74b2bf",
        "colab": {
          "base_uri": "https://localhost:8080/"
        }
      },
      "execution_count": null,
      "outputs": [
        {
          "output_type": "stream",
          "name": "stdout",
          "text": [
            "Even number\n",
            "Odd number\n",
            "Odd number\n",
            "Even number\n",
            "Odd number\n",
            "Even number\n",
            "Odd number\n",
            "Even number\n",
            "Odd number\n",
            "Even number\n",
            "The time required is :  5.106928110122681\n"
          ]
        }
      ]
    },
    {
      "cell_type": "code",
      "source": [
        "#difference btween multithreading and multiprocessing\n",
        "from multiprocessing import Process\n",
        "import time\n",
        "import os\n",
        "\n",
        "\n",
        "\n",
        "def count_number():\n",
        "  for i in range (5):\n",
        "    print (\"Even number\")\n",
        "    time.sleep(1.02)\n",
        "\n",
        "def count_number1():\n",
        "  for i in range (5):\n",
        "    print (\"Odd number\")\n",
        "    time.sleep(1)  \n",
        "\n",
        "\n",
        "if __name__==\"__main__\":\n",
        "  obj1= Process(target=count_number)  #creat object\n",
        "  obj2= Process(target=count_number1)  \n",
        "  start=time.time() #first start time\n",
        "  obj1.start()  #then run code\n",
        "  obj2.start()\n",
        "  obj1.join()#then finish code\n",
        "  obj2.join()\n",
        "\n",
        "  end=time.time()\n",
        "  print (\"The time required is : \", end-start) #then print final result"
      ],
      "metadata": {
        "id": "5a6646OMbTFH",
        "outputId": "3ee9c11d-1bb4-4b2a-dde7-0ccef4c40a31",
        "colab": {
          "base_uri": "https://localhost:8080/"
        }
      },
      "execution_count": null,
      "outputs": [
        {
          "output_type": "stream",
          "name": "stdout",
          "text": [
            "Even number\n",
            "Odd number\n",
            "Odd number\n",
            "Even number\n",
            "Odd number\n",
            "Even number\n",
            "Odd number\n",
            "Even number\n",
            "Odd number\n",
            "Even number\n",
            "The time required is :  5.138074159622192\n"
          ]
        }
      ]
    },
    {
      "cell_type": "code",
      "source": [
        "\n",
        "#make a multithreading sequence where\n",
        "\"\"\"1. First ask someone his age and print it\n",
        "2. State that he is living in Bangladesh\n",
        "3.Than ask where he is working for\"\"\"\n",
        "\n",
        "import threading\n",
        "import time\n",
        "import os\n",
        "\n",
        "\n",
        "\n",
        "def ask_age():\n",
        "    a=input(\"How old are you? \")\n",
        "    print (int(a))\n",
        "\n",
        "  \n",
        "\n",
        "def home_town():\n",
        "    print (\"He lives in Bangladesh\")\n",
        "\n",
        "\n",
        "def work_place():\n",
        "    b=input(\"Where do you work? \")\n",
        "    print(b)\n",
        "\n",
        "\n",
        "\n",
        "\n",
        "if __name__==\"__main__\":\n",
        "  obj1= threading.Thread(target=ask_age)\n",
        "  obj2= threading.Thread(target=home_town)\n",
        "  obj3= threading.Thread(target=work_place)\n",
        "  \n",
        " \n",
        "  obj1.start()\n",
        "  obj2.start()\n",
        "  obj3.start()\n",
        "  \n",
        "\n",
        " \n"
      ],
      "metadata": {
        "id": "piQnCtg4JvQ5",
        "outputId": "61239cc0-426b-43b1-89d4-2617b61cc96e",
        "colab": {
          "base_uri": "https://localhost:8080/"
        }
      },
      "execution_count": 4,
      "outputs": [
        {
          "output_type": "stream",
          "name": "stdout",
          "text": [
            "He lives in Bangladesh\n"
          ]
        }
      ]
    },
    {
      "cell_type": "code",
      "source": [
        "#how to create a threat\n",
        "\n",
        "import threading\n",
        "\n",
        "def func():\n",
        "  print (\"How to create Thread function\")\n",
        "  return\n",
        "\n",
        "if __name__==\"__main__\":\n",
        "  for i in range(3):\n",
        "    t= threading. Thread(target=func)\n",
        "    t.start()\n",
        "    t.join()"
      ],
      "metadata": {
        "id": "Cb-zjMVGL8t4",
        "colab": {
          "base_uri": "https://localhost:8080/"
        },
        "outputId": "78d754fb-0985-450a-cc83-1fa96e5f468e"
      },
      "execution_count": 11,
      "outputs": [
        {
          "output_type": "stream",
          "name": "stdout",
          "text": [
            "How to create Thread function\n",
            "How to create Thread function\n",
            "How to create Thread function\n"
          ]
        }
      ]
    },
    {
      "cell_type": "code",
      "source": [
        "#how to pass a parameter to a thread\n",
        "\n",
        "from threading import Thread\n",
        "\n",
        "def func(a): #here a in the parameter\n",
        "  print(\"We have put a parameter in this function named: %s\" %(a))\n",
        "  return\n",
        "\n",
        "\n",
        "if __name__==\"__main__\":\n",
        "  b=Thread(target=func, args=(\"a\", ))\n",
        "\n",
        "  b.start()\n",
        "  b.join()\n"
      ],
      "metadata": {
        "id": "rdqO4h59NKiE",
        "colab": {
          "base_uri": "https://localhost:8080/"
        },
        "outputId": "81baef10-e087-4ccf-bcaf-609d4295079f"
      },
      "execution_count": 20,
      "outputs": [
        {
          "output_type": "stream",
          "name": "stdout",
          "text": [
            "We have put a parameter in this function named: a\n"
          ]
        }
      ]
    },
    {
      "cell_type": "code",
      "source": [
        "#how to identify different threads\n",
        "\n",
        "import threading\n",
        "import time\n",
        "\n",
        "def f1():\n",
        "  print(threading.currentThread().getName(),\"Starting\")\n",
        "  time.sleep(1)\n",
        "  print (threading.currentThread().getName(),\"Exiting\")\n",
        "def f2():\n",
        "  print(threading.currentThread().getName(),\"Starting\")\n",
        "  time.sleep(2)\n",
        "  print (threading.currentThread().getName(),\"Exiting\")\n",
        "def f3():\n",
        "  print(threading.currentThread().getName(),\"Starting\")\n",
        "  time.sleep(3)\n",
        "  print (threading.currentThread().getName(),\"Exiting\")\n",
        "\n",
        "\n",
        "t1=threading.Thread(target=f1)\n",
        "t2=threading.Thread(name=\"2nd Thread\",target=f2)\n",
        "t3=threading.Thread(name=\"3rd Thread\",target=f3)\n",
        "\n",
        "t1.start()\n",
        "t1.join()\n",
        "t2.start()\n",
        "t2.join()\n",
        "t3.start()\n",
        "t3.join()\n",
        "\n",
        "#if we start aall 3 objects together and join them later it will not follow the order and execute with is faster\n"
      ],
      "metadata": {
        "id": "ZyVgDl00rYgt",
        "outputId": "abe1c888-ee34-4380-ae73-bfdb609c5c71",
        "colab": {
          "base_uri": "https://localhost:8080/"
        }
      },
      "execution_count": 33,
      "outputs": [
        {
          "output_type": "stream",
          "name": "stdout",
          "text": [
            "Thread-43 Starting\n",
            "Thread-43 Exiting\n",
            "2nd Thread Starting\n",
            "2nd Thread Exiting\n",
            "3rd Thread Starting\n",
            "3rd Thread Exiting\n"
          ]
        }
      ]
    },
    {
      "cell_type": "code",
      "source": [
        "\n",
        "\n",
        "\n",
        "\n",
        "\n",
        "\n",
        "\n",
        "\n",
        "\n",
        "\n",
        "\n",
        "\n",
        "\n",
        "\n",
        "\n",
        "\n",
        "\n",
        "\n",
        "\n",
        "\n",
        "\n",
        "\n",
        "\n",
        "\n",
        "\n",
        "\n",
        "\n",
        "\n",
        "\n",
        "\n",
        "\n",
        "\n",
        "\n",
        "\n",
        "\n"
      ],
      "metadata": {
        "id": "nQvD_nVytE4k"
      },
      "execution_count": null,
      "outputs": []
    }
  ]
}