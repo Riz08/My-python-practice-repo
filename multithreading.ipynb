{
  "nbformat": 4,
  "nbformat_minor": 0,
  "metadata": {
    "colab": {
      "name": "multithreading",
      "provenance": [],
      "authorship_tag": "ABX9TyMOvZOYuNCzEYo3+CPIp3mn",
      "include_colab_link": true
    },
    "kernelspec": {
      "name": "python3",
      "display_name": "Python 3"
    },
    "language_info": {
      "name": "python"
    }
  },
  "cells": [
    {
      "cell_type": "markdown",
      "metadata": {
        "id": "view-in-github",
        "colab_type": "text"
      },
      "source": [
        "<a href=\"https://colab.research.google.com/github/Riz08/My-python-practice-repo/blob/main/multithreading.ipynb\" target=\"_parent\"><img src=\"https://colab.research.google.com/assets/colab-badge.svg\" alt=\"Open In Colab\"/></a>"
      ]
    },
    {
      "cell_type": "code",
      "execution_count": 12,
      "metadata": {
        "colab": {
          "base_uri": "https://localhost:8080/"
        },
        "id": "0VMG8mgi_DlO",
        "outputId": "928eefea-0dbb-4f06-fe00-6a3c49b54837"
      },
      "outputs": [
        {
          "output_type": "stream",
          "name": "stdout",
          "text": [
            "The value of the rectange is :  50\n",
            "The value of the rectange is :  36\n",
            "Done\n"
          ]
        }
      ],
      "source": [
        "import threading\n",
        "\n",
        "def rectangle(x,y):\n",
        "  print (\"The value of the rectange is :  {}\".format (x*y))\n",
        "\n",
        "def square(a,b):\n",
        "  print (\"The value of the rectange is :  {}\".format (a*b))\n",
        "\n",
        "\n",
        "if __name__==\"__main__\":\n",
        "  object1= threading.Thread(target=rectangle, args= (5,10))\n",
        "  object2= threading.Thread(target=rectangle, args= (6,6))\n",
        "\n",
        "  object1.start()\n",
        "  object2.start()\n",
        "\n",
        "  object1.join()\n",
        "  object2.join()\n",
        "\n",
        "  print (\"Done\")\n",
        "\n",
        "\n",
        "\n",
        "\n",
        "\n",
        "\n",
        "\n",
        "\n",
        "\n",
        "\n",
        "\n",
        "\n",
        "\n",
        "\n",
        "\n",
        "\n",
        "\n",
        "\n",
        "\n"
      ]
    },
    {
      "cell_type": "code",
      "source": [
        ""
      ],
      "metadata": {
        "id": "KyKyKwNMA1I8"
      },
      "execution_count": null,
      "outputs": []
    }
  ]
}