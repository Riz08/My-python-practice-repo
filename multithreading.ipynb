{
  "nbformat": 4,
  "nbformat_minor": 0,
  "metadata": {
    "colab": {
      "name": "multithreading",
      "provenance": [],
      "authorship_tag": "ABX9TyMF30Xy+RJqnSaAGH+h63/5",
      "include_colab_link": true
    },
    "kernelspec": {
      "name": "python3",
      "display_name": "Python 3"
    },
    "language_info": {
      "name": "python"
    }
  },
  "cells": [
    {
      "cell_type": "markdown",
      "metadata": {
        "id": "view-in-github",
        "colab_type": "text"
      },
      "source": [
        "<a href=\"https://colab.research.google.com/github/Riz08/My-python-practice-repo/blob/main/multithreading.ipynb\" target=\"_parent\"><img src=\"https://colab.research.google.com/assets/colab-badge.svg\" alt=\"Open In Colab\"/></a>"
      ]
    },
    {
      "cell_type": "code",
      "execution_count": null,
      "metadata": {
        "colab": {
          "base_uri": "https://localhost:8080/"
        },
        "id": "0VMG8mgi_DlO",
        "outputId": "928eefea-0dbb-4f06-fe00-6a3c49b54837"
      },
      "outputs": [
        {
          "output_type": "stream",
          "name": "stdout",
          "text": [
            "The value of the rectange is :  50\n",
            "The value of the rectange is :  36\n",
            "Done\n"
          ]
        }
      ],
      "source": [
        "import threading\n",
        "\n",
        "def rectangle(x,y):\n",
        "  print (\"The value of the rectange is :  {}\".format (x*y))\n",
        "\n",
        "def square(a,b):\n",
        "  print (\"The value of the rectange is :  {}\".format (a*b))\n",
        "\n",
        "\n",
        "if __name__==\"__main__\":\n",
        "  object1= threading.Thread(target=rectangle, args= (5,10))\n",
        "  object2= threading.Thread(target=rectangle, args= (6,6))\n",
        "\n",
        "  object1.start()\n",
        "  object2.start()\n",
        "\n",
        "  object1.join()\n",
        "  object2.join()\n",
        "\n",
        "  print (\"Done\")\n",
        "\n",
        "\n",
        "##We use os.getpid() function to get ID of current process.\n",
        "##print(\"ID of process running main program: {}\".format(os.getpid()))\n"
      ]
    },
    {
      "cell_type": "code",
      "source": [
        "import time\n",
        "import os\n",
        "\n",
        "def count_number():\n",
        "  for i in range (5):\n",
        "    print (\"Number\")\n",
        "    time.sleep(1)\n",
        "\n",
        "\n",
        "if __name__==\"__main__\":\n",
        "  start=time.time()\n",
        "\n",
        "  count_number()\n",
        "  end=time.time()\n",
        "\n",
        "  print (\"The time required is : \", end-start)\n",
        "\n",
        "# the program first goes to if name==main function and then comes to def function from that function"
      ],
      "metadata": {
        "id": "KyKyKwNMA1I8",
        "colab": {
          "base_uri": "https://localhost:8080/"
        },
        "outputId": "361c4ec8-625d-4e40-a03a-154cd8b9a380"
      },
      "execution_count": 5,
      "outputs": [
        {
          "output_type": "stream",
          "name": "stdout",
          "text": [
            "Number\n",
            "Number\n",
            "Number\n",
            "Number\n",
            "Number\n",
            "The time required is :  5.006314992904663\n"
          ]
        }
      ]
    },
    {
      "cell_type": "code",
      "source": [
        "##multithreading is used to to make portions of the overall code to improve process\n",
        "\n",
        "\n",
        "##hoe to know process iD, Thread ID and number of threads\n",
        "\n",
        "import threading\n",
        "import os\n",
        "\n",
        "print (\"Process ID: \", os.getpid())\n",
        "print (\"Thread ID : \", threading.get_ident())\n",
        "print (\"Number of Threads : \", threading.active_count())"
      ],
      "metadata": {
        "colab": {
          "base_uri": "https://localhost:8080/"
        },
        "id": "0sj7pTENWboF",
        "outputId": "36798e3b-37f7-4246-d908-dbcbdaaf2659"
      },
      "execution_count": 6,
      "outputs": [
        {
          "output_type": "stream",
          "name": "stdout",
          "text": [
            "Process ID:  57\n",
            "Thread ID :  140294000813952\n",
            "Number of Threads :  10\n"
          ]
        }
      ]
    },
    {
      "cell_type": "code",
      "source": [
        "import threading \n",
        "import time\n",
        "import os\n",
        "\n",
        "\n",
        "\n",
        "def count_number():\n",
        "  for i in range (5):\n",
        "    print (\"Number\")\n",
        "    time.sleep(1)\n",
        "\n",
        "\n",
        "if __name__==\"__main__\":\n",
        "  obj1= threading.Thread(target=count_number)  #creat object\n",
        "  obj2= threading.Thread(target=count_number)  \n",
        "  start=time.time() #first start time\n",
        "  obj1.start()  #then run code\n",
        "  obj2.start()\n",
        "  obj1.join()#then finish code\n",
        "  obj2.join()\n",
        "\n",
        "  end=time.time()\n",
        "  print (\"The time required is : \", end-start) #then print final result\n",
        "\n",
        "\n",
        "\n",
        "\n",
        "\n",
        "\n",
        "\n",
        "\n",
        "\n",
        "\n",
        "\n",
        "\n",
        "\n",
        "\n",
        "\n",
        "\n",
        "\n",
        "\n",
        "\n",
        "\n",
        "\n",
        "\n",
        "\n"
      ],
      "metadata": {
        "colab": {
          "base_uri": "https://localhost:8080/"
        },
        "id": "zYUCjEXCYEL7",
        "outputId": "68e3a302-90e7-45c6-c39f-4117bb3087a5"
      },
      "execution_count": 14,
      "outputs": [
        {
          "output_type": "stream",
          "name": "stdout",
          "text": [
            "Number\n",
            "Number\n",
            "Number\n",
            "Number\n",
            "Number\n",
            "Number\n",
            "Number\n",
            "Number\n",
            "Number\n",
            "Number\n",
            "The time required is :  5.008427381515503\n"
          ]
        }
      ]
    },
    {
      "cell_type": "code",
      "source": [
        ""
      ],
      "metadata": {
        "id": "vhMGeYzvdWkY"
      },
      "execution_count": null,
      "outputs": []
    },
    {
      "cell_type": "code",
      "source": [
        ""
      ],
      "metadata": {
        "id": "5a6646OMbTFH"
      },
      "execution_count": null,
      "outputs": []
    }
  ]
}