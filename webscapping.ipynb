{
  "nbformat": 4,
  "nbformat_minor": 0,
  "metadata": {
    "colab": {
      "name": "webscapping.ipynb",
      "provenance": [],
      "authorship_tag": "ABX9TyPR+8N03pCBPFf/cmGFhSNp",
      "include_colab_link": true
    },
    "kernelspec": {
      "name": "python3",
      "display_name": "Python 3"
    },
    "language_info": {
      "name": "python"
    }
  },
  "cells": [
    {
      "cell_type": "markdown",
      "metadata": {
        "id": "view-in-github",
        "colab_type": "text"
      },
      "source": [
        "<a href=\"https://colab.research.google.com/github/Riz08/My-python-practice-repo/blob/main/webscapping.ipynb\" target=\"_parent\"><img src=\"https://colab.research.google.com/assets/colab-badge.svg\" alt=\"Open In Colab\"/></a>"
      ]
    },
    {
      "cell_type": "code",
      "execution_count": null,
      "metadata": {
        "colab": {
          "base_uri": "https://localhost:8080/"
        },
        "id": "JYD7uLnE4rRR",
        "outputId": "2ccf3062-24d1-41fd-978c-4a5690a2ed0a"
      },
      "outputs": [
        {
          "output_type": "stream",
          "name": "stdout",
          "text": [
            "Requirement already satisfied: beautifulsoup4 in /usr/local/lib/python3.7/dist-packages (4.6.3)\n",
            "Requirement already satisfied: html.parser in /usr/local/lib/python3.7/dist-packages (0.2)\n",
            "Requirement already satisfied: ply in /usr/local/lib/python3.7/dist-packages (from html.parser) (3.11)\n"
          ]
        }
      ],
      "source": [
        "!pip install beautifulsoup4\n",
        "\n",
        "\n",
        "!pip install html.parser"
      ]
    },
    {
      "cell_type": "code",
      "source": [
        "##some sites will not allow web scrapping so use dos,spaming requests\n",
        "##class should be put as class_ as its built in function in python\n",
        "\n",
        "from bs4 import BeautifulSoup\n",
        "import requests\n",
        "\n",
        "\n",
        "url= \"https://www.newegg.ca/gigabyte-geforce-rtx-3080-ti-gv-n308tgaming-oc-12gd/p/N82E16814932436?Description=3080&cm_re=3080-_-14-932-436-_-Product\"\n",
        "\n",
        "result= requests.get(url)\n",
        "\n",
        "doc= BeautifulSoup(result.text,\"html.parser\")\n",
        "#now if we want ot find price lets search for dollar sign as text. If we use find all for header no text needed but if \n",
        "#we want to search for some text than need to add text\n",
        "\n",
        "prices= doc.find_all(text=\"$\")\n",
        "parent= prices[0].parent\n",
        "print (parent)\n",
        "\n",
        "#if we want to change value\n",
        "\n",
        "parent[\"class\"]=\"Price of 2021\"\n",
        "print(parent)\n",
        "\n",
        "#if we want to add value\n",
        "\n",
        "parent[\"color\"]=\"blue\"\n",
        "print(parent)\n",
        "\n",
        "#if we want to print all attributes\n",
        "print(parent.attrs)\n",
        "\n",
        "\n",
        "strong= parent.find(\"strong\")\n",
        "print (strong)\n",
        "\n",
        "strong[\"price\"]=\"Price in dollars\"\n",
        "print(strong)\n",
        "\n",
        "\n",
        "price=strong.string\n",
        "print(price)\n",
        "\n",
        "\n",
        "\n",
        "\n"
      ],
      "metadata": {
        "colab": {
          "base_uri": "https://localhost:8080/"
        },
        "id": "YvW2k4gXGnKH",
        "outputId": "9dec24ef-1c09-4ba6-9b4f-37b668b544ca"
      },
      "execution_count": 7,
      "outputs": [
        {
          "output_type": "stream",
          "name": "stdout",
          "text": [
            "<li class=\"price-current\"><span class=\"price-current-label\"></span>$<strong>1,999</strong><sup>.99</sup></li>\n",
            "<li class=\"Price of 2021\"><span class=\"price-current-label\"></span>$<strong>1,999</strong><sup>.99</sup></li>\n",
            "<li class=\"Price of 2021\" color=\"blue\"><span class=\"price-current-label\"></span>$<strong>1,999</strong><sup>.99</sup></li>\n",
            "{'class': 'Price of 2021', 'color': 'blue'}\n",
            "<strong>1,999</strong>\n",
            "<strong price=\"Price in dollars\">1,999</strong>\n",
            "1,999\n"
          ]
        }
      ]
    },
    {
      "cell_type": "code",
      "source": [
        "\n",
        "from bs4 import BeautifulSoup\n",
        "import requests\n",
        "\n",
        "\n",
        "url= \"https://www.newegg.ca/gigabyte-geforce-rtx-3080-ti-gv-n308tgaming-oc-12gd/p/N82E16814932436?Description=3080&cm_re=3080-_-14-932-436-_-Product\"\n",
        "\n",
        "result= requests.get(url)\n",
        "\n",
        "doc= BeautifulSoup(result.text,\"html.parser\")\n",
        "\n",
        "#if want multiple tags this will show all which has any of these tags\n",
        "\n",
        "multiple_tags= doc.find_all([\"h3\",\"p\"])\n",
        "\n",
        "print(multiple_tags)\n"
      ],
      "metadata": {
        "id": "g2p9eBX_5_lt",
        "colab": {
          "base_uri": "https://localhost:8080/"
        },
        "outputId": "b1bbfa5a-ac49-4c12-e019-8a36295a5717"
      },
      "execution_count": 25,
      "outputs": [
        {
          "output_type": "stream",
          "name": "stdout",
          "text": [
            "[<h3 class=\"popover-header\">SHOP WITH CONFIDENCE</h3>, <h3 class=\"row-side-top-title\">Are you an E-Blast Insider?</h3>, <p>Make informed decisions with expert advice.<!-- --> <a class=\"link-text\" href=\"https://www.newegg.ca/d/Product/CategoryIntelligenceArticle?articleId=337\">Learn More</a></p>, <h3 style=\"color:#46E6E6\">FEATURES</h3>, <p style=\"line-height: 22px\">NVIDIA Ampere Streaming Multiprocessors<br/>\n",
            "2nd Generation RT Cores<br/>\n",
            "3rd Generation Tensor Cores<br/>\n",
            "Powered by GeForce RTX 3080 Ti<br/>\n",
            "Integrated with 12GB GDDR6X 384-bit memory interface<br/>\n",
            "WINDFORCE 3X Cooling System with alternate spinning fans<br/>\n",
            "RGB Fusion 2.0<br/>\n",
            "Protection metal back plate</p>, <h3 style=\"color:#46E6E6\">Core Clock</h3>, <p>TBD</p>, <h3 style=\"color:#fff;text-shadow:0 0 10px #46e6e6;text-align: right;\">WINDFORCE 3X<br/>\n",
            "COOLING SYSTEM</h3>, <p>The WINDFORCE 3X cooling system features two 90mm and one 80mm unique blade fans, alternate spinning, 7 composite copper heat pipes, a large copper plate direct touches the GPU, 3D active fans and Screen cooling, which together provide high efficiency heat dissipation.  </p>, <h3>ALTERNATE SPINNING</h3>, <p>Alternate Spinning can reduce the turbulence of adjacent fans and increase air pressure. </p>, <h3>SMOOTH AIRFLOW </h3>, <p>GIGABYTE turns the adjacent fans in the opposite direction, so that the airflow direction between the two fans is the same, reducing the turbulence and enhancing the airflow pressure. </p>, <h3>3D ACTIVE FAN </h3>, <p>The 3D Active Fan provides semi-passive cooling, and the fans will remain off when the GPU is in a low load or low power game. </p>, <h3>UNIQUE BLADE FAN </h3>, <p>The airflow is spilt by the triangular fan edge, and guided smoothly through the 3D stripe curve on the fan surface.  </p>, <h3>GRAPHENE NANO LUBRICANT</h3>, <p>Graphene nano lubricant can extend the life of sleeve bearing fan by 2.1 times, close to the life of double ball bearing, and is quieter. </p>, <h3>SCREEN COOLING  </h3>, <p>Extended heatsink design allows air flow to pass through, providing better heat dissipation.  </p>, <h3>LARGE COPPER PLATE &amp; HEAT-PIPE </h3>, <p>With direct contact to the GPU and VRAM, the large copper plate combines the composite heat pipes to efficiently transfer heat generated from the interior cores to the heat sink.  </p>, <h3>RGB FUSION 2.0</h3>, <p>With 16.7M customizable color options and numerous lighting effects, you can choose lighting effects or synchronize with other AORUS devices.  </p>, <h3>PROTECTION METAL BACK PLATE</h3>, <p>The metal back plate not only provides an aesthetical shape, but also enhances the structure of the graphics card to provide complete protection. </p>, <h3>DUAL BIOS </h3>, <p>Silent mode will provide a quieter experience. The mode switch requires a reboot to take effect. The default is OC mode. </p>, <h3>EXTREME DURABILITY AND OVERCLOCKING </h3>, <p>The graphics card uses the better power phase design to allow the MOSFET to operate at lower temperature, and over-temperature protection design and load balancing for each MOSFET, plus the Ultra Durable certified chokes and capacitors, to provide excellent performance and longer system life. </p>, <h3>FRIENDLY PCB DESIGN</h3>, <p>Fully automated production process ensures top quality of the circuit boards and eliminates sharp protrusions of the solder connectors seen on the conventional PCB surface. This friendly design prevents your hands from getting cut or inadvertently damaging components when making your build. </p>, <h3>4 YEARS WARRANTY </h3>, <p>We want you to experience the best service you have ever had. This is why, on top of our standard 3-year warranty, we would like to offer you an additional 1 year of protection to your graphics card free of charge. You can enjoy a 4-year warranty by registering on the website within 30 days of purchase. </p>, <h3>AORUS ENGINE  </h3>, <p>The cutting edge intuitive interface allows you to adjust the clock speed, voltage, fan performance and power target in real-time according to your game’s requirements. </p>, <p><strong>Pros:</strong> <!-- -->- Almost no coil whine at 100 percent load, running 90hz - 120hz at 4K resolutions with G-Sync.\n",
            "- Very little fan noise at 100 percent load, running 90hz - 120hz at 4K on \"Silent\" mode bios\n",
            "- Everything just \"works,\" no fuss setting up, drivers worked immediately with my monitor, games, etc.\n",
            "- Tame RGB lighting and aesthetics, not too wild.</p>, <p><strong>Cons:</strong> <!-- -->- Exorbitant price, but hey, I paid it, and so have others, so it is what it is. Unfortunately, a product is worth, in some instances, what people are willing to pay for it.\n",
            "- The card needs a GPU support, in my opinion, and does not come with one. It's heavy.</p>, <p><strong>Overall Review:</strong> <!-- -->Overall I am pretty smitten with this graphics card. Newegg (or their algorithm) was so kind as to select me in the \"shuffle,\" and so I felt lucky to get this at the price I did in the current GPU market. Newegg is essentially giving up potential profits they could have gathered, to honor a more fair pricing for their customers, and I won't forget that moving forward. Newegg has to compete in an environment with other major competitors, so I think this was a pretty classy move on their part. The 3080 TI is everything I wanted, it allows me to play every game I have tried with a truly good experience, usually at max settings, at 4K, often exceeding 60fps, and sometimes approaching 120fps. Paired with a G-sync monitor is the way to go. On games like Cyberpunk I am getting about 50 fps at max settings and the Gsync keeps it mostly smooth, and on games like Far Cry 5 I get about 110-120 fps on 4K max which keeps the action both crisp and smooth. Like nothing I have experienced before. 2K 60 fps with V-sync used to be the standard for me that I aimed for, and sometimes when a game was too much for my graphics card, I would just have to \"save\" the game for new hardware in the future because V-sync at 30 fps was unplayable to me. Coming from a 980 TI, this new setup is really worth it. Additionally I was concerned about coil whine, because it's kind  of a gamble, and as much as I can garner, it's kind of up to the individual manufacturers (Gigabyte, MSI, etc.) on how to finally assemble a graphics card and coil whine is not a concern for some of them. I once owned a R9 290X that squealed like a pig, and it was truly unbearable. So I either got lucky with this 3080 TI, or Gigabyte is good at making graphics cards not squeal, I don't know, but all I can say is my unit does not have coil whine, and the fans are fairly quiet to boot. I couldn't be happier, which is nice when spending this much money. Coil whine is present, but not that bad running unregulated FPS during menus, etc. which is normal. It's possible that at 144HZ plus applications, coil whine could become an issue, but even this cards worst \"whine\" that I have heard, has been pretty tame. I run an almost silent air cooled setup, with a heavily vented computer case, so their is very little sound insulation as well with my configuration. If you're looking at this card, price versus performance has already gone out the window, so don't let the naysayer get you down. The law of diminishing returns governs a lot in this world of ours. Top end GPUs have never been a \"good\" buy (until you could resell them recently, I suppose). Buy with confidence, and if you are worried about price versus performance this is probably not the card to buy. If you want to play games now, like \"Cyberpunk 2077\" at max settings at 4K, this is one of the only cards that can do that at \"playable\" frame rates, which is also subjective...</p>, <p><strong>Pros:</strong> <!-- -->Stays cool under load.\n",
            "Rgb is nice</p>, <p><strong>Cons:</strong> <!-- -->Some components on the card fried in less then a month.  The heaviest load this ran was ffxiv at max settings. \n",
            "The power consumption is incredibly high compared to processing power. \n",
            "Crazy long card. Had to relocate hdd to make space for it.</p>, <p><strong>Overall Review:</strong> <!-- -->Used newegg raffle to purchase this card with an insanely marked up old mobo. I would not purchase this again.</p>, <p><strong>Pros:</strong> <!-- -->It go whoosh\n",
            "It go brrrrrrr\n",
            "It stronk</p>, <p><strong>Cons:</strong> <!-- -->It cost many monies</p>, <p><strong>Overall Review:</strong> <!-- -->Good card\n",
            "Hate scalpers\n",
            "They fix shipping issue now (i hope)</p>, <p><strong>Pros:</strong> <!-- -->Absolutely top tier performance.</p>, <p><strong>Cons:</strong> <!-- -->Prices are still outrageous. Also on this model, the fan runs at idle and is audible at all times.</p>, <p><strong>Overall Review:</strong> <!-- -->This (along with 3090) is the best of the best. Swing for the fences if you have the means to do so!!</p>, <p><strong>Pros:</strong> <!-- -->Good thermals, quiet, FPS above 100 at 1440p ive reached 200 fps at 1440p in call of duty Vanguard!!!</p>, <p><strong>Cons:</strong> <!-- -->Nothing ( maybe size if you have smaller case)</p>, <p><strong>Overall Review:</strong> <!-- -->Amazing! Top of the line</p>, <p><strong>Pros:</strong> <!-- -->It is Very fast,  solid build. I like it.</p>, <p><strong>Overall Review:</strong> <!-- -->I am so happy with this new card, it is more than 6.5 times fast  in Octane render compared my old gtx 1080  and during rendering  temperature was 63C Celsius, not more.</p>, <p><strong>Overall Review:</strong> <!-- -->Had a model that boosts to 2.1 GHz and crashes in a few minutes. Had to use MSI AB to reduce the boost max by 100 to prevent this. Otherwise, very fast and pretty quiet.</p>, <p><strong>Pros:</strong> <!-- -->It works;.</p>, <p><strong>Cons:</strong> <!-- -->I bought the GPU back in September, was able to play for 2 months, and then died right before Thanksgiving. I checked Newegg for RMA process and its outside the length of their RMA. Reached out to Gigabyte and returned the card the Friday after Thanksgiving. They were not able to fix the card, so I am in queue for a replacement but I still have not gotten a date of when they will replace it.\n",
            "\n",
            "I am nearing the point where the amount of time the GPU has been in the RMA process is longer than the amount of time it was in my ownership in working condition. Its an expensive card too, so this has been a very disappointing situation.</p>, <p><strong>Overall Review:</strong> <!-- -->It's a good card when it works, but its been broken and in the RMA process longer than it has been used when I had it in my possession.</p>, <h3 class=\"item-cell-title\">Warranty, Returns, And Additional Information</h3>, <p><strong>Sign up to get promo codes in your inbox.</strong></p>, <p>You will never miss exclusive savings for subscribers.</p>, <p class=\"margin-top\"><a class=\"link-more text-blue\" href=\"https://promotions.newegg.ca/neemail/latest/index-landing.html\" title=\"\"><span>View Latest Email Deals</span> <i aria-label=\"more\" class=\"ico ico-angle-right\"></i></a></p>, <p><strong>Scan the QR code to download App</strong></p>, <p>Scan this code with your phone's camera.</p>]\n"
          ]
        }
      ]
    },
    {
      "cell_type": "code",
      "source": [
        "#if you want to find one value inside one tag\n",
        "multiple_tags= doc.find_all([\"strong\"],text=\"OneDealOutlet Canada\")\n",
        "print(multiple_tags)\n",
        "#how to get all data inside strong together\n",
        "\n",
        "for tag in multiple_tags:\n",
        "  print(tag)\n",
        "\n"
      ],
      "metadata": {
        "id": "GRkcTVLnGqEm",
        "colab": {
          "base_uri": "https://localhost:8080/"
        },
        "outputId": "827afca7-f15e-448d-bf16-ff1d76a3e3ce"
      },
      "execution_count": 45,
      "outputs": [
        {
          "output_type": "stream",
          "name": "stdout",
          "text": [
            "[<strong>OneDealOutlet Canada</strong>, <strong>OneDealOutlet Canada</strong>]\n",
            "<strong>OneDealOutlet Canada</strong>\n",
            "<strong>OneDealOutlet Canada</strong>\n"
          ]
        }
      ]
    },
    {
      "cell_type": "code",
      "source": [
        "from typing_extensions import TypeGuard\n",
        "# if we use re.compile we get all data beside that text that we put in\n",
        "#need to import re\n",
        "\n",
        "from bs4 import BeautifulSoup\n",
        "import requests\n",
        "import re\n",
        "\n",
        "url= \"https://www.newegg.ca/gigabyte-geforce-rtx-3080-ti-gv-n308tgaming-oc-12gd/p/N82E16814932436?Description=3080&cm_re=3080-_-14-932-436-_-Product\"\n",
        "\n",
        "result= requests.get(url)\n",
        "\n",
        "doc= BeautifulSoup(result.text,\"html.parser\")\n",
        "\n",
        "\n",
        "tag= doc.find_all(text=re.compile(\"\\$.*\"),limit=5) #limit will only show 5 values\n",
        "for i in tag:\n",
        "   print(i)\n",
        "\n",
        "\n",
        "\n",
        "\n",
        "\n"
      ],
      "metadata": {
        "id": "dkXk8PsIWUiK",
        "outputId": "aab4c700-4990-4751-b462-ff2d4ee355cb",
        "colab": {
          "base_uri": "https://localhost:8080/"
        }
      },
      "execution_count": 77,
      "outputs": [
        {
          "output_type": "stream",
          "name": "stdout",
          "text": [
            "(function(){var darkv = document.cookie.match('(^|;) ?NV_Theme=([^;]*)(;|$)');var dark = darkv ? darkv[2] : \"false\";if (dark == \"true\") {if(!document.getElementById('NewTemplate')){jQuery('html').addClass('dark-mode');}else{document.documentElement.classList.add(\"dark-mode\")}}var style = document.createElement(\"style\");var darkCss='#Dark_Mode{display:none;}.header2021-toggle{z-index:5}.header2021-nav ~ .header2021-nav.header2021-toggle{margin-left:20px}.header2021-toggle:hover{transform:scale(1)}.header2021-toggle:hover .bg-lightgray{background-color:rgba(235,235,235,1)}.header2021-toggle .toggle-body{border:1px solid #212121;border-radius:30px}.header2021-toggle .toggle-body-inner:after{border-radius:30px;width:30px;top:0;bottom:0;margin-left:-1px;box-shadow:0 1px 6px 0 rgb(0 0 0 / 16%)}.header2021-toggle .toggle-handle{font-size:20px;color:#474747}.header2021-toggle .dark-mode-tooltip{padding:5px 15px;white-space:nowrap}.header2021-toggle.menu.at-bottom .menu-body{left:auto;right:0;margin-top:12px;text-align:left}.header2021-toggle.at-bottom>.menu-arrow{left:auto;right:20px;text-align:left}.header2021-toggle.at-bottom>.menu-body>.menu-arrow{left:auto!important;right:20px}.dark-mode .header2021-toggle .toggle-handle.take-on{padding-left:8px}.dark-mode .header2021-toggle:hover .bg-lightgray{background-color:#ea7421}.dark-mode .header2021-toggle .toggle-body{border:1px solid #835b38}.dark-mode .header2021-toggle .bg-lightgray{background-color:#e05d00}.dark-mode .header2021-toggle input[type=\"checkbox\"]:checked ~ .toggle-body .toggle-body-inner:after{margin-right:0;margin-left:0;top:0}.dark-mode .header2021-toggle .toggle-body-inner:after{box-shadow:0 6px 6px 0 rgb(0 0 0 / 16%)}@media(max-width:599px){.header2021-inner{padding:15px 2px}.header2021-logo{width:60px}.header2021-country.header2021-nav:not(:first-child){margin-left:15px}.header2021-toggle .bg-lightgray{background:#fff}.header2021-nav ~ .header2021-nav.header2021-toggle{margin-left:15px}.header2021-toggle .toggle-body{min-width:30px;height:30px;border-radius:50%}.header2021-toggle .toggle-body-inner{width:100%;height:100%;transform:translateX(0);justify-content:center;align-items:center}.header2021-toggle .toggle-handle{height:100%;line-height:1.1;padding:0;font-size:22px;justify-content:center;z-index:2}.header2021-toggle .toggle-body-inner:after{content:none}.header2021-toggle .toggle-handle.take-off{padding:0}.header2021-toggle .toggle-handle.take-on,.header2021-toggle.menu.at-bottom .menu-body{display:none}.dark-mode .header2021-toggle .toggle-handle.take-on{display:flex;padding:0}.dark-mode .header2021-toggle .toggle-handle.take-off{display:none}.section-right>.line-vertical-new{margin:0 0 0 10px}}@media(max-width:350px){.header2021-nav-inner,.header2021-nav.menu .header2021-nav-inner{padding-left:26px;height:26px;min-height:26px}.header2021-country-flag{width:26px;height:26px}.header2021-nav-icon{width:26px;height:26px;line-height:26px;font-size:24px;top:2px}.header2021-nav ~ .header2021-nav{margin-left:5px}.header2021-nav ~ .header2021-nav.header2021-toggle{margin-left:10px}.header2021-toggle .toggle-body{min-width:24px;height:24px}.header2021-toggle .toggle-handle{font-size:16px}}';try{style.appendChild(document.createTextNode(darkCss));}catch(ex){style.styleSheet.cssText = darkCss;}var head = document.getElementsByTagName(\"head\")[0];head&&head.appendChild(style);var darkbut = jQuery('<div class=\"header2021-nav header2021-toggle toggle toggle-m menu at-bottom\"><label id=\"darkLabel\"><input type=\"checkbox\" id=\"checkdarkmode\"><span class=\"toggle-body bg-lightgray font-l\"><span class=\"toggle-body-inner\"><span class=\"toggle-handle take-on\">&#9790;</span><span class=\"toggle-handle take-off \">&#9728;</span></span></span></label><div id=\"darkModal\" class=\"menu-body bg-white radius-s shadow-level-1\"><i class=\"menu-arrow\"></i><p class=\"dark-mode-tooltip\">Switch to Dark Mode</p></div></div>');jQuery(document).ready(function (){jQuery('.header2021-country').after(darkbut);if (dark == \"true\") {if(jQuery('#checkdarkmode')[0]){jQuery('#checkdarkmode')[0].checked = true;}jQuery('.dark-mode-tooltip').text(\"Switch to Light Mode\");}jQuery('#checkdarkmode').change(function(){jQuery('html').toggleClass('dark-mode');var $tooltip = jQuery('.dark-mode-tooltip').text();jQuery('.dark-mode-tooltip').text($tooltip == \"Switch to Dark Mode\" ? \"Switch to Light Mode\" : \"Switch to Dark Mode\");var t = new Date;t.setTime(t.getTime() + 94608e6);document.cookie = \"NV_Theme=\" + ($tooltip == \"Switch to Dark Mode\") + \";expires=\" + t.toGMTString() + \";path=/;domain=.\"+ location.hostname.split('.').splice(-2).join('.') +\";\";});jQuery('#darkLabel').hover(function(){jQuery('#darkModal').css('display','block')},function(){$('#darkModal').css('display','none')});})})()\n",
            "$2,099.99\n",
            "$\n",
            "$10.61 Shipping \n",
            "$\n"
          ]
        }
      ]
    },
    {
      "cell_type": "code",
      "source": [
        ""
      ],
      "metadata": {
        "id": "udu8XDnxatYh"
      },
      "execution_count": null,
      "outputs": []
    }
  ]
}