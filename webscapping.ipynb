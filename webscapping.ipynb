{
  "nbformat": 4,
  "nbformat_minor": 0,
  "metadata": {
    "colab": {
      "name": "webscapping.ipynb",
      "provenance": [],
      "authorship_tag": "ABX9TyNj1q0LCDu3n+GM2u410Vya",
      "include_colab_link": true
    },
    "kernelspec": {
      "name": "python3",
      "display_name": "Python 3"
    },
    "language_info": {
      "name": "python"
    }
  },
  "cells": [
    {
      "cell_type": "markdown",
      "metadata": {
        "id": "view-in-github",
        "colab_type": "text"
      },
      "source": [
        "<a href=\"https://colab.research.google.com/github/Riz08/My-python-practice-repo/blob/main/webscapping.ipynb\" target=\"_parent\"><img src=\"https://colab.research.google.com/assets/colab-badge.svg\" alt=\"Open In Colab\"/></a>"
      ]
    },
    {
      "cell_type": "code",
      "execution_count": null,
      "metadata": {
        "colab": {
          "base_uri": "https://localhost:8080/"
        },
        "id": "JYD7uLnE4rRR",
        "outputId": "2ccf3062-24d1-41fd-978c-4a5690a2ed0a"
      },
      "outputs": [
        {
          "output_type": "stream",
          "name": "stdout",
          "text": [
            "Requirement already satisfied: beautifulsoup4 in /usr/local/lib/python3.7/dist-packages (4.6.3)\n",
            "Requirement already satisfied: html.parser in /usr/local/lib/python3.7/dist-packages (0.2)\n",
            "Requirement already satisfied: ply in /usr/local/lib/python3.7/dist-packages (from html.parser) (3.11)\n"
          ]
        }
      ],
      "source": [
        "!pip install beautifulsoup4\n",
        "\n",
        "\n",
        "!pip install html.parser"
      ]
    },
    {
      "cell_type": "code",
      "source": [
        "##some sites will not allow web scrapping so use dos,spaming requests\n",
        "\n",
        "\n",
        "from bs4 import BeautifulSoup\n",
        "import requests\n",
        "\n",
        "\n",
        "url= \"https://www.newegg.ca/gigabyte-geforce-rtx-3080-ti-gv-n308tgaming-oc-12gd/p/N82E16814932436?Description=3080&cm_re=3080-_-14-932-436-_-Product\"\n",
        "\n",
        "result= requests.get(url)\n",
        "\n",
        "doc= BeautifulSoup(result.text,\"html.parser\")\n",
        "#now if we want ot find price lets search for dollar sign as text. If we use find all for header no text needed but if \n",
        "#we want to search for some text than need to add text\n",
        "\n",
        "prices= doc.find_all(text=\"$\")\n",
        "parent= prices[0].parent\n",
        "print (parent)\n",
        "\n",
        "#if we want to change value\n",
        "\n",
        "parent[\"class\"]=\"Price of 2021\"\n",
        "print(parent)\n",
        "\n",
        "#if we want to add value\n",
        "\n",
        "parent[\"color\"]=\"blue\"\n",
        "print(parent)\n",
        "\n",
        "\n",
        "strong= parent.find(\"strong\")\n",
        "print (strong)\n",
        "\n",
        "strong[\"price\"]=\"Price in dollars\"\n",
        "print(strong)\n",
        "\n",
        "\n",
        "price=strong.string\n",
        "print(price)\n",
        "\n",
        "\n",
        "\n",
        "\n"
      ],
      "metadata": {
        "colab": {
          "base_uri": "https://localhost:8080/"
        },
        "id": "YvW2k4gXGnKH",
        "outputId": "284746c8-d868-4d8b-ecd3-d81a35f14764"
      },
      "execution_count": 5,
      "outputs": [
        {
          "output_type": "stream",
          "name": "stdout",
          "text": [
            "<li class=\"price-current\"><span class=\"price-current-label\"></span>$<strong>1,999</strong><sup>.99</sup></li>\n",
            "<li class=\"Price of 2021\"><span class=\"price-current-label\"></span>$<strong>1,999</strong><sup>.99</sup></li>\n",
            "<li class=\"Price of 2021\" color=\"blue\"><span class=\"price-current-label\"></span>$<strong>1,999</strong><sup>.99</sup></li>\n",
            "<strong>1,999</strong>\n",
            "<strong price=\"Price in dollars\">1,999</strong>\n",
            "1,999\n"
          ]
        }
      ]
    },
    {
      "cell_type": "code",
      "source": [
        "\n",
        "\n",
        "\n",
        "\n",
        "\n",
        "\n",
        "\n",
        "\n",
        "\n",
        "\n",
        "\n",
        "\n",
        "\n",
        "\n",
        "\n",
        "\n",
        "\n",
        "\n",
        "\n",
        "\n",
        "\n",
        "\n",
        "\n",
        "\n",
        "\n",
        "\n",
        "\n",
        "\n",
        "\n",
        "\n",
        "\n",
        "\n",
        "\n",
        "\n"
      ],
      "metadata": {
        "id": "g2p9eBX_5_lt"
      },
      "execution_count": null,
      "outputs": []
    },
    {
      "cell_type": "code",
      "source": [
        ""
      ],
      "metadata": {
        "id": "GRkcTVLnGqEm"
      },
      "execution_count": null,
      "outputs": []
    }
  ]
}