{
  "nbformat": 4,
  "nbformat_minor": 0,
  "metadata": {
    "colab": {
      "name": "webscapping.ipynb",
      "provenance": [],
      "authorship_tag": "ABX9TyMmlNXXibIHEHm7V0+2P62R",
      "include_colab_link": true
    },
    "kernelspec": {
      "name": "python3",
      "display_name": "Python 3"
    },
    "language_info": {
      "name": "python"
    }
  },
  "cells": [
    {
      "cell_type": "markdown",
      "metadata": {
        "id": "view-in-github",
        "colab_type": "text"
      },
      "source": [
        "<a href=\"https://colab.research.google.com/github/Riz08/My-python-practice-repo/blob/main/webscapping.ipynb\" target=\"_parent\"><img src=\"https://colab.research.google.com/assets/colab-badge.svg\" alt=\"Open In Colab\"/></a>"
      ]
    },
    {
      "cell_type": "code",
      "execution_count": 17,
      "metadata": {
        "colab": {
          "base_uri": "https://localhost:8080/"
        },
        "id": "JYD7uLnE4rRR",
        "outputId": "2ccf3062-24d1-41fd-978c-4a5690a2ed0a"
      },
      "outputs": [
        {
          "output_type": "stream",
          "name": "stdout",
          "text": [
            "Requirement already satisfied: beautifulsoup4 in /usr/local/lib/python3.7/dist-packages (4.6.3)\n",
            "Requirement already satisfied: html.parser in /usr/local/lib/python3.7/dist-packages (0.2)\n",
            "Requirement already satisfied: ply in /usr/local/lib/python3.7/dist-packages (from html.parser) (3.11)\n"
          ]
        }
      ],
      "source": [
        "!pip install beautifulsoup4\n",
        "\n",
        "\n",
        "!pip install html.parser"
      ]
    },
    {
      "cell_type": "code",
      "source": [
        "##some sites will not allow web scrapping so use dos,spaming requests\n",
        "\n",
        "\n",
        "from bs4 import BeautifulSoup\n",
        "import requests\n",
        "\n",
        "\n",
        "url= \"https://www.newegg.ca/intel-core-i9-12900k-core-i9-12th-gen/p/N82E16819118339\"\n",
        "\n",
        "get_url= requests.get(url)\n",
        "\n",
        "find_price= BeautifulSoup(get_url.text,\"html.parser\")\n",
        "#now if we want ot find price lets search for dollar sign as text. If we use find all for header no text needed but if \n",
        "#we want to search for some text than need to add text\n",
        "\n",
        "\n",
        "prices= find_price.find_all(text=\"$\")\n",
        "\n",
        "\n",
        "print (prices)\n"
      ],
      "metadata": {
        "colab": {
          "base_uri": "https://localhost:8080/"
        },
        "id": "YvW2k4gXGnKH",
        "outputId": "1368a428-6822-4ef5-fd7d-d5ad93f228bc"
      },
      "execution_count": 35,
      "outputs": [
        {
          "output_type": "stream",
          "name": "stdout",
          "text": [
            "[]\n"
          ]
        }
      ]
    },
    {
      "cell_type": "code",
      "source": [
        "\n"
      ],
      "metadata": {
        "id": "g2p9eBX_5_lt"
      },
      "execution_count": 19,
      "outputs": []
    },
    {
      "cell_type": "code",
      "source": [
        ""
      ],
      "metadata": {
        "id": "GRkcTVLnGqEm"
      },
      "execution_count": null,
      "outputs": []
    }
  ]
}