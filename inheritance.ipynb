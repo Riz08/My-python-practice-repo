{
  "nbformat": 4,
  "nbformat_minor": 0,
  "metadata": {
    "colab": {
      "name": "inheritance.ipynb",
      "provenance": [],
      "collapsed_sections": [],
      "authorship_tag": "ABX9TyNHRxUp5QEeLKOeQt8Ikmff",
      "include_colab_link": true
    },
    "kernelspec": {
      "name": "python3",
      "display_name": "Python 3"
    },
    "language_info": {
      "name": "python"
    }
  },
  "cells": [
    {
      "cell_type": "markdown",
      "metadata": {
        "id": "view-in-github",
        "colab_type": "text"
      },
      "source": [
        "<a href=\"https://colab.research.google.com/github/Riz08/My-python-practice-repo/blob/main/inheritance.ipynb\" target=\"_parent\"><img src=\"https://colab.research.google.com/assets/colab-badge.svg\" alt=\"Open In Colab\"/></a>"
      ]
    },
    {
      "cell_type": "code",
      "execution_count": null,
      "metadata": {
        "colab": {
          "base_uri": "https://localhost:8080/"
        },
        "id": "3ynBqBgTbt6b",
        "outputId": "c72287f0-23ff-44bd-95dd-662c0db85917"
      },
      "outputs": [
        {
          "output_type": "stream",
          "name": "stdout",
          "text": [
            "Dog barking\n",
            "Animal Speaking\n",
            "This is a guard\n"
          ]
        }
      ],
      "source": [
        "#multilevel inheritance\n",
        "class Animal:\n",
        "  def speak(self):\n",
        "    print(\"Animal Speaking\")\n",
        "\n",
        "\n",
        "class Dog(Animal):\n",
        "  def bark(self):\n",
        "    print(\"Dog barking\")\n",
        "\n",
        "class Puppy(Dog):\n",
        "  def breed(self):\n",
        "    print (\"This is a guard\")\n",
        "\n",
        "\n",
        "obj= Puppy()\n",
        "obj1= obj.bark()\n",
        "obj2= obj.speak()\n",
        "obj3= obj.breed()\n"
      ]
    },
    {
      "cell_type": "code",
      "source": [
        "#multiple inheritence\n",
        "\n",
        "\n",
        "class Calculation:\n",
        "  def summation(self,a,b):\n",
        "    return a+b\n",
        "\n",
        "class Calculation2:\n",
        "  def multiplication(self,a,b):\n",
        "    return a*b\n",
        "\n",
        "class MulInher(Calculation,Calculation2):\n",
        "  def devide(self,a,b):\n",
        "    return a/b\n",
        "\n",
        "obj= MulInher()\n",
        "obj1= obj.summation(10,20)\n",
        "obj2= obj.multiplication(3,5)\n",
        "obj3= obj.devide(obj1,obj2)\n",
        "\n",
        "print (obj1)\n",
        "print (obj2)\n",
        "print (obj3)\n"
      ],
      "metadata": {
        "colab": {
          "base_uri": "https://localhost:8080/"
        },
        "id": "_0xlvfmGdkbK",
        "outputId": "4c77696f-6505-4232-aaca-14c405696c6b"
      },
      "execution_count": 11,
      "outputs": [
        {
          "output_type": "stream",
          "name": "stdout",
          "text": [
            "30\n",
            "15\n",
            "2.0\n"
          ]
        }
      ]
    },
    {
      "cell_type": "code",
      "source": [
        "class Man:\n",
        "  def __init__(self,name):\n",
        "    self.name=name\n",
        "  def display(self):\n",
        "    return self.name\n",
        "  def child(self):\n",
        "    return False\n",
        "\n",
        "class Children(Man): #when we inherit from man class we automatically have __init__ and dispay in children class\n",
        "  def child(self):\n",
        "    return True\n",
        "\n",
        "obj1= Man(\"Riza\")\n",
        "obj2=Children(\"Sarb\")\n",
        "\n",
        "\n",
        "print(obj1.display(),obj1.child())\n",
        "print(obj2.display(),obj2.child())\n",
        "\n"
      ],
      "metadata": {
        "id": "DlxDBqJ-izws",
        "outputId": "ffb30469-d916-4781-a967-d041041da339",
        "colab": {
          "base_uri": "https://localhost:8080/"
        }
      },
      "execution_count": 8,
      "outputs": [
        {
          "output_type": "stream",
          "name": "stdout",
          "text": [
            "Riza False\n",
            "Sarb True\n"
          ]
        }
      ]
    },
    {
      "cell_type": "code",
      "source": [
        "#in class super() method is used to overwrite\n",
        "\n",
        "class Rectangle:\n",
        "  def __init__(self,length,breadth):\n",
        "    self.length=length\n",
        "    self.breadth=breadth\n",
        "    print(\"It is a rectangle\")\n",
        "  def area(self):\n",
        "    return self.length*self.breadth\n",
        "  def perimeter(self):\n",
        "    return 2*self.length+2*self.breadth\n",
        "\n",
        "class Square(Rectangle):\n",
        "  def __init__(self,side):\n",
        "    print(\"It is a Square\")\n",
        "    Rectangle.__init__(self,side,side) #how to overwrite parent class\n",
        "\n",
        "\n",
        "obj1=Square(3)\n",
        "print(obj1.area())\n",
        "print(obj1.perimeter())\n",
        "\n"
      ],
      "metadata": {
        "id": "MOSyiyZqKQ9E",
        "outputId": "cd32daf1-f986-4831-cf6c-5f7c8b278473",
        "colab": {
          "base_uri": "https://localhost:8080/"
        }
      },
      "execution_count": 21,
      "outputs": [
        {
          "output_type": "stream",
          "name": "stdout",
          "text": [
            "It is a Square\n",
            "It is a rectangle\n",
            "9\n",
            "12\n"
          ]
        }
      ]
    },
    {
      "cell_type": "code",
      "source": [
        "\n",
        "\n",
        "\n",
        "\n",
        "\n",
        "\n",
        "\n",
        "\n",
        "\n",
        "\n",
        "\n",
        "\n",
        "\n",
        "\n",
        "\n",
        "\n",
        "\n",
        "\n",
        "\n",
        "\n"
      ],
      "metadata": {
        "id": "tdTlVFwAQB1F"
      },
      "execution_count": null,
      "outputs": []
    }
  ]
}