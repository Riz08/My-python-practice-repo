{
  "nbformat": 4,
  "nbformat_minor": 0,
  "metadata": {
    "colab": {
      "name": "handle2filesandunittesting.ipynb",
      "provenance": [],
      "collapsed_sections": [],
      "authorship_tag": "ABX9TyM0cwsRYnclDH3MlWsVEajY",
      "include_colab_link": true
    },
    "kernelspec": {
      "name": "python3",
      "display_name": "Python 3"
    },
    "language_info": {
      "name": "python"
    }
  },
  "cells": [
    {
      "cell_type": "markdown",
      "metadata": {
        "id": "view-in-github",
        "colab_type": "text"
      },
      "source": [
        "<a href=\"https://colab.research.google.com/github/Riz08/My-python-practice-repo/blob/main/handle2filesandunittesting.ipynb\" target=\"_parent\"><img src=\"https://colab.research.google.com/assets/colab-badge.svg\" alt=\"Open In Colab\"/></a>"
      ]
    },
    {
      "cell_type": "code",
      "execution_count": 11,
      "metadata": {
        "colab": {
          "base_uri": "https://localhost:8080/"
        },
        "id": "drnYgGLAuH-8",
        "outputId": "4b0ff751-45b6-4e49-f8e0-4874c67c86be"
      },
      "outputs": [
        {
          "output_type": "stream",
          "name": "stdout",
          "text": [
            "1\n",
            "22\n",
            "333\n",
            "4444\n",
            "55555\n",
            "666666\n",
            "This file is the main file\n"
          ]
        }
      ],
      "source": [
        "def myfunc():\n",
        "  a=6\n",
        "  for line in range(1,a+1):\n",
        "    for i in range(line):\n",
        "      print(line,end=\"\")\n",
        "    print(\"\")\n",
        "myfunc()\n",
        "\n",
        "if __name__==\"__main__\":\n",
        "  print(\"This file is the main file\")\n",
        "\n",
        "\n",
        "\n",
        "\n",
        "\n",
        "\n",
        "\n",
        "\n",
        "\n",
        "\n",
        "\n"
      ]
    },
    {
      "cell_type": "code",
      "source": [
        "#how to handle two different files\n",
        "\n",
        "from File1 import myfunc\n",
        "myfunc()"
      ],
      "metadata": {
        "id": "Fnll5XwJv2dH"
      },
      "execution_count": null,
      "outputs": []
    }
  ]
}