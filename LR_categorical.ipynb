{
  "nbformat": 4,
  "nbformat_minor": 0,
  "metadata": {
    "colab": {
      "name": "LR_categorical.ipynb",
      "provenance": [],
      "include_colab_link": true
    },
    "kernelspec": {
      "name": "python3",
      "display_name": "Python 3"
    },
    "language_info": {
      "name": "python"
    }
  },
  "cells": [
    {
      "cell_type": "markdown",
      "metadata": {
        "id": "view-in-github",
        "colab_type": "text"
      },
      "source": [
        "<a href=\"https://colab.research.google.com/github/Riz08/My-python-practice-repo/blob/main/LR_categorical.ipynb\" target=\"_parent\"><img src=\"https://colab.research.google.com/assets/colab-badge.svg\" alt=\"Open In Colab\"/></a>"
      ]
    },
    {
      "cell_type": "code",
      "execution_count": null,
      "metadata": {
        "id": "CL-AIFyq3cXh"
      },
      "outputs": [],
      "source": [
        "from sklearn.linear_model import LinearRegression\n",
        "import pandas as pd\n",
        "from sklearn.preprocessing import LabelEncoder"
      ]
    },
    {
      "cell_type": "code",
      "source": [
        "df = pd.read_csv('homeprices_categorical.csv')\n",
        "df"
      ],
      "metadata": {
        "colab": {
          "base_uri": "https://localhost:8080/",
          "height": 457
        },
        "id": "Wk2fqCfX3-Ky",
        "outputId": "ea27279d-1783-46eb-b75c-18864d856960"
      },
      "execution_count": null,
      "outputs": [
        {
          "output_type": "execute_result",
          "data": {
            "text/plain": [
              "           Town  Area   Price\n",
              "0   Koramangala  2600  550000\n",
              "1   Koramangala  3000  565000\n",
              "2   Koramangala  3200  610000\n",
              "3   Koramangala  3600  680000\n",
              "4   Koramangala  4000  725000\n",
              "5     Jayanagar  2600  585000\n",
              "6     Jayanagar  2800  615000\n",
              "7     Jayanagar  3300  650000\n",
              "8     Jayanagar  3600  710000\n",
              "9   Indiranagar  2600  575000\n",
              "10  Indiranagar  2900  600000\n",
              "11  Indiranagar  3100  620000\n",
              "12  Indiranagar  3600  695000"
            ],
            "text/html": [
              "\n",
              "  <div id=\"df-ecdcc63e-ce12-47c0-9f1c-8574400faf55\">\n",
              "    <div class=\"colab-df-container\">\n",
              "      <div>\n",
              "<style scoped>\n",
              "    .dataframe tbody tr th:only-of-type {\n",
              "        vertical-align: middle;\n",
              "    }\n",
              "\n",
              "    .dataframe tbody tr th {\n",
              "        vertical-align: top;\n",
              "    }\n",
              "\n",
              "    .dataframe thead th {\n",
              "        text-align: right;\n",
              "    }\n",
              "</style>\n",
              "<table border=\"1\" class=\"dataframe\">\n",
              "  <thead>\n",
              "    <tr style=\"text-align: right;\">\n",
              "      <th></th>\n",
              "      <th>Town</th>\n",
              "      <th>Area</th>\n",
              "      <th>Price</th>\n",
              "    </tr>\n",
              "  </thead>\n",
              "  <tbody>\n",
              "    <tr>\n",
              "      <th>0</th>\n",
              "      <td>Koramangala</td>\n",
              "      <td>2600</td>\n",
              "      <td>550000</td>\n",
              "    </tr>\n",
              "    <tr>\n",
              "      <th>1</th>\n",
              "      <td>Koramangala</td>\n",
              "      <td>3000</td>\n",
              "      <td>565000</td>\n",
              "    </tr>\n",
              "    <tr>\n",
              "      <th>2</th>\n",
              "      <td>Koramangala</td>\n",
              "      <td>3200</td>\n",
              "      <td>610000</td>\n",
              "    </tr>\n",
              "    <tr>\n",
              "      <th>3</th>\n",
              "      <td>Koramangala</td>\n",
              "      <td>3600</td>\n",
              "      <td>680000</td>\n",
              "    </tr>\n",
              "    <tr>\n",
              "      <th>4</th>\n",
              "      <td>Koramangala</td>\n",
              "      <td>4000</td>\n",
              "      <td>725000</td>\n",
              "    </tr>\n",
              "    <tr>\n",
              "      <th>5</th>\n",
              "      <td>Jayanagar</td>\n",
              "      <td>2600</td>\n",
              "      <td>585000</td>\n",
              "    </tr>\n",
              "    <tr>\n",
              "      <th>6</th>\n",
              "      <td>Jayanagar</td>\n",
              "      <td>2800</td>\n",
              "      <td>615000</td>\n",
              "    </tr>\n",
              "    <tr>\n",
              "      <th>7</th>\n",
              "      <td>Jayanagar</td>\n",
              "      <td>3300</td>\n",
              "      <td>650000</td>\n",
              "    </tr>\n",
              "    <tr>\n",
              "      <th>8</th>\n",
              "      <td>Jayanagar</td>\n",
              "      <td>3600</td>\n",
              "      <td>710000</td>\n",
              "    </tr>\n",
              "    <tr>\n",
              "      <th>9</th>\n",
              "      <td>Indiranagar</td>\n",
              "      <td>2600</td>\n",
              "      <td>575000</td>\n",
              "    </tr>\n",
              "    <tr>\n",
              "      <th>10</th>\n",
              "      <td>Indiranagar</td>\n",
              "      <td>2900</td>\n",
              "      <td>600000</td>\n",
              "    </tr>\n",
              "    <tr>\n",
              "      <th>11</th>\n",
              "      <td>Indiranagar</td>\n",
              "      <td>3100</td>\n",
              "      <td>620000</td>\n",
              "    </tr>\n",
              "    <tr>\n",
              "      <th>12</th>\n",
              "      <td>Indiranagar</td>\n",
              "      <td>3600</td>\n",
              "      <td>695000</td>\n",
              "    </tr>\n",
              "  </tbody>\n",
              "</table>\n",
              "</div>\n",
              "      <button class=\"colab-df-convert\" onclick=\"convertToInteractive('df-ecdcc63e-ce12-47c0-9f1c-8574400faf55')\"\n",
              "              title=\"Convert this dataframe to an interactive table.\"\n",
              "              style=\"display:none;\">\n",
              "        \n",
              "  <svg xmlns=\"http://www.w3.org/2000/svg\" height=\"24px\"viewBox=\"0 0 24 24\"\n",
              "       width=\"24px\">\n",
              "    <path d=\"M0 0h24v24H0V0z\" fill=\"none\"/>\n",
              "    <path d=\"M18.56 5.44l.94 2.06.94-2.06 2.06-.94-2.06-.94-.94-2.06-.94 2.06-2.06.94zm-11 1L8.5 8.5l.94-2.06 2.06-.94-2.06-.94L8.5 2.5l-.94 2.06-2.06.94zm10 10l.94 2.06.94-2.06 2.06-.94-2.06-.94-.94-2.06-.94 2.06-2.06.94z\"/><path d=\"M17.41 7.96l-1.37-1.37c-.4-.4-.92-.59-1.43-.59-.52 0-1.04.2-1.43.59L10.3 9.45l-7.72 7.72c-.78.78-.78 2.05 0 2.83L4 21.41c.39.39.9.59 1.41.59.51 0 1.02-.2 1.41-.59l7.78-7.78 2.81-2.81c.8-.78.8-2.07 0-2.86zM5.41 20L4 18.59l7.72-7.72 1.47 1.35L5.41 20z\"/>\n",
              "  </svg>\n",
              "      </button>\n",
              "      \n",
              "  <style>\n",
              "    .colab-df-container {\n",
              "      display:flex;\n",
              "      flex-wrap:wrap;\n",
              "      gap: 12px;\n",
              "    }\n",
              "\n",
              "    .colab-df-convert {\n",
              "      background-color: #E8F0FE;\n",
              "      border: none;\n",
              "      border-radius: 50%;\n",
              "      cursor: pointer;\n",
              "      display: none;\n",
              "      fill: #1967D2;\n",
              "      height: 32px;\n",
              "      padding: 0 0 0 0;\n",
              "      width: 32px;\n",
              "    }\n",
              "\n",
              "    .colab-df-convert:hover {\n",
              "      background-color: #E2EBFA;\n",
              "      box-shadow: 0px 1px 2px rgba(60, 64, 67, 0.3), 0px 1px 3px 1px rgba(60, 64, 67, 0.15);\n",
              "      fill: #174EA6;\n",
              "    }\n",
              "\n",
              "    [theme=dark] .colab-df-convert {\n",
              "      background-color: #3B4455;\n",
              "      fill: #D2E3FC;\n",
              "    }\n",
              "\n",
              "    [theme=dark] .colab-df-convert:hover {\n",
              "      background-color: #434B5C;\n",
              "      box-shadow: 0px 1px 3px 1px rgba(0, 0, 0, 0.15);\n",
              "      filter: drop-shadow(0px 1px 2px rgba(0, 0, 0, 0.3));\n",
              "      fill: #FFFFFF;\n",
              "    }\n",
              "  </style>\n",
              "\n",
              "      <script>\n",
              "        const buttonEl =\n",
              "          document.querySelector('#df-ecdcc63e-ce12-47c0-9f1c-8574400faf55 button.colab-df-convert');\n",
              "        buttonEl.style.display =\n",
              "          google.colab.kernel.accessAllowed ? 'block' : 'none';\n",
              "\n",
              "        async function convertToInteractive(key) {\n",
              "          const element = document.querySelector('#df-ecdcc63e-ce12-47c0-9f1c-8574400faf55');\n",
              "          const dataTable =\n",
              "            await google.colab.kernel.invokeFunction('convertToInteractive',\n",
              "                                                     [key], {});\n",
              "          if (!dataTable) return;\n",
              "\n",
              "          const docLinkHtml = 'Like what you see? Visit the ' +\n",
              "            '<a target=\"_blank\" href=https://colab.research.google.com/notebooks/data_table.ipynb>data table notebook</a>'\n",
              "            + ' to learn more about interactive tables.';\n",
              "          element.innerHTML = '';\n",
              "          dataTable['output_type'] = 'display_data';\n",
              "          await google.colab.output.renderOutput(dataTable, element);\n",
              "          const docLink = document.createElement('div');\n",
              "          docLink.innerHTML = docLinkHtml;\n",
              "          element.appendChild(docLink);\n",
              "        }\n",
              "      </script>\n",
              "    </div>\n",
              "  </div>\n",
              "  "
            ]
          },
          "metadata": {},
          "execution_count": 17
        }
      ]
    },
    {
      "cell_type": "code",
      "source": [
        "df.shape"
      ],
      "metadata": {
        "id": "HFsfO7Tj4L6d"
      },
      "execution_count": null,
      "outputs": []
    },
    {
      "cell_type": "code",
      "source": [
        "df.describe()"
      ],
      "metadata": {
        "id": "u9WZUQ0D4O29"
      },
      "execution_count": null,
      "outputs": []
    },
    {
      "cell_type": "code",
      "source": [
        "df.describe(include='all')"
      ],
      "metadata": {
        "id": "4ucw72-84fQB"
      },
      "execution_count": null,
      "outputs": []
    },
    {
      "cell_type": "code",
      "source": [
        "df.columns"
      ],
      "metadata": {
        "id": "6z8ZZ0tO4wLd"
      },
      "execution_count": null,
      "outputs": []
    },
    {
      "cell_type": "code",
      "source": [
        "#to get unique value of Town\n",
        "df['Town'].unique()\n",
        "towns = df['Town'].unique()\n",
        "towns"
      ],
      "metadata": {
        "id": "mkR50OqX40bB"
      },
      "execution_count": null,
      "outputs": []
    },
    {
      "cell_type": "code",
      "source": [
        "n = df.shape[0]\n",
        "for i in range (n):\n",
        "  #print(df.iloc[i])   #Access row one by one\n",
        "  pass"
      ],
      "metadata": {
        "id": "EgipOAhBF9eC"
      },
      "execution_count": null,
      "outputs": []
    },
    {
      "cell_type": "code",
      "source": [
        "for i in range(n):\n",
        "  print(df.iloc[i,0], end=' ')\n",
        "  print(list(towns).index(df.iloc[i,0])) #Access only first column of every row"
      ],
      "metadata": {
        "id": "xGZFMXwVHdPF"
      },
      "execution_count": null,
      "outputs": []
    },
    {
      "cell_type": "code",
      "source": [
        "df['town_no'] = 0\n",
        "for i in range(n):\n",
        "  df.iloc[i,3] = list(towns).index(df.iloc[i,0])\n",
        "df"
      ],
      "metadata": {
        "id": "Ea78urnNIskd"
      },
      "execution_count": null,
      "outputs": []
    },
    {
      "cell_type": "code",
      "source": [
        "#Linear regression\n",
        "X = df[['town_no','Area']]\n",
        "y = df['Price']\n",
        "model = LinearRegression() "
      ],
      "metadata": {
        "id": "sEICI60NKCyi"
      },
      "execution_count": null,
      "outputs": []
    },
    {
      "cell_type": "code",
      "source": [
        "#Train the model\n",
        "model.fit(X, y)"
      ],
      "metadata": {
        "colab": {
          "base_uri": "https://localhost:8080/"
        },
        "id": "NDzxvkROKcca",
        "outputId": "23d47ef0-fb07-4772-dd4d-5693fcd6a595"
      },
      "execution_count": null,
      "outputs": [
        {
          "output_type": "execute_result",
          "data": {
            "text/plain": [
              "LinearRegression()"
            ]
          },
          "metadata": {},
          "execution_count": 18
        }
      ]
    },
    {
      "cell_type": "code",
      "source": [
        "#slope or coefficient or gradient\n",
        "model.coef_"
      ],
      "metadata": {
        "colab": {
          "base_uri": "https://localhost:8080/"
        },
        "id": "yxScE_o_LuVE",
        "outputId": "1539579c-6746-4fb0-d355-5c888a497e89"
      },
      "execution_count": null,
      "outputs": [
        {
          "output_type": "execute_result",
          "data": {
            "text/plain": [
              "array([13440.79309712,   124.02423352])"
            ]
          },
          "metadata": {},
          "execution_count": 20
        }
      ]
    },
    {
      "cell_type": "code",
      "source": [
        "#y intercept or bias\n",
        "model.intercept_"
      ],
      "metadata": {
        "colab": {
          "base_uri": "https://localhost:8080/"
        },
        "id": "s6IJOAqnL-4n",
        "outputId": "51507b0a-1853-4d9b-8b18-a33c2938d6a7"
      },
      "execution_count": null,
      "outputs": [
        {
          "output_type": "execute_result",
          "data": {
            "text/plain": [
              "226624.56398017285"
            ]
          },
          "metadata": {},
          "execution_count": 21
        }
      ]
    },
    {
      "cell_type": "markdown",
      "source": [
        "![image.png](data:image/png;base64,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)"
      ],
      "metadata": {
        "id": "MzrvNDnSMmvb"
      }
    },
    {
      "cell_type": "code",
      "source": [
        "model.predict([[0,2600],[1,2600],[2,2600]])"
      ],
      "metadata": {
        "id": "M2dDOT8vMKfO"
      },
      "execution_count": null,
      "outputs": []
    },
    {
      "cell_type": "code",
      "source": [
        "model.score(X,y)"
      ],
      "metadata": {
        "id": "rksMElI9OBpV"
      },
      "execution_count": null,
      "outputs": []
    },
    {
      "cell_type": "code",
      "source": [
        "try:\n",
        "  df.drop('town_no', axis='columns',inplace=True)\n",
        "except:\n",
        "  pass"
      ],
      "metadata": {
        "id": "86OCRLxRO10R"
      },
      "execution_count": null,
      "outputs": []
    },
    {
      "cell_type": "code",
      "source": [
        "df"
      ],
      "metadata": {
        "id": "miwXz6hlPK2q"
      },
      "execution_count": null,
      "outputs": []
    },
    {
      "cell_type": "code",
      "source": [
        "#help(pd.get_dummies)"
      ],
      "metadata": {
        "id": "K6bWLEm1PPBU"
      },
      "execution_count": null,
      "outputs": []
    },
    {
      "cell_type": "code",
      "source": [
        "dummies = pd.get_dummies(df['Town'])\n",
        "dummies"
      ],
      "metadata": {
        "id": "J2pjtAWgQOb-"
      },
      "execution_count": null,
      "outputs": []
    },
    {
      "cell_type": "code",
      "source": [
        "#Area, price, Indiranagar\tJayanagar\tKoramangala\n",
        "#2600,  55000,  0,           0,         1\n",
        "#----  -----   --            --        --\n",
        "#3600  695000,  1            0,         0"
      ],
      "metadata": {
        "id": "XhvwGUUEOIKz"
      },
      "execution_count": null,
      "outputs": []
    },
    {
      "cell_type": "code",
      "source": [
        "#concat dummies and df \n",
        "df_dummies = pd.concat([df, dummies], axis='columns')\n",
        "df_dummies"
      ],
      "metadata": {
        "id": "MH1bTksoRml4"
      },
      "execution_count": null,
      "outputs": []
    },
    {
      "cell_type": "code",
      "source": [
        "X = df_dummies.drop(['Town','Price'], axis='columns')\n",
        "y = df['Price']"
      ],
      "metadata": {
        "id": "X2aRhIZmScqd"
      },
      "execution_count": null,
      "outputs": []
    },
    {
      "cell_type": "code",
      "source": [
        "model.fit(X,y)"
      ],
      "metadata": {
        "id": "BDdLWDlLSr9j"
      },
      "execution_count": null,
      "outputs": []
    },
    {
      "cell_type": "code",
      "source": [
        "model.score(X,y)"
      ],
      "metadata": {
        "colab": {
          "base_uri": "https://localhost:8080/"
        },
        "id": "_R-kR65VS8h_",
        "outputId": "eb7be38f-6bac-42db-8e68-dca516976f66"
      },
      "execution_count": null,
      "outputs": [
        {
          "output_type": "execute_result",
          "data": {
            "text/plain": [
              "0.9573929037221873"
            ]
          },
          "metadata": {},
          "execution_count": 35
        }
      ]
    },
    {
      "cell_type": "markdown",
      "source": [
        "![image.png](data:image/png;base64,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)"
      ],
      "metadata": {
        "id": "DjgdSzNTTZjR"
      }
    },
    {
      "cell_type": "code",
      "source": [
        "model.predict([[2600,0,0,1],[2600,0,1,0],[2600,1,0,0]])"
      ],
      "metadata": {
        "id": "T-MpgeujTMQZ"
      },
      "execution_count": null,
      "outputs": []
    },
    {
      "cell_type": "code",
      "source": [
        "X.head(1)"
      ],
      "metadata": {
        "colab": {
          "base_uri": "https://localhost:8080/",
          "height": 81
        },
        "id": "CfI8u2juVpvg",
        "outputId": "9ae68f99-3b16-4be6-8457-21f64f840eb5"
      },
      "execution_count": null,
      "outputs": [
        {
          "output_type": "execute_result",
          "data": {
            "text/plain": [
              "   Area  Indiranagar  Jayanagar  Koramangala\n",
              "0  2600            0          0            1"
            ],
            "text/html": [
              "\n",
              "  <div id=\"df-f639bb55-ac54-42ae-8e5a-10c262a8a90f\">\n",
              "    <div class=\"colab-df-container\">\n",
              "      <div>\n",
              "<style scoped>\n",
              "    .dataframe tbody tr th:only-of-type {\n",
              "        vertical-align: middle;\n",
              "    }\n",
              "\n",
              "    .dataframe tbody tr th {\n",
              "        vertical-align: top;\n",
              "    }\n",
              "\n",
              "    .dataframe thead th {\n",
              "        text-align: right;\n",
              "    }\n",
              "</style>\n",
              "<table border=\"1\" class=\"dataframe\">\n",
              "  <thead>\n",
              "    <tr style=\"text-align: right;\">\n",
              "      <th></th>\n",
              "      <th>Area</th>\n",
              "      <th>Indiranagar</th>\n",
              "      <th>Jayanagar</th>\n",
              "      <th>Koramangala</th>\n",
              "    </tr>\n",
              "  </thead>\n",
              "  <tbody>\n",
              "    <tr>\n",
              "      <th>0</th>\n",
              "      <td>2600</td>\n",
              "      <td>0</td>\n",
              "      <td>0</td>\n",
              "      <td>1</td>\n",
              "    </tr>\n",
              "  </tbody>\n",
              "</table>\n",
              "</div>\n",
              "      <button class=\"colab-df-convert\" onclick=\"convertToInteractive('df-f639bb55-ac54-42ae-8e5a-10c262a8a90f')\"\n",
              "              title=\"Convert this dataframe to an interactive table.\"\n",
              "              style=\"display:none;\">\n",
              "        \n",
              "  <svg xmlns=\"http://www.w3.org/2000/svg\" height=\"24px\"viewBox=\"0 0 24 24\"\n",
              "       width=\"24px\">\n",
              "    <path d=\"M0 0h24v24H0V0z\" fill=\"none\"/>\n",
              "    <path d=\"M18.56 5.44l.94 2.06.94-2.06 2.06-.94-2.06-.94-.94-2.06-.94 2.06-2.06.94zm-11 1L8.5 8.5l.94-2.06 2.06-.94-2.06-.94L8.5 2.5l-.94 2.06-2.06.94zm10 10l.94 2.06.94-2.06 2.06-.94-2.06-.94-.94-2.06-.94 2.06-2.06.94z\"/><path d=\"M17.41 7.96l-1.37-1.37c-.4-.4-.92-.59-1.43-.59-.52 0-1.04.2-1.43.59L10.3 9.45l-7.72 7.72c-.78.78-.78 2.05 0 2.83L4 21.41c.39.39.9.59 1.41.59.51 0 1.02-.2 1.41-.59l7.78-7.78 2.81-2.81c.8-.78.8-2.07 0-2.86zM5.41 20L4 18.59l7.72-7.72 1.47 1.35L5.41 20z\"/>\n",
              "  </svg>\n",
              "      </button>\n",
              "      \n",
              "  <style>\n",
              "    .colab-df-container {\n",
              "      display:flex;\n",
              "      flex-wrap:wrap;\n",
              "      gap: 12px;\n",
              "    }\n",
              "\n",
              "    .colab-df-convert {\n",
              "      background-color: #E8F0FE;\n",
              "      border: none;\n",
              "      border-radius: 50%;\n",
              "      cursor: pointer;\n",
              "      display: none;\n",
              "      fill: #1967D2;\n",
              "      height: 32px;\n",
              "      padding: 0 0 0 0;\n",
              "      width: 32px;\n",
              "    }\n",
              "\n",
              "    .colab-df-convert:hover {\n",
              "      background-color: #E2EBFA;\n",
              "      box-shadow: 0px 1px 2px rgba(60, 64, 67, 0.3), 0px 1px 3px 1px rgba(60, 64, 67, 0.15);\n",
              "      fill: #174EA6;\n",
              "    }\n",
              "\n",
              "    [theme=dark] .colab-df-convert {\n",
              "      background-color: #3B4455;\n",
              "      fill: #D2E3FC;\n",
              "    }\n",
              "\n",
              "    [theme=dark] .colab-df-convert:hover {\n",
              "      background-color: #434B5C;\n",
              "      box-shadow: 0px 1px 3px 1px rgba(0, 0, 0, 0.15);\n",
              "      filter: drop-shadow(0px 1px 2px rgba(0, 0, 0, 0.3));\n",
              "      fill: #FFFFFF;\n",
              "    }\n",
              "  </style>\n",
              "\n",
              "      <script>\n",
              "        const buttonEl =\n",
              "          document.querySelector('#df-f639bb55-ac54-42ae-8e5a-10c262a8a90f button.colab-df-convert');\n",
              "        buttonEl.style.display =\n",
              "          google.colab.kernel.accessAllowed ? 'block' : 'none';\n",
              "\n",
              "        async function convertToInteractive(key) {\n",
              "          const element = document.querySelector('#df-f639bb55-ac54-42ae-8e5a-10c262a8a90f');\n",
              "          const dataTable =\n",
              "            await google.colab.kernel.invokeFunction('convertToInteractive',\n",
              "                                                     [key], {});\n",
              "          if (!dataTable) return;\n",
              "\n",
              "          const docLinkHtml = 'Like what you see? Visit the ' +\n",
              "            '<a target=\"_blank\" href=https://colab.research.google.com/notebooks/data_table.ipynb>data table notebook</a>'\n",
              "            + ' to learn more about interactive tables.';\n",
              "          element.innerHTML = '';\n",
              "          dataTable['output_type'] = 'display_data';\n",
              "          await google.colab.output.renderOutput(dataTable, element);\n",
              "          const docLink = document.createElement('div');\n",
              "          docLink.innerHTML = docLinkHtml;\n",
              "          element.appendChild(docLink);\n",
              "        }\n",
              "      </script>\n",
              "    </div>\n",
              "  </div>\n",
              "  "
            ]
          },
          "metadata": {},
          "execution_count": 38
        }
      ]
    },
    {
      "cell_type": "code",
      "source": [
        "df_dummies.drop('Koramangala', axis='columns', inplace=True)"
      ],
      "metadata": {
        "id": "jSb8GEyaVw0e"
      },
      "execution_count": null,
      "outputs": []
    },
    {
      "cell_type": "code",
      "source": [
        "df_dummies.columns"
      ],
      "metadata": {
        "colab": {
          "base_uri": "https://localhost:8080/"
        },
        "id": "vgjdmZ9OWAWg",
        "outputId": "7102d055-1ec9-44d4-cb08-22f57545e547"
      },
      "execution_count": null,
      "outputs": [
        {
          "output_type": "execute_result",
          "data": {
            "text/plain": [
              "Index(['Town', 'Area', 'Price', 'Indiranagar', 'Jayanagar'], dtype='object')"
            ]
          },
          "metadata": {},
          "execution_count": 40
        }
      ]
    },
    {
      "cell_type": "code",
      "source": [
        "X = df_dummies.drop(['Town','Price'], axis='columns')\n",
        "y = df['Price']"
      ],
      "metadata": {
        "id": "SLZwf81SWFxu"
      },
      "execution_count": null,
      "outputs": []
    },
    {
      "cell_type": "code",
      "source": [
        "model.fit(X,y)"
      ],
      "metadata": {
        "colab": {
          "base_uri": "https://localhost:8080/"
        },
        "id": "SWnoI_2dWg2X",
        "outputId": "6e14dc21-84a6-4a2a-928e-014a710de848"
      },
      "execution_count": null,
      "outputs": [
        {
          "output_type": "execute_result",
          "data": {
            "text/plain": [
              "LinearRegression()"
            ]
          },
          "metadata": {},
          "execution_count": 42
        }
      ]
    },
    {
      "cell_type": "code",
      "source": [
        "model.score(X,y)"
      ],
      "metadata": {
        "colab": {
          "base_uri": "https://localhost:8080/"
        },
        "id": "8QZopq7QWkxJ",
        "outputId": "8aa75386-e652-4e80-f319-a299f2d71510"
      },
      "execution_count": null,
      "outputs": [
        {
          "output_type": "execute_result",
          "data": {
            "text/plain": [
              "0.9573929037221872"
            ]
          },
          "metadata": {},
          "execution_count": 43
        }
      ]
    },
    {
      "cell_type": "code",
      "source": [
        "model.predict([[2600,0,0],[2600,0,1],[2600,1,0]])"
      ],
      "metadata": {
        "colab": {
          "base_uri": "https://localhost:8080/"
        },
        "id": "39o-J78UWnlN",
        "outputId": "2428cf20-6e2b-4f6d-bbef-94efdd69b1f2"
      },
      "execution_count": null,
      "outputs": [
        {
          "output_type": "stream",
          "name": "stderr",
          "text": [
            "/usr/local/lib/python3.7/dist-packages/sklearn/base.py:451: UserWarning: X does not have valid feature names, but LinearRegression was fitted with feature names\n",
            "  \"X does not have valid feature names, but\"\n"
          ]
        },
        {
          "output_type": "execute_result",
          "data": {
            "text/plain": [
              "array([539709.7398409 , 579723.71533004, 565396.1513653 ])"
            ]
          },
          "metadata": {},
          "execution_count": 44
        }
      ]
    },
    {
      "cell_type": "code",
      "source": [
        "#Labeencoder\n",
        "le = LabelEncoder()\n",
        "df['town_no'] = le.fit_transform(df['Town'])\n",
        "df"
      ],
      "metadata": {
        "colab": {
          "base_uri": "https://localhost:8080/",
          "height": 457
        },
        "id": "_N0PG0EEXyDp",
        "outputId": "f17f34c6-9015-4b37-a8a5-1150dc37969a"
      },
      "execution_count": null,
      "outputs": [
        {
          "output_type": "execute_result",
          "data": {
            "text/plain": [
              "           Town  Area   Price  town_no\n",
              "0   Koramangala  2600  550000        2\n",
              "1   Koramangala  3000  565000        2\n",
              "2   Koramangala  3200  610000        2\n",
              "3   Koramangala  3600  680000        2\n",
              "4   Koramangala  4000  725000        2\n",
              "5     Jayanagar  2600  585000        1\n",
              "6     Jayanagar  2800  615000        1\n",
              "7     Jayanagar  3300  650000        1\n",
              "8     Jayanagar  3600  710000        1\n",
              "9   Indiranagar  2600  575000        0\n",
              "10  Indiranagar  2900  600000        0\n",
              "11  Indiranagar  3100  620000        0\n",
              "12  Indiranagar  3600  695000        0"
            ],
            "text/html": [
              "\n",
              "  <div id=\"df-5c1ee7c9-437a-4236-adc9-84e00cccfd53\">\n",
              "    <div class=\"colab-df-container\">\n",
              "      <div>\n",
              "<style scoped>\n",
              "    .dataframe tbody tr th:only-of-type {\n",
              "        vertical-align: middle;\n",
              "    }\n",
              "\n",
              "    .dataframe tbody tr th {\n",
              "        vertical-align: top;\n",
              "    }\n",
              "\n",
              "    .dataframe thead th {\n",
              "        text-align: right;\n",
              "    }\n",
              "</style>\n",
              "<table border=\"1\" class=\"dataframe\">\n",
              "  <thead>\n",
              "    <tr style=\"text-align: right;\">\n",
              "      <th></th>\n",
              "      <th>Town</th>\n",
              "      <th>Area</th>\n",
              "      <th>Price</th>\n",
              "      <th>town_no</th>\n",
              "    </tr>\n",
              "  </thead>\n",
              "  <tbody>\n",
              "    <tr>\n",
              "      <th>0</th>\n",
              "      <td>Koramangala</td>\n",
              "      <td>2600</td>\n",
              "      <td>550000</td>\n",
              "      <td>2</td>\n",
              "    </tr>\n",
              "    <tr>\n",
              "      <th>1</th>\n",
              "      <td>Koramangala</td>\n",
              "      <td>3000</td>\n",
              "      <td>565000</td>\n",
              "      <td>2</td>\n",
              "    </tr>\n",
              "    <tr>\n",
              "      <th>2</th>\n",
              "      <td>Koramangala</td>\n",
              "      <td>3200</td>\n",
              "      <td>610000</td>\n",
              "      <td>2</td>\n",
              "    </tr>\n",
              "    <tr>\n",
              "      <th>3</th>\n",
              "      <td>Koramangala</td>\n",
              "      <td>3600</td>\n",
              "      <td>680000</td>\n",
              "      <td>2</td>\n",
              "    </tr>\n",
              "    <tr>\n",
              "      <th>4</th>\n",
              "      <td>Koramangala</td>\n",
              "      <td>4000</td>\n",
              "      <td>725000</td>\n",
              "      <td>2</td>\n",
              "    </tr>\n",
              "    <tr>\n",
              "      <th>5</th>\n",
              "      <td>Jayanagar</td>\n",
              "      <td>2600</td>\n",
              "      <td>585000</td>\n",
              "      <td>1</td>\n",
              "    </tr>\n",
              "    <tr>\n",
              "      <th>6</th>\n",
              "      <td>Jayanagar</td>\n",
              "      <td>2800</td>\n",
              "      <td>615000</td>\n",
              "      <td>1</td>\n",
              "    </tr>\n",
              "    <tr>\n",
              "      <th>7</th>\n",
              "      <td>Jayanagar</td>\n",
              "      <td>3300</td>\n",
              "      <td>650000</td>\n",
              "      <td>1</td>\n",
              "    </tr>\n",
              "    <tr>\n",
              "      <th>8</th>\n",
              "      <td>Jayanagar</td>\n",
              "      <td>3600</td>\n",
              "      <td>710000</td>\n",
              "      <td>1</td>\n",
              "    </tr>\n",
              "    <tr>\n",
              "      <th>9</th>\n",
              "      <td>Indiranagar</td>\n",
              "      <td>2600</td>\n",
              "      <td>575000</td>\n",
              "      <td>0</td>\n",
              "    </tr>\n",
              "    <tr>\n",
              "      <th>10</th>\n",
              "      <td>Indiranagar</td>\n",
              "      <td>2900</td>\n",
              "      <td>600000</td>\n",
              "      <td>0</td>\n",
              "    </tr>\n",
              "    <tr>\n",
              "      <th>11</th>\n",
              "      <td>Indiranagar</td>\n",
              "      <td>3100</td>\n",
              "      <td>620000</td>\n",
              "      <td>0</td>\n",
              "    </tr>\n",
              "    <tr>\n",
              "      <th>12</th>\n",
              "      <td>Indiranagar</td>\n",
              "      <td>3600</td>\n",
              "      <td>695000</td>\n",
              "      <td>0</td>\n",
              "    </tr>\n",
              "  </tbody>\n",
              "</table>\n",
              "</div>\n",
              "      <button class=\"colab-df-convert\" onclick=\"convertToInteractive('df-5c1ee7c9-437a-4236-adc9-84e00cccfd53')\"\n",
              "              title=\"Convert this dataframe to an interactive table.\"\n",
              "              style=\"display:none;\">\n",
              "        \n",
              "  <svg xmlns=\"http://www.w3.org/2000/svg\" height=\"24px\"viewBox=\"0 0 24 24\"\n",
              "       width=\"24px\">\n",
              "    <path d=\"M0 0h24v24H0V0z\" fill=\"none\"/>\n",
              "    <path d=\"M18.56 5.44l.94 2.06.94-2.06 2.06-.94-2.06-.94-.94-2.06-.94 2.06-2.06.94zm-11 1L8.5 8.5l.94-2.06 2.06-.94-2.06-.94L8.5 2.5l-.94 2.06-2.06.94zm10 10l.94 2.06.94-2.06 2.06-.94-2.06-.94-.94-2.06-.94 2.06-2.06.94z\"/><path d=\"M17.41 7.96l-1.37-1.37c-.4-.4-.92-.59-1.43-.59-.52 0-1.04.2-1.43.59L10.3 9.45l-7.72 7.72c-.78.78-.78 2.05 0 2.83L4 21.41c.39.39.9.59 1.41.59.51 0 1.02-.2 1.41-.59l7.78-7.78 2.81-2.81c.8-.78.8-2.07 0-2.86zM5.41 20L4 18.59l7.72-7.72 1.47 1.35L5.41 20z\"/>\n",
              "  </svg>\n",
              "      </button>\n",
              "      \n",
              "  <style>\n",
              "    .colab-df-container {\n",
              "      display:flex;\n",
              "      flex-wrap:wrap;\n",
              "      gap: 12px;\n",
              "    }\n",
              "\n",
              "    .colab-df-convert {\n",
              "      background-color: #E8F0FE;\n",
              "      border: none;\n",
              "      border-radius: 50%;\n",
              "      cursor: pointer;\n",
              "      display: none;\n",
              "      fill: #1967D2;\n",
              "      height: 32px;\n",
              "      padding: 0 0 0 0;\n",
              "      width: 32px;\n",
              "    }\n",
              "\n",
              "    .colab-df-convert:hover {\n",
              "      background-color: #E2EBFA;\n",
              "      box-shadow: 0px 1px 2px rgba(60, 64, 67, 0.3), 0px 1px 3px 1px rgba(60, 64, 67, 0.15);\n",
              "      fill: #174EA6;\n",
              "    }\n",
              "\n",
              "    [theme=dark] .colab-df-convert {\n",
              "      background-color: #3B4455;\n",
              "      fill: #D2E3FC;\n",
              "    }\n",
              "\n",
              "    [theme=dark] .colab-df-convert:hover {\n",
              "      background-color: #434B5C;\n",
              "      box-shadow: 0px 1px 3px 1px rgba(0, 0, 0, 0.15);\n",
              "      filter: drop-shadow(0px 1px 2px rgba(0, 0, 0, 0.3));\n",
              "      fill: #FFFFFF;\n",
              "    }\n",
              "  </style>\n",
              "\n",
              "      <script>\n",
              "        const buttonEl =\n",
              "          document.querySelector('#df-5c1ee7c9-437a-4236-adc9-84e00cccfd53 button.colab-df-convert');\n",
              "        buttonEl.style.display =\n",
              "          google.colab.kernel.accessAllowed ? 'block' : 'none';\n",
              "\n",
              "        async function convertToInteractive(key) {\n",
              "          const element = document.querySelector('#df-5c1ee7c9-437a-4236-adc9-84e00cccfd53');\n",
              "          const dataTable =\n",
              "            await google.colab.kernel.invokeFunction('convertToInteractive',\n",
              "                                                     [key], {});\n",
              "          if (!dataTable) return;\n",
              "\n",
              "          const docLinkHtml = 'Like what you see? Visit the ' +\n",
              "            '<a target=\"_blank\" href=https://colab.research.google.com/notebooks/data_table.ipynb>data table notebook</a>'\n",
              "            + ' to learn more about interactive tables.';\n",
              "          element.innerHTML = '';\n",
              "          dataTable['output_type'] = 'display_data';\n",
              "          await google.colab.output.renderOutput(dataTable, element);\n",
              "          const docLink = document.createElement('div');\n",
              "          docLink.innerHTML = docLinkHtml;\n",
              "          element.appendChild(docLink);\n",
              "        }\n",
              "      </script>\n",
              "    </div>\n",
              "  </div>\n",
              "  "
            ]
          },
          "metadata": {},
          "execution_count": 47
        }
      ]
    },
    {
      "cell_type": "code",
      "source": [
        "#model training\n",
        "model.fit(df[['Area','town_no']], df['Price'])"
      ],
      "metadata": {
        "colab": {
          "base_uri": "https://localhost:8080/"
        },
        "id": "L_CEpSvdYUeF",
        "outputId": "fcb36bf5-cbb4-468b-dd21-dc07e6c79345"
      },
      "execution_count": null,
      "outputs": [
        {
          "output_type": "execute_result",
          "data": {
            "text/plain": [
              "LinearRegression()"
            ]
          },
          "metadata": {},
          "execution_count": 48
        }
      ]
    },
    {
      "cell_type": "code",
      "source": [
        "#Prediction\n",
        "model.predict([[2600,2],[2660,1],[2600,0]])"
      ],
      "metadata": {
        "colab": {
          "base_uri": "https://localhost:8080/"
        },
        "id": "HWeMjdv1Yl45",
        "outputId": "d6a413e5-6352-4e90-f53f-43ac048254ea"
      },
      "execution_count": null,
      "outputs": [
        {
          "output_type": "stream",
          "name": "stderr",
          "text": [
            "/usr/local/lib/python3.7/dist-packages/sklearn/base.py:451: UserWarning: X does not have valid feature names, but LinearRegression was fitted with feature names\n",
            "  \"X does not have valid feature names, but\"\n"
          ]
        },
        {
          "output_type": "execute_result",
          "data": {
            "text/plain": [
              "array([549087.57114008, 569969.81824858, 575969.15733431])"
            ]
          },
          "metadata": {},
          "execution_count": 49
        }
      ]
    },
    {
      "cell_type": "code",
      "source": [
        "X = df[['Area','town_no']]\n",
        "y = df['Price']"
      ],
      "metadata": {
        "id": "0gZo44dUZDKz"
      },
      "execution_count": null,
      "outputs": []
    },
    {
      "cell_type": "code",
      "source": [
        "model.score(X,y)"
      ],
      "metadata": {
        "colab": {
          "base_uri": "https://localhost:8080/"
        },
        "id": "yVsPJFJHY5s_",
        "outputId": "037ff0e5-b1a6-48d4-9228-0ac65b897f59"
      },
      "execution_count": null,
      "outputs": [
        {
          "output_type": "execute_result",
          "data": {
            "text/plain": [
              "0.9067640212781202"
            ]
          },
          "metadata": {},
          "execution_count": 52
        }
      ]
    }
  ]
}