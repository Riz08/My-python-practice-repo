{
  "nbformat": 4,
  "nbformat_minor": 0,
  "metadata": {
    "colab": {
      "name": "Regular Expression.ipynb",
      "provenance": [],
      "authorship_tag": "ABX9TyO3y75w8l12Yo1sV4tihYg3",
      "include_colab_link": true
    },
    "kernelspec": {
      "name": "python3",
      "display_name": "Python 3"
    },
    "language_info": {
      "name": "python"
    }
  },
  "cells": [
    {
      "cell_type": "markdown",
      "metadata": {
        "id": "view-in-github",
        "colab_type": "text"
      },
      "source": [
        "<a href=\"https://colab.research.google.com/github/Riz08/My-python-practice-repo/blob/main/Regular_Expression.ipynb\" target=\"_parent\"><img src=\"https://colab.research.google.com/assets/colab-badge.svg\" alt=\"Open In Colab\"/></a>"
      ]
    },
    {
      "cell_type": "code",
      "execution_count": 5,
      "metadata": {
        "colab": {
          "base_uri": "https://localhost:8080/"
        },
        "id": "yZ6e6iHnmgqF",
        "outputId": "e1d09e01-1bf0-488c-b43b-949731a17195"
      },
      "outputs": [
        {
          "output_type": "stream",
          "name": "stdout",
          "text": [
            "There has been a great consiquence finalncially in the whole world due to the COVID epedemic begins with The\n"
          ]
        }
      ],
      "source": [
        "##why regular expression is needed\n",
        "#to find and search data required from mass data\n",
        "#match function -#it only takes the first string\n",
        "#search function #it takes any string that is in the data\n",
        "#findall function\n",
        "#finditer function\n",
        "#pattern matching function\n",
        "#mera character function\n",
        "\n",
        "import re\n",
        "\n",
        "data=\"There has been a great consiquence finalncially in the whole world due to the COVID epedemic\"\n",
        "\n",
        "pattern=\"The\"\n",
        "res=re.match(pattern,data) \n",
        "if res==None:\n",
        "   print(f'{data} does not begin with {pattern}')\n",
        "else:\n",
        "  print(f'{data} begins with {pattern}')\n"
      ]
    },
    {
      "cell_type": "code",
      "source": [
        "import re\n",
        "\n",
        "data=\"There has been a  great downfall finalncially in the whole world during COVID epedemic due to COVID-19 virus\"\n",
        "\n",
        "pattern=\"COVID\" \n",
        "res=re.search(pattern,data)\n",
        "if res==None:\n",
        "   print(f'{data} does not have the word {pattern}')\n",
        "else:\n",
        "  print(f'{data} has the word {pattern}')\n",
        "  print(type(res))\n",
        "  print(data[res.start():res.end()])\n",
        "  print(res.end())  #pattern length\n",
        "  print(res.endpos) #data length\n",
        "  print(res.span()) #gives the start and end index position of the searched text\n",
        "  print(res.group())\n"
      ],
      "metadata": {
        "colab": {
          "base_uri": "https://localhost:8080/"
        },
        "id": "P8jVmQoNo3af",
        "outputId": "bc52aec7-b3e2-4d6a-a56a-12f932a13819"
      },
      "execution_count": 37,
      "outputs": [
        {
          "output_type": "stream",
          "name": "stdout",
          "text": [
            "There has been a  great downfall finalncially in the whole world during COVID epedemic due to COVID-19 virus has the word COVID\n",
            "<class 're.Match'>\n",
            "COVID\n",
            "77\n",
            "108\n",
            "(72, 77)\n",
            "COVID\n"
          ]
        }
      ]
    },
    {
      "cell_type": "code",
      "source": [
        "#findall function(for samll text data) and finditer function data(this is used for mass data values as faster)\n",
        "\n",
        "import re\n",
        "data=\"kjdshfsdufeioisdfknmölzspasdesopfjsdnfkj\"\n",
        "pattern=\"[aeiou]\"\n",
        "res=re.findall(pattern,data)\n",
        "print(res)\n",
        "print(type(res))\n",
        "\n",
        "res=re.finditer(pattern,data)\n",
        "for i in res:\n",
        "  print(i.group(),i.start())\n",
        "\n",
        "\n",
        "\n",
        "\n",
        "\n",
        "\n",
        "\n",
        "\n",
        "\n",
        "\n"
      ],
      "metadata": {
        "colab": {
          "base_uri": "https://localhost:8080/"
        },
        "id": "MxfwqifrvVUP",
        "outputId": "db285f99-e573-471c-fc8a-98d7753780ac"
      },
      "execution_count": 62,
      "outputs": [
        {
          "output_type": "stream",
          "name": "stdout",
          "text": [
            "['u', 'e', 'i', 'o', 'i', 'a', 'e', 'o']\n",
            "<class 'list'>\n",
            "u 8\n",
            "e 10\n",
            "i 11\n",
            "o 12\n",
            "i 13\n",
            "a 25\n",
            "e 28\n",
            "o 30\n"
          ]
        }
      ]
    },
    {
      "cell_type": "code",
      "source": [
        "import re\n",
        "\n",
        "data=\"There has been a  great downfall finalncially in the whole world due to the COVID epedemic due to COVID-19 virus\"\n",
        "\n",
        "pattern=\"CO..D\" \n",
        "res=re.findall(pattern,data)\n",
        "print(res)\n",
        "\n",
        "pattern=\"CO.*9\" \n",
        "res=re.findall(pattern,data)\n",
        "print(res)\n",
        "\n",
        "pattern=\"CO.{2}D\" \n",
        "res=re.findall(pattern,data)\n",
        "print(res)"
      ],
      "metadata": {
        "colab": {
          "base_uri": "https://localhost:8080/"
        },
        "id": "yRMnB3aWq8VY",
        "outputId": "2685583d-b8af-4dfc-bbb4-375035dcb43a"
      },
      "execution_count": 24,
      "outputs": [
        {
          "output_type": "stream",
          "name": "stdout",
          "text": [
            "['COVID', 'COVID']\n",
            "['COVID epedemic due to COVID-19']\n",
            "['COVID', 'COVID']\n"
          ]
        }
      ]
    },
    {
      "cell_type": "code",
      "source": [
        ""
      ],
      "metadata": {
        "id": "TjJGOYb7sJLO"
      },
      "execution_count": null,
      "outputs": []
    }
  ]
}