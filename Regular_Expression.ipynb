{
  "nbformat": 4,
  "nbformat_minor": 0,
  "metadata": {
    "colab": {
      "name": "Regular Expression.ipynb",
      "provenance": [],
      "collapsed_sections": [],
      "authorship_tag": "ABX9TyPhaGN9fkB3zo5pHip7AEV+",
      "include_colab_link": true
    },
    "kernelspec": {
      "name": "python3",
      "display_name": "Python 3"
    },
    "language_info": {
      "name": "python"
    }
  },
  "cells": [
    {
      "cell_type": "markdown",
      "metadata": {
        "id": "view-in-github",
        "colab_type": "text"
      },
      "source": [
        "<a href=\"https://colab.research.google.com/github/Riz08/My-python-practice-repo/blob/main/Regular_Expression.ipynb\" target=\"_parent\"><img src=\"https://colab.research.google.com/assets/colab-badge.svg\" alt=\"Open In Colab\"/></a>"
      ]
    },
    {
      "cell_type": "code",
      "execution_count": 106,
      "metadata": {
        "colab": {
          "base_uri": "https://localhost:8080/"
        },
        "id": "yZ6e6iHnmgqF",
        "outputId": "e4ed949b-668c-4a01-e6e6-9544cb4917f5"
      },
      "outputs": [
        {
          "output_type": "stream",
          "name": "stdout",
          "text": [
            "There has been a great consiquence finalncially in the whole world due to the COVID epedemic begins with The\n"
          ]
        }
      ],
      "source": [
        "##why regular expression is needed\n",
        "#to find and search data required from mass data\n",
        "#match function -#it only takes the first string\n",
        "#search function #it takes any string that is in the data\n",
        "#findall function\n",
        "#finditer function\n",
        "#pattern matching function\n",
        "#mera character function\n",
        "\n",
        "import re\n",
        "\n",
        "data=\"There has been a great consiquence finalncially in the whole world due to the COVID epedemic\"\n",
        "\n",
        "pattern=\"The\"\n",
        "res=re.match(pattern,data) \n",
        "if res==None:\n",
        "   print(f'{data} does not begin with {pattern}')\n",
        "else:\n",
        "  print(f'{data} begins with {pattern}')\n"
      ]
    },
    {
      "cell_type": "code",
      "source": [
        "import re\n",
        "\n",
        "data=\"There has been a  great downfall finalncially in the whole world during COVID epedemic due to COVID-19 virus\"\n",
        "\n",
        "pattern=\"COVID\" \n",
        "res=re.search(pattern,data)\n",
        "if res==None:\n",
        "   print(f'{data} does not have the word {pattern}')\n",
        "else:\n",
        "  print(f'{data} has the word {pattern}')\n",
        "  print(type(res))\n",
        "  print(data[res.start():res.end()])\n",
        "  print(res.end())  #pattern length\n",
        "  print(res.endpos) #data length\n",
        "  print(res.span()) #gives the start and end index position of the searched text\n",
        "  print(res.group())\n"
      ],
      "metadata": {
        "colab": {
          "base_uri": "https://localhost:8080/"
        },
        "id": "P8jVmQoNo3af",
        "outputId": "80dc66d7-6a10-4ae5-c3b0-47d2a2eba4fa"
      },
      "execution_count": 107,
      "outputs": [
        {
          "output_type": "stream",
          "name": "stdout",
          "text": [
            "There has been a  great downfall finalncially in the whole world during COVID epedemic due to COVID-19 virus has the word COVID\n",
            "<class 're.Match'>\n",
            "COVID\n",
            "77\n",
            "108\n",
            "(72, 77)\n",
            "COVID\n"
          ]
        }
      ]
    },
    {
      "cell_type": "code",
      "source": [
        "#findall function(for samll text data) and finditer function data(this is used for mass data values as faster)\n",
        "#findall brings a list and finditer brings a group\n",
        "\n",
        "import re\n",
        "data=\"kjdshfsdufeioisdfknmölzspasdesopfjsdnfkj\"\n",
        "pattern=\"[aeiou]\"\n",
        "res=re.findall(pattern,data)\n",
        "print(res)\n",
        "print(type(res))\n",
        "\n",
        "res=re.finditer(pattern,data)\n",
        "for i in res:\n",
        "  print(i.group(),i.start(),i.end(),i.span(),i.group(),i.endpos)"
      ],
      "metadata": {
        "colab": {
          "base_uri": "https://localhost:8080/"
        },
        "id": "MxfwqifrvVUP",
        "outputId": "ef8d32f0-5dd1-4ed7-ecea-f8782d23a348"
      },
      "execution_count": 108,
      "outputs": [
        {
          "output_type": "stream",
          "name": "stdout",
          "text": [
            "['u', 'e', 'i', 'o', 'i', 'a', 'e', 'o']\n",
            "<class 'list'>\n",
            "u 8 9 (8, 9) u 40\n",
            "e 10 11 (10, 11) e 40\n",
            "i 11 12 (11, 12) i 40\n",
            "o 12 13 (12, 13) o 40\n",
            "i 13 14 (13, 14) i 40\n",
            "a 25 26 (25, 26) a 40\n",
            "e 28 29 (28, 29) e 40\n",
            "o 30 31 (30, 31) o 40\n"
          ]
        }
      ]
    },
    {
      "cell_type": "code",
      "source": [
        "import re\n",
        "\n",
        "data=\"There has been a  great downfall finalncially in the whole world due to the COVID epedemic due to COVID-19 virus\"\n",
        "\n",
        "pattern=\"CO..D\" \n",
        "res=re.findall(pattern,data)\n",
        "print(res)\n",
        "\n",
        "pattern=\"CO.*9\" \n",
        "res=re.findall(pattern,data)\n",
        "print(res)\n",
        "\n",
        "pattern=\"CO.{2}D\" \n",
        "res=re.findall(pattern,data)\n",
        "print(res)"
      ],
      "metadata": {
        "colab": {
          "base_uri": "https://localhost:8080/"
        },
        "id": "yRMnB3aWq8VY",
        "outputId": "37572bbc-7a62-4191-9ad6-4a073eabe25d"
      },
      "execution_count": 109,
      "outputs": [
        {
          "output_type": "stream",
          "name": "stdout",
          "text": [
            "['COVID', 'COVID']\n",
            "['COVID epedemic due to COVID-19']\n",
            "['COVID', 'COVID']\n"
          ]
        }
      ]
    },
    {
      "cell_type": "code",
      "source": [
        "import re\n",
        "data=\"kjdsh8fsd4ufeioisdf1k3nmöl6zsp9asdesopfjsdnfkj\"\n",
        "pattern=\"[0-9]\"\n",
        "res=re.findall(pattern,data)\n",
        "print(res)\n",
        "print(type(res))\n",
        "\n",
        "res=re.finditer(pattern,data)\n",
        "for i in res:\n",
        "  print(i.group(),i.start(),i.end(),i.span(),i.group(),i.endpos)"
      ],
      "metadata": {
        "colab": {
          "base_uri": "https://localhost:8080/"
        },
        "id": "TjJGOYb7sJLO",
        "outputId": "5725f0f4-5e6e-416f-af43-40d6cedd58fd"
      },
      "execution_count": 110,
      "outputs": [
        {
          "output_type": "stream",
          "name": "stdout",
          "text": [
            "['8', '4', '1', '3', '6', '9']\n",
            "<class 'list'>\n",
            "8 5 6 (5, 6) 8 46\n",
            "4 9 10 (9, 10) 4 46\n",
            "1 19 20 (19, 20) 1 46\n",
            "3 21 22 (21, 22) 3 46\n",
            "6 26 27 (26, 27) 6 46\n",
            "9 30 31 (30, 31) 9 46\n"
          ]
        }
      ]
    },
    {
      "cell_type": "code",
      "source": [
        "#patternmatching #+ is used to seperaete them between spaces and conditions\n",
        "\n",
        "data=\"2008332030Riza BIN Taher\"\n",
        "\n",
        "pattern= \"\\d\" #only extracts digits\n",
        "print(re.findall(pattern,data))\n",
        "\n",
        "pattern= \"\\D\" #eliminates all digits\n",
        "print(re.findall(pattern,data))\n",
        "\n",
        "data=\"The cost of the Product is 324.99 £ for 3_pieces\"\n",
        "\n",
        "pattern=\"\\s+\"  #only take space \n",
        "res=re.finditer(pattern,data)\n",
        "for i in res:\n",
        "  print(i.group())\n",
        "\n",
        "pattern=\"\\S+\"  #only takes strings and numbers sperated by  space\n",
        "print(re.findall(pattern,data))\n",
        "\n",
        "\n",
        "pattern=\"\\S*\"  #shows list of strings and numbers also  space\n",
        "print(re.findall(pattern,data))\n",
        "\n",
        "\n",
        "pattern=\"\\D*\"  #shows the strings and eliminates digits\n",
        "print(re.findall(pattern,data))\n",
        "\n",
        "pattern=\"\\d*\"  #shows the numbers and eliminates strings\n",
        "print(re.findall(pattern,data))"
      ],
      "metadata": {
        "colab": {
          "base_uri": "https://localhost:8080/"
        },
        "id": "CiZukk612HLh",
        "outputId": "b882cf11-6273-4c61-9863-f6c8b0ca7e13"
      },
      "execution_count": 111,
      "outputs": [
        {
          "output_type": "stream",
          "name": "stdout",
          "text": [
            "['2', '0', '0', '8', '3', '3', '2', '0', '3', '0']\n",
            "['R', 'i', 'z', 'a', ' ', 'B', 'I', 'N', ' ', 'T', 'a', 'h', 'e', 'r']\n",
            " \n",
            " \n",
            " \n",
            " \n",
            " \n",
            " \n",
            " \n",
            " \n",
            " \n",
            "['The', 'cost', 'of', 'the', 'Product', 'is', '324.99', '£', 'for', '3_pieces']\n",
            "['The', '', 'cost', '', 'of', '', 'the', '', 'Product', '', 'is', '', '324.99', '', '£', '', 'for', '', '3_pieces', '']\n",
            "['The cost of the Product is ', '', '', '', '.', '', '', ' £ for ', '', '_pieces', '']\n",
            "['', '', '', '', '', '', '', '', '', '', '', '', '', '', '', '', '', '', '', '', '', '', '', '', '', '', '', '324', '', '99', '', '', '', '', '', '', '', '3', '', '', '', '', '', '', '', '']\n"
          ]
        }
      ]
    },
    {
      "cell_type": "code",
      "source": [
        "data=\"2008332030 Riza@ BIN@ Taher#£\"\n",
        "\n",
        "pattern= \"\\w+\" #eleminates speccial character\n",
        "print(re.findall(pattern,data))\n",
        "\n",
        "pattern= \"\\W\" #takes speccial character\n",
        "print(re.findall(pattern,data))\n",
        "\n",
        "pattern= \"[a-z]\" #takes speccial character\n",
        "print(re.findall(pattern,data))\n",
        "pattern= \"[A-Z]\" #takes speccial character\n",
        "print(re.findall(pattern,data))\n",
        "\n",
        "pattern= \"[a-zA-Z]+\" #takes speccial character\n",
        "print(re.findall(pattern,data))\n",
        "\n",
        "\n",
        "pattern= \"[$riza]+\" #takes speccial character\n",
        "print(re.findall(pattern,data))\n",
        "\n",
        "\n",
        "pattern= \"[^332]+\" #takes speccial character\n",
        "print(re.findall(pattern,data))\n"
      ],
      "metadata": {
        "colab": {
          "base_uri": "https://localhost:8080/"
        },
        "id": "kyVX3R4g5U-c",
        "outputId": "207a89ce-5d5b-4eeb-cf78-440ce6a3d2dd"
      },
      "execution_count": 125,
      "outputs": [
        {
          "output_type": "stream",
          "name": "stdout",
          "text": [
            "['2008332030', 'Riza', 'BIN', 'Taher']\n",
            "[' ', '@', ' ', '@', ' ', '#', '£']\n",
            "['i', 'z', 'a', 'a', 'h', 'e', 'r']\n",
            "['R', 'B', 'I', 'N', 'T']\n",
            "['Riza', 'BIN', 'Taher']\n",
            "['iza', 'a', 'r']\n",
            "['008', '0', '0 Riza@ BIN@ Taher#£']\n"
          ]
        }
      ]
    },
    {
      "cell_type": "code",
      "source": [
        ""
      ],
      "metadata": {
        "id": "kf_3h9yJCx2T"
      },
      "execution_count": 112,
      "outputs": []
    }
  ]
}