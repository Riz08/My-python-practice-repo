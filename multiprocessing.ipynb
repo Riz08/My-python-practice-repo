{
  "nbformat": 4,
  "nbformat_minor": 0,
  "metadata": {
    "colab": {
      "name": "multiprocessing.ipynb",
      "provenance": [],
      "authorship_tag": "ABX9TyOLz110obRrP2+FhWPbfMg7",
      "include_colab_link": true
    },
    "kernelspec": {
      "name": "python3",
      "display_name": "Python 3"
    },
    "language_info": {
      "name": "python"
    }
  },
  "cells": [
    {
      "cell_type": "markdown",
      "metadata": {
        "id": "view-in-github",
        "colab_type": "text"
      },
      "source": [
        "<a href=\"https://colab.research.google.com/github/Riz08/My-python-practice-repo/blob/main/multiprocessing.ipynb\" target=\"_parent\"><img src=\"https://colab.research.google.com/assets/colab-badge.svg\" alt=\"Open In Colab\"/></a>"
      ]
    },
    {
      "cell_type": "code",
      "execution_count": null,
      "metadata": {
        "colab": {
          "base_uri": "https://localhost:8080/"
        },
        "id": "JKx1AQwOsF1C",
        "outputId": "a255bcfc-4559-469b-a86d-e6988fdc439f"
      },
      "outputs": [
        {
          "output_type": "stream",
          "name": "stdout",
          "text": [
            "My name is Riza\n"
          ]
        }
      ],
      "source": [
        "# For multiprocessing first we create a process object and then calls a start method and join terminates the process\n",
        "#multiprocessing has 4 classes 1. process 2. lock 3. queue 4. Pool\n",
        "\n",
        "\n",
        "from multiprocessing import Process\n",
        "\n",
        "def display(name):\n",
        "    print(\"My name is\", name)\n",
        "if __name__==\"__main__\":\n",
        "   p=Process(target=display,args=(\"Riza\",))\n",
        "p.start()\n",
        "p.join()\n",
        "\n",
        "\n"
      ]
    },
    {
      "cell_type": "code",
      "source": [
        "from multiprocessing import Process\n",
        "import os ##operating system\n",
        "\n",
        "def info(title):\n",
        "  print (title)\n",
        "  print (\"module name \",__name__)\n",
        "  print (\"Parent processid :\",os.getppid())\n",
        "  print (\"Child processid :\",os.getpid())\n",
        "\n",
        "\n",
        "def f(name):\n",
        "  info (\"Function f\")\n",
        "  print (\"Hello\",name)\n",
        "\n",
        "\n",
        "if __name__==\"__main__\":\n",
        "  info (\"main\")\n",
        "p=Process(target=f,args=(\"Riza\",))\n",
        "p.start()\n",
        "p.join()"
      ],
      "metadata": {
        "colab": {
          "base_uri": "https://localhost:8080/"
        },
        "id": "kDEnHJ6Ktlf7",
        "outputId": "dd0e85fd-53e9-488b-adc9-97a81e354e8b"
      },
      "execution_count": null,
      "outputs": [
        {
          "output_type": "stream",
          "name": "stdout",
          "text": [
            "main\n",
            "module name  __main__\n",
            "Parent processid : 44\n",
            "Child processid : 62\n",
            "Function f\n",
            "module name  __main__\n",
            "Parent processid : 62\n",
            "Child processid : 427\n",
            "Hello Riza\n"
          ]
        }
      ]
    },
    {
      "cell_type": "code",
      "source": [
        "#spawning\n",
        "\n",
        "from multiprocessing import Process, Queue\n",
        "\n",
        "def myfunc(q):\n",
        "  q.put(\"Hello\") #put is used to put the data in process\n",
        "\n",
        "if __name__==\"__main__\":\n",
        "  q=mp.Queue()\n",
        "  p=mp.Process(target=myfunc,args=(q,))\n",
        "  p.start()\n",
        "  print(q.get()) #get is used to get the data to be printed\n",
        "  p.join()\n",
        "\n"
      ],
      "metadata": {
        "id": "IwAr0BgZxFIh",
        "colab": {
          "base_uri": "https://localhost:8080/"
        },
        "outputId": "0e8a0b02-8c49-4325-bb5c-f761d65557a9"
      },
      "execution_count": 17,
      "outputs": [
        {
          "output_type": "stream",
          "name": "stdout",
          "text": [
            "Hello\n"
          ]
        }
      ]
    },
    {
      "cell_type": "code",
      "source": [
        "\n",
        "from multiprocessing import Pool #with pool many processes can be created\n",
        "\n",
        "def myfunc(x):\n",
        "  return x*x\n",
        "\n",
        "if __name__==\"__main__\":\n",
        "  with Pool(5) as p:\n",
        "    print (p.map(myfunc,[3,4,5,6,11]))\n",
        "#we do not use start and join as Pool is another class and here no process has been used"
      ],
      "metadata": {
        "colab": {
          "base_uri": "https://localhost:8080/"
        },
        "id": "8VZ2N2Vc219a",
        "outputId": "e425454d-557d-4192-881e-2ab828257746"
      },
      "execution_count": 21,
      "outputs": [
        {
          "output_type": "stream",
          "name": "stdout",
          "text": [
            "[9, 16, 25, 36, 121]\n"
          ]
        }
      ]
    },
    {
      "cell_type": "code",
      "source": [
        "import multiprocessing as mp\n",
        "\n",
        "def myfunc(q):\n",
        "  q.put(\"Hello\") #put is used to put the data in process\n",
        "\n",
        "if __name__==\"__main__\":\n",
        "  q= Queue()\n",
        "  p=Process(target=myfunc,args=(q,))\n",
        "  p.start()\n",
        "  print(q.get()) #get is used to get the data to be printed\n",
        "  p.join()\n"
      ],
      "metadata": {
        "colab": {
          "base_uri": "https://localhost:8080/"
        },
        "id": "lMEBG4HX-Msy",
        "outputId": "432e02cb-c23f-4ecf-a2d6-7fb13f997dd1"
      },
      "execution_count": 30,
      "outputs": [
        {
          "output_type": "stream",
          "name": "stdout",
          "text": [
            "Hello\n"
          ]
        }
      ]
    },
    {
      "cell_type": "code",
      "source": [
        "#to queue we are passing list as an argument or parameter\n",
        "\n",
        "from multiprocessing import Process, Queue\n",
        "\n",
        "def myfunc(q):\n",
        "  q.put([42,\"Hello\", None, 3.14, 3+10j])\n",
        "\n",
        "if __name__==\"__main__\":\n",
        "  q= Queue()\n",
        "  p=Process(target=myfunc, args=(q, ))\n",
        "  p.start()\n",
        "  print(q.get())\n",
        "  p.join()\n",
        "\n"
      ],
      "metadata": {
        "colab": {
          "base_uri": "https://localhost:8080/"
        },
        "id": "_4K_Wrw2_2Y2",
        "outputId": "725ccd3c-dc36-4e42-9c1c-b6408be92193"
      },
      "execution_count": 29,
      "outputs": [
        {
          "output_type": "stream",
          "name": "stdout",
          "text": [
            "[42, 'Hello', None, 3.14, (3+10j)]\n"
          ]
        }
      ]
    },
    {
      "cell_type": "code",
      "source": [
        "##concept of pipe()\n",
        "#It reurns a pair of connections objects that can achieve duplex communication\n",
        "#\n",
        "\n",
        "from multiprocessing import Process, Pipe\n",
        "\n",
        "def myfunc(conn):\n",
        "  conn.send([42,\"Hello\", None, 3.14, 3+10j])\n",
        "  conn.close()\n",
        "\n",
        "if __name__==\"__main__\":\n",
        "  parent_conn,child_conn=Pipe()\n",
        "  p=Process(target=myfunc, args=(child_conn, ))\n",
        "  p.start()\n",
        "  print (parent_conn.recv())\n",
        "  p.join()"
      ],
      "metadata": {
        "colab": {
          "base_uri": "https://localhost:8080/"
        },
        "id": "trLdIvDaAwDL",
        "outputId": "9cce7b13-6a24-4d45-d879-71ee8a954874"
      },
      "execution_count": 34,
      "outputs": [
        {
          "output_type": "stream",
          "name": "stdout",
          "text": [
            "[42, 'Hello', None, 3.14, (3+10j)]\n"
          ]
        }
      ]
    },
    {
      "cell_type": "code",
      "source": [
        "##pipe communication with send_bytes and receive_bytes\n",
        "\n",
        "from multiprocessing import Pipe\n",
        "\n",
        "a,b= Pipe()\n",
        "a.send([42,\"Hello\", None, 3.14, 3+10j])\n",
        "b.recv()\n",
        "b.send_bytes(b\"Thank you\")\n",
        "a. recv_bytes()\n"
      ],
      "metadata": {
        "colab": {
          "base_uri": "https://localhost:8080/"
        },
        "id": "2f3s_KAoD-QA",
        "outputId": "d750eff6-118b-4535-a114-d549ca3a5b6f"
      },
      "execution_count": 48,
      "outputs": [
        {
          "output_type": "execute_result",
          "data": {
            "text/plain": [
              "b'Thank you'"
            ]
          },
          "metadata": {},
          "execution_count": 48
        }
      ]
    },
    {
      "cell_type": "code",
      "source": [
        "\n",
        "\n",
        "\n",
        "\n",
        "\n",
        "\n",
        "\n",
        "\n",
        "\n",
        "\n",
        "\n",
        "\n",
        "\n",
        "\n",
        "\n",
        "\n",
        "\n",
        "\n",
        "\n",
        "\n",
        "\n",
        "\n",
        "\n",
        "\n",
        "\n",
        "\n",
        "\n",
        "\n",
        "\n",
        "\n",
        "\n",
        "\n",
        "\n",
        "\n",
        "\n"
      ],
      "metadata": {
        "id": "62L1odVKGSf0"
      },
      "execution_count": null,
      "outputs": []
    }
  ]
}