{
  "nbformat": 4,
  "nbformat_minor": 0,
  "metadata": {
    "colab": {
      "name": "multiprocessing.ipynb",
      "provenance": [],
      "collapsed_sections": [],
      "authorship_tag": "ABX9TyOqaKTjpU9clpNC0pS1hK9P",
      "include_colab_link": true
    },
    "kernelspec": {
      "name": "python3",
      "display_name": "Python 3"
    },
    "language_info": {
      "name": "python"
    }
  },
  "cells": [
    {
      "cell_type": "markdown",
      "metadata": {
        "id": "view-in-github",
        "colab_type": "text"
      },
      "source": [
        "<a href=\"https://colab.research.google.com/github/Riz08/My-python-practice-repo/blob/main/multiprocessing.ipynb\" target=\"_parent\"><img src=\"https://colab.research.google.com/assets/colab-badge.svg\" alt=\"Open In Colab\"/></a>"
      ]
    },
    {
      "cell_type": "code",
      "execution_count": null,
      "metadata": {
        "colab": {
          "base_uri": "https://localhost:8080/"
        },
        "id": "JKx1AQwOsF1C",
        "outputId": "a255bcfc-4559-469b-a86d-e6988fdc439f"
      },
      "outputs": [
        {
          "output_type": "stream",
          "name": "stdout",
          "text": [
            "My name is Riza\n"
          ]
        }
      ],
      "source": [
        "# For multiprocessing first we create a process object and then calls a start method and join terminates the process\n",
        "#multiprocessing has 4 classes 1. process 2. lock 3. queue 4. Pool\n",
        "\n",
        "\n",
        "from multiprocessing import Process\n",
        "\n",
        "def display(name):\n",
        "    print(\"My name is\", name)\n",
        "if __name__==\"__main__\":\n",
        "   p=Process(target=display,args=(\"Riza\",))\n",
        "p.start()\n",
        "p.join()\n",
        "\n",
        "\n"
      ]
    },
    {
      "cell_type": "code",
      "source": [
        "from multiprocessing import Process\n",
        "import os ##operating system\n",
        "\n",
        "def info(title):\n",
        "  print (title)\n",
        "  print (\"module name \",__name__)\n",
        "  print (\"Parent processid :\",os.getppid())\n",
        "  print (\"Child processid :\",os.getpid())\n",
        "\n",
        "\n",
        "def f(name):\n",
        "  info (\"Function f\")\n",
        "  print (\"Hello\",name)\n",
        "\n",
        "\n",
        "if __name__==\"__main__\":\n",
        "  info (\"main\")\n",
        "p=Process(target=f,args=(\"Riza\",))\n",
        "p.start()\n",
        "p.join()"
      ],
      "metadata": {
        "colab": {
          "base_uri": "https://localhost:8080/"
        },
        "id": "kDEnHJ6Ktlf7",
        "outputId": "dd0e85fd-53e9-488b-adc9-97a81e354e8b"
      },
      "execution_count": null,
      "outputs": [
        {
          "output_type": "stream",
          "name": "stdout",
          "text": [
            "main\n",
            "module name  __main__\n",
            "Parent processid : 44\n",
            "Child processid : 62\n",
            "Function f\n",
            "module name  __main__\n",
            "Parent processid : 62\n",
            "Child processid : 427\n",
            "Hello Riza\n"
          ]
        }
      ]
    },
    {
      "cell_type": "code",
      "source": [
        "#spawning\n",
        "\n",
        "from multiprocessing import Process , Queue\n",
        "\n",
        "def myfunc(q):\n",
        "  q.put(\"Hello\") #put is used to put the data in process\n",
        "\n",
        "if __name__==\"__main__\":\n",
        "  q=Queue()\n",
        "  p=Process(target=myfunc,args=(q,))\n",
        "  p.start()\n",
        "  print(q.get()) #get is used to get the data to be printed\n",
        "  p.join()\n",
        "\n"
      ],
      "metadata": {
        "id": "IwAr0BgZxFIh",
        "colab": {
          "base_uri": "https://localhost:8080/"
        },
        "outputId": "75f09f33-0a47-4b28-e6ba-140b2133b42b"
      },
      "execution_count": 7,
      "outputs": [
        {
          "output_type": "stream",
          "name": "stdout",
          "text": [
            "Hello\n"
          ]
        }
      ]
    },
    {
      "cell_type": "code",
      "source": [
        "\n",
        "from multiprocessing import Process, Queue\n",
        "\n",
        "def myfunc(a):\n",
        "  a.put([1,2,3,4,5,6])\n",
        "\n",
        "\n",
        "if __name__==\"__main__\":\n",
        "  a= Queue()\n",
        "  b= Process(target=myfunc, args= (a,))\n",
        "  b.start()\n",
        "  print (a.get())\n",
        "  b.join()\n",
        "\n",
        "\n",
        "\n",
        "\n",
        "\n",
        "\n",
        "\n",
        "\n",
        "\n",
        "\n",
        "\n",
        "\n",
        "\n",
        "\n",
        "\n",
        "\n",
        "\n",
        "\n",
        "\n",
        "\n",
        "\n"
      ],
      "metadata": {
        "id": "tYRRQ81N5KQL",
        "outputId": "61788428-e45d-403f-b833-5fb0da0869a5",
        "colab": {
          "base_uri": "https://localhost:8080/"
        }
      },
      "execution_count": 13,
      "outputs": [
        {
          "output_type": "stream",
          "name": "stdout",
          "text": [
            "[1, 2, 3, 4, 5, 6]\n"
          ]
        }
      ]
    },
    {
      "cell_type": "code",
      "source": [
        "\n",
        "from multiprocessing import Pool #with pool many processes can be created\n",
        "\n",
        "def myfunc(x):\n",
        "  return x*x\n",
        "\n",
        "if __name__==\"__main__\":\n",
        "  with Pool(5) as p:\n",
        "    print (p.map(myfunc,[3,4,5,6,11]))\n",
        "#we do not use start and join as Pool is another class and here no process has been used"
      ],
      "metadata": {
        "colab": {
          "base_uri": "https://localhost:8080/"
        },
        "id": "8VZ2N2Vc219a",
        "outputId": "e425454d-557d-4192-881e-2ab828257746"
      },
      "execution_count": null,
      "outputs": [
        {
          "output_type": "stream",
          "name": "stdout",
          "text": [
            "[9, 16, 25, 36, 121]\n"
          ]
        }
      ]
    },
    {
      "cell_type": "code",
      "source": [
        "import multiprocessing as mp\n",
        "\n",
        "def myfunc(q):\n",
        "  q.put(\"Hello\") #put is used to put the data in process\n",
        "\n",
        "if __name__==\"__main__\":\n",
        "  q= Queue()\n",
        "  p=Process(target=myfunc,args=(q,))\n",
        "  p.start()\n",
        "  print(q.get()) #get is used to get the data to be printed\n",
        "  p.join()\n"
      ],
      "metadata": {
        "colab": {
          "base_uri": "https://localhost:8080/"
        },
        "id": "lMEBG4HX-Msy",
        "outputId": "432e02cb-c23f-4ecf-a2d6-7fb13f997dd1"
      },
      "execution_count": null,
      "outputs": [
        {
          "output_type": "stream",
          "name": "stdout",
          "text": [
            "Hello\n"
          ]
        }
      ]
    },
    {
      "cell_type": "code",
      "source": [
        "#to queue we are passing list as an argument or parameter\n",
        "\n",
        "from multiprocessing import Process, Queue\n",
        "\n",
        "def myfunc(q):\n",
        "  q.put([42,\"Hello\", None, 3.14, 3+10j])\n",
        "\n",
        "if __name__==\"__main__\":\n",
        "  q= Queue()\n",
        "  p=Process(target=myfunc, args=(q, ))\n",
        "  p.start()\n",
        "  print(q.get())\n",
        "  p.join()\n",
        "\n"
      ],
      "metadata": {
        "colab": {
          "base_uri": "https://localhost:8080/"
        },
        "id": "_4K_Wrw2_2Y2",
        "outputId": "725ccd3c-dc36-4e42-9c1c-b6408be92193"
      },
      "execution_count": null,
      "outputs": [
        {
          "output_type": "stream",
          "name": "stdout",
          "text": [
            "[42, 'Hello', None, 3.14, (3+10j)]\n"
          ]
        }
      ]
    },
    {
      "cell_type": "code",
      "source": [
        "##concept of pipe()\n",
        "#It reurns a pair of connections objects that can achieve duplex communication\n",
        "#\n",
        "\n",
        "from multiprocessing import Process, Pipe\n",
        "\n",
        "def myfunc(conn):\n",
        "  conn.send([42,\"Hello\", None, 3.14, 3+10j])\n",
        "  conn.close()\n",
        "\n",
        "if __name__==\"__main__\":\n",
        "  parent_conn,child_conn=Pipe()\n",
        "  p=Process(target=myfunc, args=(child_conn, ))\n",
        "  p.start()\n",
        "  print (parent_conn.recv())\n",
        "  p.join()"
      ],
      "metadata": {
        "colab": {
          "base_uri": "https://localhost:8080/"
        },
        "id": "trLdIvDaAwDL",
        "outputId": "9cce7b13-6a24-4d45-d879-71ee8a954874"
      },
      "execution_count": null,
      "outputs": [
        {
          "output_type": "stream",
          "name": "stdout",
          "text": [
            "[42, 'Hello', None, 3.14, (3+10j)]\n"
          ]
        }
      ]
    },
    {
      "cell_type": "code",
      "source": [
        "##pipe communication with send_bytes and receive_bytes\n",
        "\n",
        "from multiprocessing import Pipe\n",
        "\n",
        "a,b= Pipe()\n",
        "a.send([42,\"Hello\", None, 3.14, 3+10j])\n",
        "b.recv()\n",
        "b.send_bytes(b\"Thank you\")\n",
        "a. recv_bytes()\n"
      ],
      "metadata": {
        "colab": {
          "base_uri": "https://localhost:8080/"
        },
        "id": "2f3s_KAoD-QA",
        "outputId": "d750eff6-118b-4535-a114-d549ca3a5b6f"
      },
      "execution_count": null,
      "outputs": [
        {
          "output_type": "execute_result",
          "data": {
            "text/plain": [
              "b'Thank you'"
            ]
          },
          "metadata": {},
          "execution_count": 48
        }
      ]
    },
    {
      "cell_type": "code",
      "source": [
        "\n",
        "##array with send_bytes and recv_bytes\n",
        "\n",
        "import array\n",
        "from multiprocessing import Pipe\n",
        "arr1= array.array(\"i\",range(5))\n",
        "arr2= array.array(\"i\",[0]*10)\n",
        "a,b= Pipe()\n",
        "a.send_bytes(arr1)\n",
        "arr= b.recv_bytes_into(arr2)\n",
        "print (arr)\n",
        "print(arr2)\n"
      ],
      "metadata": {
        "colab": {
          "base_uri": "https://localhost:8080/"
        },
        "id": "62L1odVKGSf0",
        "outputId": "f1a7179a-0c57-4414-f5e4-e00b6a1044b7"
      },
      "execution_count": null,
      "outputs": [
        {
          "output_type": "stream",
          "name": "stdout",
          "text": [
            "20\n",
            "array('i', [0, 1, 2, 3, 4, 0, 0, 0, 0, 0])\n"
          ]
        }
      ]
    },
    {
      "cell_type": "code",
      "source": [
        "#syncronization concept\n",
        "#it is used when we want to book tickets\n",
        "#in lock system no need to use join\n",
        "\n",
        "from multiprocessing import Process, Lock\n",
        "\n",
        "def myfunc(l,i):\n",
        "  l.aquire()\n",
        "  try:\n",
        "    print(\"Hello world\",i)\n",
        "  finally:\n",
        "    l.release()\n",
        "if __name__==\"__main__\":\n",
        "  lock=Lock()\n",
        "  for num in range(10):\n",
        "    Process(target=myfunc, args= (lock,num)).start()\n",
        "   "
      ],
      "metadata": {
        "colab": {
          "base_uri": "https://localhost:8080/"
        },
        "id": "L2D_f3LhJIux",
        "outputId": "597a85ee-21e2-4303-c968-bdfd6e6c0d8d"
      },
      "execution_count": null,
      "outputs": [
        {
          "output_type": "stream",
          "name": "stderr",
          "text": [
            "Process Process-83:\n",
            "Process Process-84:\n",
            "Traceback (most recent call last):\n",
            "Traceback (most recent call last):\n",
            "  File \"/usr/lib/python3.7/multiprocessing/process.py\", line 297, in _bootstrap\n",
            "    self.run()\n",
            "  File \"/usr/lib/python3.7/multiprocessing/process.py\", line 297, in _bootstrap\n",
            "    self.run()\n",
            "  File \"/usr/lib/python3.7/multiprocessing/process.py\", line 99, in run\n",
            "    self._target(*self._args, **self._kwargs)\n",
            "Process Process-86:\n",
            "  File \"/usr/lib/python3.7/multiprocessing/process.py\", line 99, in run\n",
            "    self._target(*self._args, **self._kwargs)\n",
            "Traceback (most recent call last):\n",
            "  File \"/usr/lib/python3.7/multiprocessing/process.py\", line 297, in _bootstrap\n",
            "    self.run()\n",
            "  File \"/usr/lib/python3.7/multiprocessing/process.py\", line 99, in run\n",
            "    self._target(*self._args, **self._kwargs)\n",
            "Process Process-85:\n",
            "  File \"<ipython-input-59-19e9fec6ce24>\", line 8, in myfunc\n",
            "    l.aquire()\n",
            "  File \"<ipython-input-59-19e9fec6ce24>\", line 8, in myfunc\n",
            "    l.aquire()\n",
            "AttributeError: 'Lock' object has no attribute 'aquire'\n",
            "Process Process-87:\n",
            "Traceback (most recent call last):\n",
            "AttributeError: 'Lock' object has no attribute 'aquire'\n",
            "  File \"<ipython-input-59-19e9fec6ce24>\", line 8, in myfunc\n",
            "    l.aquire()\n",
            "Traceback (most recent call last):\n",
            "  File \"/usr/lib/python3.7/multiprocessing/process.py\", line 297, in _bootstrap\n",
            "    self.run()\n",
            "AttributeError: 'Lock' object has no attribute 'aquire'\n",
            "  File \"/usr/lib/python3.7/multiprocessing/process.py\", line 99, in run\n",
            "    self._target(*self._args, **self._kwargs)\n",
            "  File \"/usr/lib/python3.7/multiprocessing/process.py\", line 297, in _bootstrap\n",
            "    self.run()\n",
            "  File \"/usr/lib/python3.7/multiprocessing/process.py\", line 99, in run\n",
            "    self._target(*self._args, **self._kwargs)\n",
            "  File \"<ipython-input-59-19e9fec6ce24>\", line 8, in myfunc\n",
            "    l.aquire()\n",
            "Process Process-88:\n",
            "AttributeError: 'Lock' object has no attribute 'aquire'\n",
            "  File \"<ipython-input-59-19e9fec6ce24>\", line 8, in myfunc\n",
            "    l.aquire()\n",
            "Process Process-89:\n",
            "Traceback (most recent call last):\n",
            "AttributeError: 'Lock' object has no attribute 'aquire'\n",
            "  File \"/usr/lib/python3.7/multiprocessing/process.py\", line 297, in _bootstrap\n",
            "    self.run()\n",
            "Traceback (most recent call last):\n",
            "Process Process-90:\n",
            "  File \"/usr/lib/python3.7/multiprocessing/process.py\", line 297, in _bootstrap\n",
            "    self.run()\n",
            "  File \"/usr/lib/python3.7/multiprocessing/process.py\", line 99, in run\n",
            "    self._target(*self._args, **self._kwargs)\n",
            "Traceback (most recent call last):\n",
            "  File \"/usr/lib/python3.7/multiprocessing/process.py\", line 99, in run\n",
            "    self._target(*self._args, **self._kwargs)\n",
            "  File \"/usr/lib/python3.7/multiprocessing/process.py\", line 297, in _bootstrap\n",
            "    self.run()\n",
            "  File \"<ipython-input-59-19e9fec6ce24>\", line 8, in myfunc\n",
            "    l.aquire()\n",
            "Process Process-91:\n",
            "  File \"/usr/lib/python3.7/multiprocessing/process.py\", line 99, in run\n",
            "    self._target(*self._args, **self._kwargs)\n",
            "  File \"<ipython-input-59-19e9fec6ce24>\", line 8, in myfunc\n",
            "    l.aquire()\n",
            "  File \"<ipython-input-59-19e9fec6ce24>\", line 8, in myfunc\n",
            "    l.aquire()\n",
            "AttributeError: 'Lock' object has no attribute 'aquire'\n",
            "Traceback (most recent call last):\n",
            "AttributeError: 'Lock' object has no attribute 'aquire'\n",
            "AttributeError: 'Lock' object has no attribute 'aquire'\n",
            "Process Process-92:\n",
            "  File \"/usr/lib/python3.7/multiprocessing/process.py\", line 297, in _bootstrap\n",
            "    self.run()\n",
            "Traceback (most recent call last):\n",
            "  File \"/usr/lib/python3.7/multiprocessing/process.py\", line 297, in _bootstrap\n",
            "    self.run()\n",
            "  File \"/usr/lib/python3.7/multiprocessing/process.py\", line 99, in run\n",
            "    self._target(*self._args, **self._kwargs)\n",
            "  File \"<ipython-input-59-19e9fec6ce24>\", line 8, in myfunc\n",
            "    l.aquire()\n",
            "AttributeError: 'Lock' object has no attribute 'aquire'\n",
            "  File \"/usr/lib/python3.7/multiprocessing/process.py\", line 99, in run\n",
            "    self._target(*self._args, **self._kwargs)\n",
            "  File \"<ipython-input-59-19e9fec6ce24>\", line 8, in myfunc\n",
            "    l.aquire()\n",
            "AttributeError: 'Lock' object has no attribute 'aquire'\n"
          ]
        }
      ]
    },
    {
      "cell_type": "code",
      "source": [
        "\n",
        "#shared memory\n",
        "\n",
        "from multiprocessing import Process, Value, Array\n",
        "\n",
        "def myfunc(n,a):\n",
        "  n. Value= 3.1415927\n",
        "  for i in range(len(a)):\n",
        "    a[i]=-a[i]\n",
        "\n",
        "\n",
        "if __name__==\"__main__\":\n",
        "  num= Value(\"d\", 1.78100032)\n",
        "  arry= Array(\"i\", range(10))\n",
        "  p= Process(target=myfunc, args=(num,arry))\n",
        "  p.start()\n",
        "  p.join()\n",
        "  print(num.value)  #value is small letter.Capital V gives error why??\n",
        "  print(arry[:])\n",
        "\n"
      ],
      "metadata": {
        "colab": {
          "base_uri": "https://localhost:8080/"
        },
        "id": "7TogelT9L9UR",
        "outputId": "d2de5e05-ec15-4d4e-9f34-fe1d54dc3a27"
      },
      "execution_count": null,
      "outputs": [
        {
          "output_type": "stream",
          "name": "stdout",
          "text": [
            "1.78100032\n",
            "[0, -1, -2, -3, -4, -5, -6, -7, -8, -9]\n"
          ]
        }
      ]
    },
    {
      "cell_type": "code",
      "source": [
        "#fork system calls for to create a new process\n",
        "\n",
        "import os\n",
        "\n",
        "\n",
        "def parent_child():\n",
        "  n=os.fork()\n",
        "  if n>0:\n",
        "    print(\"Parent Process and id is: \", os.getppid())\n",
        "  else:\n",
        "    print (\"Child Process and ID is: \", os.getpid())\n",
        "\n",
        "parent_child()\n"
      ],
      "metadata": {
        "colab": {
          "base_uri": "https://localhost:8080/"
        },
        "id": "xwHaOCRFPj1y",
        "outputId": "7ac2459f-172e-442e-f31a-aeddef45b008"
      },
      "execution_count": null,
      "outputs": [
        {
          "output_type": "stream",
          "name": "stdout",
          "text": [
            "Parent Process and id is:  44\n",
            "Child Process and ID is:  3021\n"
          ]
        }
      ]
    },
    {
      "cell_type": "code",
      "source": [
        "\n",
        "## Sharedctypes\n",
        "from multiprocessing import Process, Lock\n",
        "from multiprocessing.sharedctypes import Value, Array\n",
        "from ctypes import Structure, c_double\n",
        "\n",
        "class Point(Structure):\n",
        "  __fields__=[(\"x\", c_double), (\"y\",c_double)]\n",
        "\n",
        "def modify(n,x,s,A):\n",
        "  n.value **=2\n",
        "  x.value **= 2\n",
        "  s.value = s.value.upper()\n",
        "  for a in A:\n",
        "    a.x**=2\n",
        "    a.y**=2\n",
        "\n",
        "\n",
        "if __name__==\"__mian__\":\n",
        "  lock=Lock()\n",
        "  n= Value(\"i\",7)\n",
        "  x= Value(c_double,1/3,lock= False)\n",
        "  s= Array(\"c\", b\"Hello world\", lock=True)\n",
        "  A= Array (Point[(1.876, -6.25,-5.75,3.5)], lock=True)\n",
        "  p= Process(target=modify, args=(n,x,s,A))\n",
        "  p.start()\n",
        "  p.join()\n",
        "  print(n.value)\n",
        "  print(x.value)\n",
        "  print (s.value)\n",
        "  print ([(a.x,a.y) for a in A])\n",
        "\n"
      ],
      "metadata": {
        "id": "XMNTHjHTYBAv"
      },
      "execution_count": null,
      "outputs": []
    },
    {
      "cell_type": "code",
      "source": [
        "##parallel processing with pool class\n",
        "\n",
        "import multiprocessing\n",
        "\n",
        "def square(x):\n",
        "  return x*x\n",
        "\n",
        "if __name__==\"__main__\":\n",
        "  pool= multiprocessing.Pool()\n",
        "  pool= multiprocessing.Pool(processes=2)\n",
        "  inputs=[12,5,4,7,2]\n",
        "  outputs= pool.map(square,inputs)\n",
        "  print (\"input{}\".format(inputs))\n",
        "  print (\"output{}\".format(outputs))\n",
        "\n"
      ],
      "metadata": {
        "colab": {
          "base_uri": "https://localhost:8080/"
        },
        "id": "HOcmi7Vob1oG",
        "outputId": "a41b579a-6e5d-4eaf-8b76-e2d06dcade78"
      },
      "execution_count": null,
      "outputs": [
        {
          "output_type": "stream",
          "name": "stdout",
          "text": [
            "input[12, 5, 4, 7, 2]\n",
            "output[144, 25, 16, 49, 4]\n"
          ]
        }
      ]
    },
    {
      "cell_type": "code",
      "source": [
        ""
      ],
      "metadata": {
        "id": "QsiWJGohfvar"
      },
      "execution_count": null,
      "outputs": []
    }
  ]
}