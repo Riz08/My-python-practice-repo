{
  "nbformat": 4,
  "nbformat_minor": 0,
  "metadata": {
    "colab": {
      "name": "handle2filesandunittesting.ipynb",
      "provenance": [],
      "collapsed_sections": [],
      "authorship_tag": "ABX9TyMVzEqr2Ix1ZGrZs8M+KB2f",
      "include_colab_link": true
    },
    "kernelspec": {
      "name": "python3",
      "display_name": "Python 3"
    },
    "language_info": {
      "name": "python"
    }
  },
  "cells": [
    {
      "cell_type": "markdown",
      "metadata": {
        "id": "view-in-github",
        "colab_type": "text"
      },
      "source": [
        "<a href=\"https://colab.research.google.com/github/Riz08/My-python-practice-repo/blob/main/unittesting.ipynb\" target=\"_parent\"><img src=\"https://colab.research.google.com/assets/colab-badge.svg\" alt=\"Open In Colab\"/></a>"
      ]
    },
    {
      "cell_type": "code",
      "execution_count": null,
      "metadata": {
        "colab": {
          "base_uri": "https://localhost:8080/"
        },
        "id": "drnYgGLAuH-8",
        "outputId": "4b0ff751-45b6-4e49-f8e0-4874c67c86be"
      },
      "outputs": [
        {
          "output_type": "stream",
          "name": "stdout",
          "text": [
            "1\n",
            "22\n",
            "333\n",
            "4444\n",
            "55555\n",
            "666666\n",
            "This file is the main file\n"
          ]
        }
      ],
      "source": [
        "def myfunc():\n",
        "  a=6\n",
        "  for line in range(1,a+1):\n",
        "    for i in range(line):\n",
        "      print(line,end=\"\")\n",
        "    print(\"\")\n",
        "myfunc()\n",
        "\n",
        "if __name__==\"__main__\":\n",
        "  print(\"This file is the main file\")\n",
        "\n",
        "\n",
        "\n",
        "\n",
        "\n",
        "\n",
        "\n",
        "\n",
        "\n",
        "\n",
        "\n"
      ]
    },
    {
      "cell_type": "code",
      "source": [
        ""
      ],
      "metadata": {
        "id": "vMkKVC7_2zLK"
      },
      "execution_count": null,
      "outputs": []
    },
    {
      "cell_type": "code",
      "source": [
        "#how to handle two different files\n",
        "\n",
        "from File1 import myfunc\n",
        "myfunc()"
      ],
      "metadata": {
        "id": "Fnll5XwJv2dH"
      },
      "execution_count": null,
      "outputs": []
    },
    {
      "cell_type": "code",
      "source": [
        "#unit testing\n",
        "\n",
        "\"\"\"SDLC =software development life cycle\n",
        "1.planning\n",
        "2.Design using papers(blue print)\n",
        "3.Checklist of requirements\n",
        "4. Development of code style and base\n",
        "5. Testing codes if they are good\n",
        "6. Deployment of codes\n",
        "\n",
        "\n",
        "\n",
        "\"\"\"\n",
        "\n",
        "\n",
        "\"\"\"To isolate a section of code.\n",
        "To verify the correctness of code.\n",
        "To test every function and procedure.\n",
        "To fix bug early in development cycle and to save costs.\n",
        "To help the developers to understand the code base and enable them to make changes quickly.\n",
        "To help for code reuse.\"\"\"\n",
        "\n",
        "\n",
        "\n",
        "\n",
        "\n",
        "\n",
        "\n",
        "\n",
        "\n",
        "\n",
        "\n",
        "\n",
        "\n",
        "\n",
        "\n",
        "\n",
        "\n",
        "\n",
        "\n",
        "\n",
        "\n",
        "\n",
        "\n",
        "\n",
        "\n",
        "\n",
        "\n",
        "\n",
        "\n",
        "\n",
        "\n"
      ],
      "metadata": {
        "id": "8fsj4S8E20L3"
      },
      "execution_count": null,
      "outputs": []
    }
  ]
}