{
  "nbformat": 4,
  "nbformat_minor": 0,
  "metadata": {
    "colab": {
      "name": "file1.ipynb",
      "provenance": [],
      "authorship_tag": "ABX9TyP6cronicAvlhVJPvTHJyDn",
      "include_colab_link": true
    },
    "kernelspec": {
      "name": "python3",
      "display_name": "Python 3"
    },
    "language_info": {
      "name": "python"
    }
  },
  "cells": [
    {
      "cell_type": "markdown",
      "metadata": {
        "id": "view-in-github",
        "colab_type": "text"
      },
      "source": [
        "<a href=\"https://colab.research.google.com/github/Riz08/My-python-practice-repo/blob/main/file1.ipynb\" target=\"_parent\"><img src=\"https://colab.research.google.com/assets/colab-badge.svg\" alt=\"Open In Colab\"/></a>"
      ]
    },
    {
      "cell_type": "code",
      "execution_count": 1,
      "metadata": {
        "colab": {
          "base_uri": "https://localhost:8080/"
        },
        "id": "y5ujWDt51XQ2",
        "outputId": "9a24b732-c0c7-4c3a-ad8b-2d8d38052d13"
      },
      "outputs": [
        {
          "output_type": "stream",
          "name": "stdout",
          "text": [
            "1\n",
            "22\n",
            "333\n",
            "4444\n",
            "55555\n",
            "666666\n",
            "This file is the main file\n"
          ]
        }
      ],
      "source": [
        "def myfunc():\n",
        "  a=6\n",
        "  for line in range(1,a+1):\n",
        "    for i in range(line):\n",
        "      print(line,end=\"\")\n",
        "    print(\"\")\n",
        "myfunc()\n",
        "\n",
        "if __name__==\"__main__\":\n",
        "  print(\"This file is the main file\")"
      ]
    },
    {
      "cell_type": "code",
      "source": [
        ""
      ],
      "metadata": {
        "id": "6TsFDpdd1Zxq"
      },
      "execution_count": null,
      "outputs": []
    }
  ]
}