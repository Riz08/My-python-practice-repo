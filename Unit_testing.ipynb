{
  "nbformat": 4,
  "nbformat_minor": 0,
  "metadata": {
    "colab": {
      "name": "Unit testing.ipynb",
      "provenance": [],
      "authorship_tag": "ABX9TyPOpVbA0JPCSLzZyynOUZ12",
      "include_colab_link": true
    },
    "kernelspec": {
      "name": "python3",
      "display_name": "Python 3"
    },
    "language_info": {
      "name": "python"
    }
  },
  "cells": [
    {
      "cell_type": "markdown",
      "metadata": {
        "id": "view-in-github",
        "colab_type": "text"
      },
      "source": [
        "<a href=\"https://colab.research.google.com/github/Riz08/My-python-practice-repo/blob/main/Unit_testing.ipynb\" target=\"_parent\"><img src=\"https://colab.research.google.com/assets/colab-badge.svg\" alt=\"Open In Colab\"/></a>"
      ]
    },
    {
      "cell_type": "code",
      "execution_count": null,
      "metadata": {
        "id": "2yUyjAlbhztc"
      },
      "outputs": [],
      "source": [
        "import math\n",
        "\n",
        "def circle(rad):\n",
        "    if type(rad)not in [int,float]:\n",
        "        raise TypeError(\"Invalid input\")\n",
        "    if rad<0:\n",
        "        raise ValueError(\"Negative values are not possible\")\n",
        "    return math.pi*rad*rad\n",
        "\n",
        "\n",
        "\n",
        "##Unit testing\n",
        "\n",
        "import unittest\n",
        "import area\n",
        "import math\n",
        "class Testarea(unittest.TestCase):\n",
        "    def test_area_0(self):\n",
        "        self.assertEqual(area.circle(0),0) #asert checks the condition\n",
        "        print(\"testcase1\")\n",
        "        \n",
        "    def test_area_1(self):\n",
        "        self.assertEqual(area.circle(1),math.pi)    \n",
        "        print(\"testcase2\")\n",
        "    def test_Area_types(self):  #check if errors raise\n",
        "        self.assertRaises(TypeError,area.circle,\"Python\")\n",
        "        self.assertRaises(TypeError,area.circle,\"True\")\n",
        "        self.assertRaises(TypeError,area.circle,\"3+4j\")\n",
        "    def test_area_value(self):\n",
        "        self.asstertRaises(ValueError,area.circle,-8)\n",
        "        \n",
        "\n",
        "unittest.main()"
      ]
    },
    {
      "cell_type": "code",
      "source": [
        "def add(x,y):\n",
        "    return x+y\n",
        "def sub(x,y):\n",
        "    return x-y\n",
        "def multi(x,y):\n",
        "    return x*y\n",
        "def divi(x,y):\n",
        "    if type(x) not in [int,float]:\n",
        "        raise TypeError\n",
        "    if type(y) not in [int,float]:\n",
        "        raise TypeError\n",
        "    if y==0:\n",
        "        raise ZeroDivisionError\n",
        "        \n",
        "    return x//y\n",
        "\n",
        "#unit testing\n",
        "\n",
        "import unittest\n",
        "import Calculation\n",
        "import math\n",
        "\n",
        "class Testadd(unittest.TestCase):\n",
        "    def test_add(self):\n",
        "        self.assertEqual(Calculation.add(50,50),100)\n",
        "    def test_add(self):\n",
        "        self.assertRaises(TypeError,calculation.divi,\"hello\",9)   \n",
        "\n",
        "unittest.main()  "
      ],
      "metadata": {
        "id": "UkuRO-69h37x"
      },
      "execution_count": null,
      "outputs": []
    },
    {
      "cell_type": "code",
      "source": [
        "def Isascending(a):\n",
        "    n=len(a)\n",
        "    for i in range(n-1):\n",
        "        if a[i]<a[i+1]:\n",
        "            pass\n",
        "        else:\n",
        "            return False\n",
        "    return True\n",
        "\n",
        "\n",
        "def Isdescending(a):\n",
        "    n=len(a)\n",
        "    for i in range(n-1):\n",
        "        if a[i]>a[i+1]:\n",
        "            pass\n",
        "        else:\n",
        "            return False\n",
        "    return True\n",
        "\n",
        "\n",
        "def Issorted(a):\n",
        "    return Isascending(a) or Isdescending(a)\n",
        "\n",
        "\n",
        "def Isunique(arr):\n",
        "    return len(arr)==len(set(arr))\n",
        "\n",
        "print(Isunique([99,55,44,33,11]))\n",
        "\n",
        "\n",
        "#unit testing\n",
        "\n",
        "import unittest\n",
        "import f1\n",
        "class TestSort(unittest.TestCase):\n",
        "    def test_isascending(self):\n",
        "        self.assertEqual(f1.Isascending([1,2,3,4]),True)\n",
        "        self.assertTrue(f1.Isascending([1,2,3,4]))\n",
        "        self.assertFalse(f1.Isascending([1, 2, 4, 3]))\n",
        "    def test_isdescending(self):\n",
        "        self.assertEqual(f1.Isdescending([4,3,2,1]),True)\n",
        "        self.assertTrue(f1.Isdescending([4,3,2,1]))\n",
        "        self.assertFalse(f1.Isdescending([1, 2, 4,7]))\n",
        "    def test_issorted(self):\n",
        "        self.assertEqual(f1.Issorted([4,3,2,1]),True)\n",
        "        self.assertEqual(f1.Issorted([1,2,3,4]),True)\n",
        "        self.assertFalse(f1.Issorted([1, 11, 4,7]))\n",
        "    def test_isunique(self):\n",
        "        self.assertTrue(f1.Isunique([1, 11, 4,7]))\n",
        "        self.assertFalse(f1.Isunique([1, 4, 4,7]))\n",
        "unittest.main()\n",
        "\n"
      ],
      "metadata": {
        "id": "qS6FfIjbh68i"
      },
      "execution_count": null,
      "outputs": []
    },
    {
      "cell_type": "code",
      "source": [
        "\n",
        "import unittest\n",
        "\n",
        "class test(unittest.TestCase):\n",
        "    def setUpClass():\n",
        "        print(\"This is setup class\")\n",
        "    def setUp(self):\n",
        "        print(\"This is setup\")\n",
        "    def test_1(self):\n",
        "        print(\"This is test 1\")\n",
        "    def test_2(self):\n",
        "        print(\"This is test 2\")\n",
        "    def tearDown(self):\n",
        "        print(\"This is tearDown\")\n",
        "    def tearDownClass():\n",
        "        print(\"This is tearDown class\")\n",
        "\n",
        "unittest.main()"
      ],
      "metadata": {
        "colab": {
          "base_uri": "https://localhost:8080/",
          "height": 321
        },
        "id": "Xm3ghjTbiCdB",
        "outputId": "6b7354b2-19a2-454d-984c-ab0544ed2e2f"
      },
      "execution_count": 5,
      "outputs": [
        {
          "output_type": "stream",
          "name": "stderr",
          "text": [
            "E\n",
            "======================================================================\n",
            "ERROR: /root/ (unittest.loader._FailedTest)\n",
            "----------------------------------------------------------------------\n",
            "AttributeError: module '__main__' has no attribute '/root/'\n",
            "\n",
            "----------------------------------------------------------------------\n",
            "Ran 1 test in 0.002s\n",
            "\n",
            "FAILED (errors=1)\n"
          ]
        },
        {
          "output_type": "error",
          "ename": "SystemExit",
          "evalue": "ignored",
          "traceback": [
            "An exception has occurred, use %tb to see the full traceback.\n",
            "\u001b[0;31mSystemExit\u001b[0m\u001b[0;31m:\u001b[0m True\n"
          ]
        },
        {
          "output_type": "stream",
          "name": "stderr",
          "text": [
            "/usr/local/lib/python3.7/dist-packages/IPython/core/interactiveshell.py:2890: UserWarning: To exit: use 'exit', 'quit', or Ctrl-D.\n",
            "  warn(\"To exit: use 'exit', 'quit', or Ctrl-D.\", stacklevel=1)\n"
          ]
        }
      ]
    },
    {
      "cell_type": "code",
      "source": [
        "#\"\"How to unit ttest txt file \"\n",
        "#how to testa  file from opening and until closing\n",
        "\n",
        "import unnittest\n",
        "\n",
        "def countword(data):\n",
        "    return len(data.split())\n",
        "\n",
        "class Test(unnittest.TestCase):\n",
        "    def setUp(self):\n",
        "        self.file=open(\"data.txt\")\n",
        "        self.data=self.file.read()\n",
        "    def test_0(self):\n",
        "        myfunc= countword(self.data)\n",
        "        print(\"The result is \", myfunc)\n",
        "        self.assertEqual(myfunc,1)\n",
        "    def tearDown(self):\n",
        "        self.file.close()\n",
        "        print(\"Tear down\")\n",
        "        \n",
        "unnittest.main()"
      ],
      "metadata": {
        "id": "RWbdED77lcyY"
      },
      "execution_count": null,
      "outputs": []
    }
  ]
}