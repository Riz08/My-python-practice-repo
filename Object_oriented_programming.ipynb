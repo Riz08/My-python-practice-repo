{
  "nbformat": 4,
  "nbformat_minor": 0,
  "metadata": {
    "colab": {
      "name": "Object oriented programming",
      "provenance": [],
      "authorship_tag": "ABX9TyMAK06czhzWi7CExEJ8H1lh",
      "include_colab_link": true
    },
    "kernelspec": {
      "name": "python3",
      "display_name": "Python 3"
    },
    "language_info": {
      "name": "python"
    }
  },
  "cells": [
    {
      "cell_type": "markdown",
      "metadata": {
        "id": "view-in-github",
        "colab_type": "text"
      },
      "source": [
        "<a href=\"https://colab.research.google.com/github/Riz08/My-python-practice-repo/blob/main/Object_oriented_programming.ipynb\" target=\"_parent\"><img src=\"https://colab.research.google.com/assets/colab-badge.svg\" alt=\"Open In Colab\"/></a>"
      ]
    },
    {
      "cell_type": "code",
      "execution_count": null,
      "metadata": {
        "colab": {
          "base_uri": "https://localhost:8080/"
        },
        "id": "WbpNDGSwMU9W",
        "outputId": "2983c00a-3b64-4111-b216-e135fa2373b4"
      },
      "outputs": [
        {
          "output_type": "stream",
          "name": "stdout",
          "text": [
            "{'country': 'Finland', 'region': 'Nordic', 'amount': '5000', 'writting': 'Finland is in Nordic with amount of people 5000 infected'}\n",
            "Finland Nordic\n"
          ]
        }
      ],
      "source": [
        "#OBJECT ORIENTED PROGRAMMING\n",
        "# from a class many objects can be created\n",
        "# under class a group of data and functionality is put in together under a single unit called class\n",
        "#object is a subclass of a class where class refence is used\n",
        "#attributes are variables that are specific to class \n",
        "#destructors-Deletes the objrcts when the use of object is finished. __del__ is called destructors\n",
        "\n",
        "\n",
        "\n",
        "\n",
        "class Coronacases:\n",
        "    \n",
        "    \n",
        "    def __init__(self,country,region,amount):\n",
        "        self.country=country\n",
        "        self.region=region\n",
        "        self.amount=amount\n",
        "        self.writting= country+\" is in \" +region+ \" with amount of people \"+ amount +\" infected\"\n",
        "        #we can create new attribute if we use all in it functions and strings\n",
        "        \n",
        "country1= Coronacases(\"Finland\",\"Nordic\",\"5000\")\n",
        "                    #country,region,amount\n",
        "\n",
        "print (country1.__dict__) #dict is used to get a dictionary\n",
        "\n",
        "\n",
        "\n",
        "##new function\n",
        "\n",
        "class Coronacases:\n",
        "    \n",
        "    \n",
        "    def __init__(self,country,region,amount):\n",
        "        self.country=country\n",
        "        self.region=region\n",
        "        self.amount=amount\n",
        "        self.writting= country+\" is in \" +region+ \" with amount of people \"+ amount +\" infected\"\n",
        "        #we can create new attribute if we use all in it functions and strings\n",
        "        \n",
        "        \n",
        "    def fullname(self):\n",
        "        return \"{} {}\".format(self.country,self.region)\n",
        "        \n",
        "\n",
        "country1= Coronacases(\"Finland\",\"Nordic\",\"5000\")\n",
        "                    #country,region,amount\n",
        "\n",
        "print (country1.fullname()) #need to use () always"
      ]
    },
    {
      "cell_type": "code",
      "source": [
        "class Customerdata :\n",
        "\n",
        "\n",
        "  def __init__(self,name,phonenumber,pieces,spend,gmail):\n",
        "    self.name=name\n",
        "    self.phonenumber=phonenumber\n",
        "    self.pieces=pieces\n",
        "    self.spend=spend\n",
        "    self.gmail=gmail\n",
        "    self.write= name+ \" has bought \"+pieces+\" pieces and spend around \"+spend+ \" euros.His phone number is \"+ phonenumber+\" and gmail ID is \"+ gmail\n",
        "\n",
        "  def check_valuable_customer(self):\n",
        "    if self.spend>\"1300\":\n",
        "      return (\"The customer is valuable\")\n",
        "    else:\n",
        "      return (\"The customer is not regular buyer\")\n",
        "\n",
        "first_customer= Customerdata(\"Riza\",\"0447208261\",\"7\",\"1254\",\"rizabintaher08@gmail.com\")\n",
        "first_customer.check_valuable_customer\n",
        "print (first_customer.write)\n",
        "print (first_customer.check_valuable_customer())\n",
        "\n",
        "\n"
      ],
      "metadata": {
        "colab": {
          "base_uri": "https://localhost:8080/"
        },
        "id": "tA-hWzrdMZBb",
        "outputId": "685cbdd2-41ad-4d08-9af7-d9bb3fc5765f"
      },
      "execution_count": null,
      "outputs": [
        {
          "output_type": "stream",
          "name": "stdout",
          "text": [
            "Riza has bought 7 pieces and spend around 1254 euros.His phone number is 0447208261 and gmail ID is rizabintaher08@gmail.com\n",
            "The customer is not regular buyer\n"
          ]
        }
      ]
    },
    {
      "cell_type": "code",
      "source": [
        "class Country:\n",
        "  def Asia(self):\n",
        "    print(\"India is in Asia\")\n",
        "obj1=Country()\n",
        "obj1.Asia()\n",
        "country.Asia(name)\n"
      ],
      "metadata": {
        "colab": {
          "base_uri": "https://localhost:8080/"
        },
        "id": "E4IcnlcjjWQ9",
        "outputId": "5313c982-cf61-4269-a64f-7c44c424429e"
      },
      "execution_count": null,
      "outputs": [
        {
          "output_type": "stream",
          "name": "stdout",
          "text": [
            "India is in Asia\n"
          ]
        }
      ]
    },
    {
      "cell_type": "code",
      "source": [
        "\n",
        "class Dog:\n",
        "  def breed(self):\n",
        "    print(\"Dogs have different types of breed\")\n",
        "\n",
        "obj1= Dog()\n",
        "obj1.breed()\n",
        "\n"
      ],
      "metadata": {
        "id": "dFEIHnnUOyxS",
        "colab": {
          "base_uri": "https://localhost:8080/"
        },
        "outputId": "7c8f216b-5c6e-442e-ead1-4efd895acaca"
      },
      "execution_count": null,
      "outputs": [
        {
          "output_type": "stream",
          "name": "stdout",
          "text": [
            "Dogs have different types of breed\n"
          ]
        }
      ]
    },
    {
      "cell_type": "code",
      "source": [
        "class Continents:\n",
        "  def __init__(self):\n",
        "    print(\"This function is a constructor function.Whatever object we call it will loop through constructor as many times as many objects we have\")\n",
        "\n",
        "  def Country(self):\n",
        "    print(\"This is not a constructor\")\n",
        "\n",
        "obj1= Continents()\n",
        "obj2= Continents()\n",
        "obj3= Continents()\n",
        "obj4= Continents()\n",
        "\n",
        "obj1.Country\n"
      ],
      "metadata": {
        "colab": {
          "base_uri": "https://localhost:8080/"
        },
        "id": "5cGVTw1QqWCo",
        "outputId": "b8fa398e-c2cf-4944-9401-2b34bfdd2f6d"
      },
      "execution_count": null,
      "outputs": [
        {
          "output_type": "stream",
          "name": "stdout",
          "text": [
            "This function is a constructor function.Whatever object we call it will loop through constructor as many times as many objects we have\n",
            "This function is a constructor function.Whatever object we call it will loop through constructor as many times as many objects we have\n",
            "This function is a constructor function.Whatever object we call it will loop through constructor as many times as many objects we have\n",
            "This function is a constructor function.Whatever object we call it will loop through constructor as many times as many objects we have\n",
            "This is not a constructor\n"
          ]
        }
      ]
    },
    {
      "cell_type": "code",
      "source": [
        "class Fish:\n",
        "  def __init__(self):\n",
        "    self.name=\"pegy\"\n",
        "    self.color=\"golden\"\n",
        "  def feed(self):\n",
        "    print(\"I love worms\")\n",
        "\n",
        "obj=Fish()\n",
        "\n",
        "print(obj.__dict__)\n",
        "obj.feed()\n",
        "\n",
        "obj.name = \"liji\"\n",
        "print(obj.__dict__)\n",
        "\n",
        "\n",
        "\n"
      ],
      "metadata": {
        "colab": {
          "base_uri": "https://localhost:8080/"
        },
        "id": "eRbafwKKvHRR",
        "outputId": "b11e0afa-4c2c-4a93-dae6-cfa052f3e00a"
      },
      "execution_count": null,
      "outputs": [
        {
          "output_type": "stream",
          "name": "stdout",
          "text": [
            "{'name': 'pegy', 'color': 'golden'}\n",
            "I love worms\n",
            "{'name': 'liji', 'color': 'golden'}\n"
          ]
        }
      ]
    },
    {
      "cell_type": "code",
      "source": [
        "\n",
        "class name():\n",
        "    def __init__(self):\n",
        "        print(\"Hello World\")\n",
        "    def welcome(self):\n",
        "        print(\"welcome to cranes\")\n",
        "\n",
        "obj=name()\n",
        "obj.welcome()\n",
        "\n"
      ],
      "metadata": {
        "colab": {
          "base_uri": "https://localhost:8080/"
        },
        "id": "2Sv-3lWP02GN",
        "outputId": "b263362c-6c8e-4258-edf2-3be5ec500fee"
      },
      "execution_count": 18,
      "outputs": [
        {
          "output_type": "stream",
          "name": "stdout",
          "text": [
            "Hello World\n"
          ]
        }
      ]
    },
    {
      "cell_type": "code",
      "source": [
        "class Car:\n",
        "  def __init__(self,model,fuel):\n",
        "    self.model=model\n",
        "    self.fuel=fuel\n",
        "  def show(self):\n",
        "    print(\"None of the cars are available in showroom .Needs to be ordered\")\n",
        "\n",
        "obj1= Car(\"BMW\",\"Diesel\")\n",
        "obj2= Car(\"AUDI\",\"Petrol\")\n",
        "\n",
        "print(obj1.model)\n",
        "print(obj2.__dict__)\n",
        "obj1.show()\n",
        "obj2.model=\"Tesla\"  #how to change data\n",
        "print(obj2.__dict__)"
      ],
      "metadata": {
        "colab": {
          "base_uri": "https://localhost:8080/"
        },
        "id": "lxhzUCdf14Tr",
        "outputId": "f3100243-32ef-4941-9842-a87c50bac8ca"
      },
      "execution_count": null,
      "outputs": [
        {
          "output_type": "stream",
          "name": "stdout",
          "text": [
            "BMW\n",
            "{'model': 'AUDI', 'fuel': 'Petrol'}\n",
            "None of the cars are available in showroom .Needs to be ordered\n",
            "{'model': 'Tesla', 'fuel': 'Petrol'}\n"
          ]
        }
      ]
    },
    {
      "cell_type": "code",
      "source": [
        "#write a program with firsta name and last anme\n",
        "\n",
        "\n",
        "class FullName:\n",
        "  def __init__(self,first,last):\n",
        "    self.first=first\n",
        "    self.last=last\n",
        "  def call_name(self):\n",
        "    print(\"Hello\",\"{} {}\".format(self.first,self.last))\n",
        "\n",
        "obj1= FullName(\"Riza\",\"Taher\")\n",
        "obj1.call_name()"
      ],
      "metadata": {
        "colab": {
          "base_uri": "https://localhost:8080/"
        },
        "id": "EtkfYHia48we",
        "outputId": "9a945720-fdb2-49b6-f119-ccd42c703c8b"
      },
      "execution_count": null,
      "outputs": [
        {
          "output_type": "stream",
          "name": "stdout",
          "text": [
            "Hello Riza Taher\n"
          ]
        }
      ]
    },
    {
      "cell_type": "code",
      "source": [
        "class Person:\n",
        "  def __init__(self,name,gender,age = 21):\n",
        "    self.name = name\n",
        "    self.gender = gender\n",
        "    self.age = age\n",
        "    print(\"objects and created\",id(self))\n",
        "  def __del__(self):\n",
        "    print(\"objects are deleted\",id(self))\n",
        "  def __str__(self):\n",
        "    return self.name+\" \"+self.gender+\" \"+str(self.age)\n",
        "  def birthday(self):\n",
        "    self.age=self.age+1\n",
        "\n",
        "p1 = Person(\"geetha\",\"female\")\n",
        "p2 = Person(\"Sachin\",\"male\",19)\n",
        "print(p1)\n",
        "print(p2)\n",
        "p1.birthday()\n",
        "p2.birthday()\n",
        "print(p1)\n",
        "print(p2)"
      ],
      "metadata": {
        "colab": {
          "base_uri": "https://localhost:8080/"
        },
        "id": "T6oNreIzL5cN",
        "outputId": "9f4c1e1c-b4f2-4114-aead-3274b8d76480"
      },
      "execution_count": null,
      "outputs": [
        {
          "output_type": "stream",
          "name": "stdout",
          "text": [
            "objects and created 139978471741008\n",
            "objects and created 139978471739920\n",
            "geetha female 21\n",
            "Sachin male 19\n",
            "geetha female 22\n",
            "Sachin male 20\n"
          ]
        }
      ]
    },
    {
      "cell_type": "code",
      "source": [
        "##claculate the area of a circle\n",
        "\n",
        "class Circle():\n",
        "    def __init__(self, r):\n",
        "        self.radius = r\n",
        "\n",
        "    def area(self):\n",
        "        return self.radius**2*3.14\n",
        "    \n",
        "    def perimeter(self):\n",
        "        return 2*self.radius*3.14\n",
        "\n",
        "object= Circle(10)\n",
        "print(object.area())\n",
        "print(object.perimeter())"
      ],
      "metadata": {
        "colab": {
          "base_uri": "https://localhost:8080/"
        },
        "id": "06Pc_2pGMrBq",
        "outputId": "df6d843b-973f-4e5e-cbbf-8400fd14ab4d"
      },
      "execution_count": null,
      "outputs": [
        {
          "output_type": "stream",
          "name": "stdout",
          "text": [
            "314.0\n",
            "62.800000000000004\n"
          ]
        }
      ]
    },
    {
      "cell_type": "code",
      "source": [
        "\"\"\"1.write a python class display the type of it and display the_-dict__ .\n",
        "2.write a python class to reverse string word by word.\n",
        "3.Create a class called vehicle and child class and as bus tha will inherit all variable and method of vehicle. Class.\n",
        "\n",
        "4.Create a class vehicle and child have methods with private data members and access it .\n",
        "5.Creat a class called bus bike plane truck and inherit all properties of above class in child class called as transport\"\"\"\n",
        "\n",
        "##1.write a python class display the type of it and display the_-dict__ .\n",
        "class myfunc:\n",
        "  def __init__(self):\n",
        "    self.father=\"Riza\"\n",
        "    self.mother=\"Fahima\"\n",
        "    self.son=\"Sarb\"\n",
        "\n",
        "obj1= myfunc()\n",
        "\n",
        "print(type(obj1))\n",
        "print (obj1.__dict__)\n",
        "\n",
        "#2.write a python class to reverse string word by word.#\n",
        "\n",
        "\n",
        "class Reverse:\n",
        "  def __init__(self,word):\n",
        "    self.word=word\n",
        "  def myfunc(self):\n",
        "    return (reversed(self.word.split()))\n",
        "\n",
        "\n",
        "obj= Reverse(\"Riza Bin\")\n",
        "obj1=obj.myfunc()\n",
        "print(\" \".join(list(obj1)))\n",
        "\n",
        "\n",
        "\n",
        "\n",
        "\n",
        "\n",
        "\n",
        "\n",
        "\n"
      ],
      "metadata": {
        "id": "qt_Q0Vlj7acm",
        "outputId": "71f1683e-8120-4f7a-fcb2-11845c6bab8c",
        "colab": {
          "base_uri": "https://localhost:8080/"
        }
      },
      "execution_count": 30,
      "outputs": [
        {
          "output_type": "stream",
          "name": "stdout",
          "text": [
            "<class '__main__.myfunc'>\n",
            "{'father': 'Riza', 'mother': 'Fahima', 'son': 'Sarb'}\n",
            "Bin Riza\n"
          ]
        }
      ]
    },
    {
      "cell_type": "code",
      "source": [
        "##global variable is created outside the function and used inside function\n",
        "\n",
        "tem=0   #creat a reg no serial\n",
        "\n",
        "class Student:\n",
        "  def __init__(self,name,sem=1):  #regno not in arguments in __init__func\n",
        "    global tem\n",
        "    tem=tem+1\n",
        "    self.name=name\n",
        "    self.regno=tem\n",
        "    self.sem=sem\n",
        "    print(\"objects and created\",id(self))\n",
        "  def __del__(self):\n",
        "    print(\"objects are deleted\",id(self))\n",
        "  def __str__(self):\n",
        "    return self.name+\" \"+str(self.regno)+\" \"+str(self.sem)\n",
        "  def promotion(self):\n",
        "    self.sem=self.sem+1\n",
        "obj1= Student(\"Riza\",3)\n",
        "obj2=Student(\"Fahima\",2)\n",
        "\n",
        "print(obj1)\n",
        "print(obj2)\n",
        "\n",
        "obj1.promotion()\n",
        "obj2.promotion()\n",
        "\n",
        "print(obj1)\n",
        "print(obj2)\n",
        "\n"
      ],
      "metadata": {
        "colab": {
          "base_uri": "https://localhost:8080/"
        },
        "id": "6Yn1cbHbQBFz",
        "outputId": "6d26990d-6aa4-444c-ef1e-f31531c6de3d"
      },
      "execution_count": null,
      "outputs": [
        {
          "output_type": "stream",
          "name": "stdout",
          "text": [
            "objects and created 139978471546448\n",
            "objects and created 139978471545360\n",
            "Riza 1 3\n",
            "Fahima 2 2\n",
            "Riza 1 4\n",
            "Fahima 2 3\n",
            "objects are deleted 139978471887952\n",
            "objects are deleted 139978471749008\n"
          ]
        }
      ]
    },
    {
      "cell_type": "code",
      "source": [
        "#class  variable is inside the function\n",
        "\"\"\"here the class variable is inside the class and \n",
        "inside __init__ we will use classname.classvariable\"\"\"\n",
        "\n",
        "class Student:\n",
        "  count=0\n",
        "  def __init__(self,name,sem):  \n",
        "    Student.count=Student.count+1\n",
        "    self.name=name\n",
        "    self.empco=Student.count\n",
        "    self.sem=sem\n",
        "  def __str__(self):\n",
        "    return self.name+\" \"+str(self.empco)+\" \"+str(self.sem)\n",
        "  def total(self):\n",
        "    print(\"Total number of students\",Student.count)\n",
        "obj1= Student(\"Riza\",3)\n",
        "obj2=Student(\"Fahima\",2)\n",
        "\n",
        "print(obj1)\n",
        "print(obj2)\n",
        "\n",
        "obj1.total()"
      ],
      "metadata": {
        "colab": {
          "base_uri": "https://localhost:8080/"
        },
        "id": "V4F6LRzGR1dz",
        "outputId": "b55267b2-a585-475d-c307-e57290d0e802"
      },
      "execution_count": null,
      "outputs": [
        {
          "output_type": "stream",
          "name": "stdout",
          "text": [
            "Riza 1 3\n",
            "Fahima 2 2\n",
            "Total number of students 2\n"
          ]
        }
      ]
    },
    {
      "cell_type": "code",
      "source": [
        "\n",
        "\n",
        "\n",
        "\n",
        "\n",
        "\n",
        "\n",
        "\n",
        "\n",
        "\n",
        "\n",
        "\n",
        "\n",
        "\n",
        "\n",
        "\n",
        "\n",
        "\n",
        "\n",
        "\n",
        "\n",
        "\n",
        "\n",
        "\n",
        "\n",
        "\n",
        "\n"
      ],
      "metadata": {
        "id": "jtz8UJ5oSvlB"
      },
      "execution_count": null,
      "outputs": []
    }
  ]
}