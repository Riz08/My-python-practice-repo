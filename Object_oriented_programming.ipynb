{
  "nbformat": 4,
  "nbformat_minor": 0,
  "metadata": {
    "colab": {
      "name": "Object oriented programming",
      "provenance": [],
      "authorship_tag": "ABX9TyP8qiYqypkguB5vT1exVqZ4",
      "include_colab_link": true
    },
    "kernelspec": {
      "name": "python3",
      "display_name": "Python 3"
    },
    "language_info": {
      "name": "python"
    }
  },
  "cells": [
    {
      "cell_type": "markdown",
      "metadata": {
        "id": "view-in-github",
        "colab_type": "text"
      },
      "source": [
        "<a href=\"https://colab.research.google.com/github/Riz08/My-python-practice-repo/blob/main/Object_oriented_programming.ipynb\" target=\"_parent\"><img src=\"https://colab.research.google.com/assets/colab-badge.svg\" alt=\"Open In Colab\"/></a>"
      ]
    },
    {
      "cell_type": "code",
      "execution_count": 1,
      "metadata": {
        "colab": {
          "base_uri": "https://localhost:8080/"
        },
        "id": "WbpNDGSwMU9W",
        "outputId": "61e81f5e-dbee-4757-9113-c27dd6b5d77e"
      },
      "outputs": [
        {
          "output_type": "stream",
          "name": "stdout",
          "text": [
            "Finland is in Nordic with amount of people 5000 infected\n",
            "Finland Nordic\n"
          ]
        }
      ],
      "source": [
        "#OBJECT ORIENTED PROGRAMMING\n",
        "# from a class many objects can be created\n",
        "# under class a group of data and functionality is put in together under a single unit called class\n",
        "#object is a subclass of a class where class refence is used\n",
        "#attributes are variables that are specific to class \n",
        "class Coronacases:\n",
        "    \n",
        "    \n",
        "    def __init__(self,country,region,amount):\n",
        "        self.country=country\n",
        "        self.region=region\n",
        "        self.amount=amount\n",
        "        self.writting= country+\" is in \" +region+ \" with amount of people \"+ amount +\" infected\"\n",
        "        #we can create new attribute if we use all in it functions and strings\n",
        "        \n",
        "country1= Coronacases(\"Finland\",\"Nordic\",\"5000\")\n",
        "                    #country,region,amount\n",
        "\n",
        "print (country1.writting)\n",
        "\n",
        "\n",
        "\n",
        "##new function\n",
        "\n",
        "class Coronacases:\n",
        "    \n",
        "    \n",
        "    def __init__(self,country,region,amount):\n",
        "        self.country=country\n",
        "        self.region=region\n",
        "        self.amount=amount\n",
        "        self.writting= country+\" is in \" +region+ \" with amount of people \"+ amount +\" infected\"\n",
        "        #we can create new attribute if we use all in it functions and strings\n",
        "        \n",
        "        \n",
        "    def fullname(self):\n",
        "        return \"{} {}\".format(self.country,self.region)\n",
        "        \n",
        "\n",
        "country1= Coronacases(\"Finland\",\"Nordic\",\"5000\")\n",
        "                    #country,region,amount\n",
        "\n",
        "print (country1.fullname()) #need to use () always"
      ]
    },
    {
      "cell_type": "code",
      "source": [
        "class Customerdata :\n",
        "\n",
        "\n",
        "  def __init__(self,name,phonenumber,pieces,spend,gmail):\n",
        "    self.name=name\n",
        "    self.phonenumber=phonenumber\n",
        "    self.pieces=pieces\n",
        "    self.spend=spend\n",
        "    self.gmail=gmail\n",
        "    self.write= name+ \" has bought \"+pieces+\" pieces and spend around \"+spend+ \" euros.His phone number is \"+ phonenumber+\" and gmail ID is \"+ gmail\n",
        "\n",
        "  def check_valuable_customer(self):\n",
        "    if self.spend>\"1300\":\n",
        "      return (\"The customer is valuable\")\n",
        "    else:\n",
        "      return (\"The customer is not regular buyer\")\n",
        "\n",
        "first_customer= Customerdata(\"Riza\",\"0447208261\",\"7\",\"1254\",\"rizabintaher08@gmail.com\")\n",
        "\n",
        "print (first_customer.write)\n",
        "print (first_customer.check_valuable_customer())\n",
        "\n",
        "\n"
      ],
      "metadata": {
        "colab": {
          "base_uri": "https://localhost:8080/"
        },
        "id": "tA-hWzrdMZBb",
        "outputId": "ef69dbd1-bbbb-448c-8f8e-2afe381e5b9a"
      },
      "execution_count": null,
      "outputs": [
        {
          "output_type": "stream",
          "name": "stdout",
          "text": [
            "Riza has bought 7 pieces and spend around 1254 euros.His phone number is 0447208261 and gmail ID is rizabintaher08@gmail.com\n",
            "The customer is not regular buyer\n"
          ]
        }
      ]
    },
    {
      "cell_type": "code",
      "source": [
        "class Country:\n",
        "  def Asia(self):\n",
        "    print(\"India is in Asia\")\n",
        "obj1=Country()\n",
        "obj1.Asia()\n",
        "\n"
      ],
      "metadata": {
        "colab": {
          "base_uri": "https://localhost:8080/"
        },
        "id": "E4IcnlcjjWQ9",
        "outputId": "5313c982-cf61-4269-a64f-7c44c424429e"
      },
      "execution_count": 4,
      "outputs": [
        {
          "output_type": "stream",
          "name": "stdout",
          "text": [
            "India is in Asia\n"
          ]
        }
      ]
    },
    {
      "cell_type": "code",
      "source": [
        "\n",
        "class Dog:\n",
        "  def breed(self):\n",
        "    print(\"Dogs have different types of breed\")\n",
        "\n",
        "obj1= Dog()\n",
        "obj1.breed()\n",
        "\n"
      ],
      "metadata": {
        "id": "dFEIHnnUOyxS",
        "colab": {
          "base_uri": "https://localhost:8080/"
        },
        "outputId": "7c8f216b-5c6e-442e-ead1-4efd895acaca"
      },
      "execution_count": 6,
      "outputs": [
        {
          "output_type": "stream",
          "name": "stdout",
          "text": [
            "Dogs have different types of breed\n"
          ]
        }
      ]
    },
    {
      "cell_type": "code",
      "source": [
        "class Continents:\n",
        "  def __init__(self):\n",
        "    print(\"This function is a constructor function.Whatever object we call it will loop through constructor as many times as many objects we have\")\n",
        "\n",
        "  def Country(self):\n",
        "    print(\"This is not a constructor\")\n",
        "\n",
        "obj1= Continents()\n",
        "obj2= Continents()\n",
        "obj3= Continents()\n",
        "obj4= Continents()\n",
        "\n",
        "obj1.Country()\n",
        "\n",
        "\n",
        "\n",
        "\n",
        "\n",
        "\n",
        "\n",
        "\n",
        "\n",
        "\n"
      ],
      "metadata": {
        "colab": {
          "base_uri": "https://localhost:8080/"
        },
        "id": "5cGVTw1QqWCo",
        "outputId": "b8fa398e-c2cf-4944-9401-2b34bfdd2f6d"
      },
      "execution_count": 8,
      "outputs": [
        {
          "output_type": "stream",
          "name": "stdout",
          "text": [
            "This function is a constructor function.Whatever object we call it will loop through constructor as many times as many objects we have\n",
            "This function is a constructor function.Whatever object we call it will loop through constructor as many times as many objects we have\n",
            "This function is a constructor function.Whatever object we call it will loop through constructor as many times as many objects we have\n",
            "This function is a constructor function.Whatever object we call it will loop through constructor as many times as many objects we have\n",
            "This is not a constructor\n"
          ]
        }
      ]
    },
    {
      "cell_type": "code",
      "source": [
        ""
      ],
      "metadata": {
        "id": "eRbafwKKvHRR"
      },
      "execution_count": null,
      "outputs": []
    }
  ]
}